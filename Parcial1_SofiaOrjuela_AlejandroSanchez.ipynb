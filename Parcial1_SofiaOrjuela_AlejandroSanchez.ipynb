{
  "nbformat": 4,
  "nbformat_minor": 0,
  "metadata": {
    "colab": {
      "provenance": [],
      "collapsed_sections": [],
      "include_colab_link": true
    },
    "kernelspec": {
      "name": "python3",
      "display_name": "Python 3"
    },
    "language_info": {
      "name": "python"
    }
  },
  "cells": [
    {
      "cell_type": "markdown",
      "metadata": {
        "id": "view-in-github",
        "colab_type": "text"
      },
      "source": [
        "<a href=\"https://colab.research.google.com/github/edso2103/Cuadernos/blob/main/Parcial1_SofiaOrjuela_AlejandroSanchez.ipynb\" target=\"_parent\"><img src=\"https://colab.research.google.com/assets/colab-badge.svg\" alt=\"Open In Colab\"/></a>"
      ]
    },
    {
      "cell_type": "markdown",
      "source": [
        "<p align=\"center\">\n",
        "<FONT FACE=\"times new roman\" SIZE=5>\n",
        "<br>\n",
        "<img src=\"https://res-5.cloudinary.com/crunchbase-production/image/upload/c_lpad,h_256,w_256,f_auto,q_auto:eco/v1455514364/pim02bzqvgz0hibsra41.png\"\n",
        "width=\"200\" height=\"200\">\n",
        "</img>\n",
        "<br>\n",
        "<i><b>Asignatura: </b></i>Computación Paralela y Distribuida\n",
        "<br>\n",
        "<i><b>Estudiante: </b></i> Sofía Orjuela y Alejandro Sánchez  \n",
        "<br>\n",
        "<i><b>Tema: </b></i>Parcial 1 Computacion Paralela y Distribuida\n",
        "<br>\n",
        "<i><b>Fecha: </b></i> 10/09/22 \n",
        "<br>\n",
        "</FONT>\n",
        "</p>"
      ],
      "metadata": {
        "id": "O5PW_z9-sRi7"
      }
    },
    {
      "cell_type": "markdown",
      "source": [
        "<FONT FACE=\"times new roman\" SIZE=4> **Paso 1.** *Se importan las correspondientes bibliotecas*"
      ],
      "metadata": {
        "id": "iffzsASKItC5"
      }
    },
    {
      "cell_type": "code",
      "source": [
        "import pandas as pd\n",
        "import numpy as np\n",
        "import matplotlib.pyplot as plt\n",
        "import seaborn as sns"
      ],
      "metadata": {
        "id": "wZ27Bs65pGqy"
      },
      "execution_count": null,
      "outputs": []
    },
    {
      "cell_type": "markdown",
      "source": [
        "<FONT FACE=\"times new roman\" SIZE=4> **Paso 2.** *Se carga el dataset en un objeto pandas \"Dataframe\"*"
      ],
      "metadata": {
        "id": "i21grs3bIvrB"
      }
    },
    {
      "cell_type": "code",
      "source": [
        "#Nodo A: Computador Alejandro\n",
        "#Nodo U: Computador Universidad\n",
        "#Nodo S: Computador Sofia\n",
        "\n",
        "nodoA = pd.read_csv(\"https://raw.githubusercontent.com/AlejandroSanchez01/Parallel_Distributed_Computing/main/PrimerCorte/PrimerParcial/Benchmarks_Entregable/DataSet/NodoA.csv\",delimiter=\";\")\n",
        "nodoU = pd.read_csv(\"https://raw.githubusercontent.com/AlejandroSanchez01/Parallel_Distributed_Computing/main/PrimerCorte/PrimerParcial/Benchmarks_Entregable/DataSet/NodoU.csv\",delimiter=\";\")\n",
        "nodoS = pd.read_csv(\"https://raw.githubusercontent.com/AlejandroSanchez01/Parallel_Distributed_Computing/main/PrimerCorte/PrimerParcial/Benchmarks_Entregable/DataSet/NodoS.csv\",delimiter=\";\")"
      ],
      "metadata": {
        "id": "_4z3s06rpSwC"
      },
      "execution_count": null,
      "outputs": []
    },
    {
      "cell_type": "markdown",
      "source": [
        "<FONT FACE=\"times new roman\" SIZE=4> **Paso 3.** *Se eliminan los valores nulos*"
      ],
      "metadata": {
        "id": "A7yZm4-0JuSc"
      }
    },
    {
      "cell_type": "code",
      "source": [
        "nodoA = nodoA.dropna()\n",
        "nodoU = nodoU.dropna()\n",
        "nodoS = nodoS.dropna()"
      ],
      "metadata": {
        "id": "67wHMtOwC9XK"
      },
      "execution_count": null,
      "outputs": []
    },
    {
      "cell_type": "markdown",
      "source": [
        "<FONT FACE=\"times new roman\" SIZE=4> **Paso 4.** *Se muestran los primeros valores de cada dataset, es decir, de cada nodo*"
      ],
      "metadata": {
        "id": "E-Iro-luKFaH"
      }
    },
    {
      "cell_type": "code",
      "source": [
        "nodoA.head()"
      ],
      "metadata": {
        "id": "TvWBF5ZqpxdF",
        "colab": {
          "base_uri": "https://localhost:8080/",
          "height": 300
        },
        "outputId": "c10d15d5-1aab-452f-b140-bde2ca32747b"
      },
      "execution_count": null,
      "outputs": [
        {
          "output_type": "execute_result",
          "data": {
            "text/plain": [
              "    Int_280   Int_400   Int_600   Int_750   Int_900   Int_1300   Int_1600  \\\n",
              "0  0.089457  0.214364  0.756283  1.516813  2.933273  13.253941  21.877100   \n",
              "1  0.068412  0.203520  0.764651  1.511598  2.919294  12.731837  21.807790   \n",
              "2  0.069409  0.202639  0.727633  1.516550  2.945859  12.757858  21.789448   \n",
              "3  0.068970  0.210196  0.719818  1.574559  2.941461  12.844263  21.844216   \n",
              "4  0.070507  0.221908  0.947126  1.526977  2.954338  12.802047  21.675885   \n",
              "\n",
              "    Int_1900   Int_2300    Int_2600  ...  double_rnd_600  double_rnd_750  \\\n",
              "0  50.139732  91.075808  114.952837  ...        0.864504        2.820105   \n",
              "1  50.392919  91.118126  113.355628  ...        0.871047        2.972137   \n",
              "2  50.253696  91.104488  113.178384  ...        0.869431        3.091191   \n",
              "3  50.415015  91.106132  113.375557  ...        0.883218        2.750714   \n",
              "4  50.084338  91.115787  113.229229  ...        0.861860        2.382843   \n",
              "\n",
              "   double_rnd_900  double_rnd_1300  double_rnd_1600  double_rnd_1900  \\\n",
              "0        4.003566        14.365881        26.535300        52.655534   \n",
              "1        3.953152        13.955404        27.728594        52.708404   \n",
              "2        4.096493        14.151128        26.595974        52.634645   \n",
              "3        4.356555        14.095099        26.523314        52.584855   \n",
              "4        3.943424        13.614144        26.623235        52.622228   \n",
              "\n",
              "   double_rnd_2300  double_rnd_2600  double_rnd_2800  double_rnd_3000  \n",
              "0        96.168878       139.063532       159.182235       197.035159  \n",
              "1        96.563540       122.833512       157.525920       198.676360  \n",
              "2        96.451387       122.751056       157.862415       198.623100  \n",
              "3        96.675895       122.645617       158.366328       196.974471  \n",
              "4        96.312671       122.718688       157.600711       198.609081  \n",
              "\n",
              "[5 rows x 48 columns]"
            ],
            "text/html": [
              "\n",
              "  <div id=\"df-28ce2cba-b778-4478-be18-153dfd81c3b2\">\n",
              "    <div class=\"colab-df-container\">\n",
              "      <div>\n",
              "<style scoped>\n",
              "    .dataframe tbody tr th:only-of-type {\n",
              "        vertical-align: middle;\n",
              "    }\n",
              "\n",
              "    .dataframe tbody tr th {\n",
              "        vertical-align: top;\n",
              "    }\n",
              "\n",
              "    .dataframe thead th {\n",
              "        text-align: right;\n",
              "    }\n",
              "</style>\n",
              "<table border=\"1\" class=\"dataframe\">\n",
              "  <thead>\n",
              "    <tr style=\"text-align: right;\">\n",
              "      <th></th>\n",
              "      <th>Int_280</th>\n",
              "      <th>Int_400</th>\n",
              "      <th>Int_600</th>\n",
              "      <th>Int_750</th>\n",
              "      <th>Int_900</th>\n",
              "      <th>Int_1300</th>\n",
              "      <th>Int_1600</th>\n",
              "      <th>Int_1900</th>\n",
              "      <th>Int_2300</th>\n",
              "      <th>Int_2600</th>\n",
              "      <th>...</th>\n",
              "      <th>double_rnd_600</th>\n",
              "      <th>double_rnd_750</th>\n",
              "      <th>double_rnd_900</th>\n",
              "      <th>double_rnd_1300</th>\n",
              "      <th>double_rnd_1600</th>\n",
              "      <th>double_rnd_1900</th>\n",
              "      <th>double_rnd_2300</th>\n",
              "      <th>double_rnd_2600</th>\n",
              "      <th>double_rnd_2800</th>\n",
              "      <th>double_rnd_3000</th>\n",
              "    </tr>\n",
              "  </thead>\n",
              "  <tbody>\n",
              "    <tr>\n",
              "      <th>0</th>\n",
              "      <td>0.089457</td>\n",
              "      <td>0.214364</td>\n",
              "      <td>0.756283</td>\n",
              "      <td>1.516813</td>\n",
              "      <td>2.933273</td>\n",
              "      <td>13.253941</td>\n",
              "      <td>21.877100</td>\n",
              "      <td>50.139732</td>\n",
              "      <td>91.075808</td>\n",
              "      <td>114.952837</td>\n",
              "      <td>...</td>\n",
              "      <td>0.864504</td>\n",
              "      <td>2.820105</td>\n",
              "      <td>4.003566</td>\n",
              "      <td>14.365881</td>\n",
              "      <td>26.535300</td>\n",
              "      <td>52.655534</td>\n",
              "      <td>96.168878</td>\n",
              "      <td>139.063532</td>\n",
              "      <td>159.182235</td>\n",
              "      <td>197.035159</td>\n",
              "    </tr>\n",
              "    <tr>\n",
              "      <th>1</th>\n",
              "      <td>0.068412</td>\n",
              "      <td>0.203520</td>\n",
              "      <td>0.764651</td>\n",
              "      <td>1.511598</td>\n",
              "      <td>2.919294</td>\n",
              "      <td>12.731837</td>\n",
              "      <td>21.807790</td>\n",
              "      <td>50.392919</td>\n",
              "      <td>91.118126</td>\n",
              "      <td>113.355628</td>\n",
              "      <td>...</td>\n",
              "      <td>0.871047</td>\n",
              "      <td>2.972137</td>\n",
              "      <td>3.953152</td>\n",
              "      <td>13.955404</td>\n",
              "      <td>27.728594</td>\n",
              "      <td>52.708404</td>\n",
              "      <td>96.563540</td>\n",
              "      <td>122.833512</td>\n",
              "      <td>157.525920</td>\n",
              "      <td>198.676360</td>\n",
              "    </tr>\n",
              "    <tr>\n",
              "      <th>2</th>\n",
              "      <td>0.069409</td>\n",
              "      <td>0.202639</td>\n",
              "      <td>0.727633</td>\n",
              "      <td>1.516550</td>\n",
              "      <td>2.945859</td>\n",
              "      <td>12.757858</td>\n",
              "      <td>21.789448</td>\n",
              "      <td>50.253696</td>\n",
              "      <td>91.104488</td>\n",
              "      <td>113.178384</td>\n",
              "      <td>...</td>\n",
              "      <td>0.869431</td>\n",
              "      <td>3.091191</td>\n",
              "      <td>4.096493</td>\n",
              "      <td>14.151128</td>\n",
              "      <td>26.595974</td>\n",
              "      <td>52.634645</td>\n",
              "      <td>96.451387</td>\n",
              "      <td>122.751056</td>\n",
              "      <td>157.862415</td>\n",
              "      <td>198.623100</td>\n",
              "    </tr>\n",
              "    <tr>\n",
              "      <th>3</th>\n",
              "      <td>0.068970</td>\n",
              "      <td>0.210196</td>\n",
              "      <td>0.719818</td>\n",
              "      <td>1.574559</td>\n",
              "      <td>2.941461</td>\n",
              "      <td>12.844263</td>\n",
              "      <td>21.844216</td>\n",
              "      <td>50.415015</td>\n",
              "      <td>91.106132</td>\n",
              "      <td>113.375557</td>\n",
              "      <td>...</td>\n",
              "      <td>0.883218</td>\n",
              "      <td>2.750714</td>\n",
              "      <td>4.356555</td>\n",
              "      <td>14.095099</td>\n",
              "      <td>26.523314</td>\n",
              "      <td>52.584855</td>\n",
              "      <td>96.675895</td>\n",
              "      <td>122.645617</td>\n",
              "      <td>158.366328</td>\n",
              "      <td>196.974471</td>\n",
              "    </tr>\n",
              "    <tr>\n",
              "      <th>4</th>\n",
              "      <td>0.070507</td>\n",
              "      <td>0.221908</td>\n",
              "      <td>0.947126</td>\n",
              "      <td>1.526977</td>\n",
              "      <td>2.954338</td>\n",
              "      <td>12.802047</td>\n",
              "      <td>21.675885</td>\n",
              "      <td>50.084338</td>\n",
              "      <td>91.115787</td>\n",
              "      <td>113.229229</td>\n",
              "      <td>...</td>\n",
              "      <td>0.861860</td>\n",
              "      <td>2.382843</td>\n",
              "      <td>3.943424</td>\n",
              "      <td>13.614144</td>\n",
              "      <td>26.623235</td>\n",
              "      <td>52.622228</td>\n",
              "      <td>96.312671</td>\n",
              "      <td>122.718688</td>\n",
              "      <td>157.600711</td>\n",
              "      <td>198.609081</td>\n",
              "    </tr>\n",
              "  </tbody>\n",
              "</table>\n",
              "<p>5 rows × 48 columns</p>\n",
              "</div>\n",
              "      <button class=\"colab-df-convert\" onclick=\"convertToInteractive('df-28ce2cba-b778-4478-be18-153dfd81c3b2')\"\n",
              "              title=\"Convert this dataframe to an interactive table.\"\n",
              "              style=\"display:none;\">\n",
              "        \n",
              "  <svg xmlns=\"http://www.w3.org/2000/svg\" height=\"24px\"viewBox=\"0 0 24 24\"\n",
              "       width=\"24px\">\n",
              "    <path d=\"M0 0h24v24H0V0z\" fill=\"none\"/>\n",
              "    <path d=\"M18.56 5.44l.94 2.06.94-2.06 2.06-.94-2.06-.94-.94-2.06-.94 2.06-2.06.94zm-11 1L8.5 8.5l.94-2.06 2.06-.94-2.06-.94L8.5 2.5l-.94 2.06-2.06.94zm10 10l.94 2.06.94-2.06 2.06-.94-2.06-.94-.94-2.06-.94 2.06-2.06.94z\"/><path d=\"M17.41 7.96l-1.37-1.37c-.4-.4-.92-.59-1.43-.59-.52 0-1.04.2-1.43.59L10.3 9.45l-7.72 7.72c-.78.78-.78 2.05 0 2.83L4 21.41c.39.39.9.59 1.41.59.51 0 1.02-.2 1.41-.59l7.78-7.78 2.81-2.81c.8-.78.8-2.07 0-2.86zM5.41 20L4 18.59l7.72-7.72 1.47 1.35L5.41 20z\"/>\n",
              "  </svg>\n",
              "      </button>\n",
              "      \n",
              "  <style>\n",
              "    .colab-df-container {\n",
              "      display:flex;\n",
              "      flex-wrap:wrap;\n",
              "      gap: 12px;\n",
              "    }\n",
              "\n",
              "    .colab-df-convert {\n",
              "      background-color: #E8F0FE;\n",
              "      border: none;\n",
              "      border-radius: 50%;\n",
              "      cursor: pointer;\n",
              "      display: none;\n",
              "      fill: #1967D2;\n",
              "      height: 32px;\n",
              "      padding: 0 0 0 0;\n",
              "      width: 32px;\n",
              "    }\n",
              "\n",
              "    .colab-df-convert:hover {\n",
              "      background-color: #E2EBFA;\n",
              "      box-shadow: 0px 1px 2px rgba(60, 64, 67, 0.3), 0px 1px 3px 1px rgba(60, 64, 67, 0.15);\n",
              "      fill: #174EA6;\n",
              "    }\n",
              "\n",
              "    [theme=dark] .colab-df-convert {\n",
              "      background-color: #3B4455;\n",
              "      fill: #D2E3FC;\n",
              "    }\n",
              "\n",
              "    [theme=dark] .colab-df-convert:hover {\n",
              "      background-color: #434B5C;\n",
              "      box-shadow: 0px 1px 3px 1px rgba(0, 0, 0, 0.15);\n",
              "      filter: drop-shadow(0px 1px 2px rgba(0, 0, 0, 0.3));\n",
              "      fill: #FFFFFF;\n",
              "    }\n",
              "  </style>\n",
              "\n",
              "      <script>\n",
              "        const buttonEl =\n",
              "          document.querySelector('#df-28ce2cba-b778-4478-be18-153dfd81c3b2 button.colab-df-convert');\n",
              "        buttonEl.style.display =\n",
              "          google.colab.kernel.accessAllowed ? 'block' : 'none';\n",
              "\n",
              "        async function convertToInteractive(key) {\n",
              "          const element = document.querySelector('#df-28ce2cba-b778-4478-be18-153dfd81c3b2');\n",
              "          const dataTable =\n",
              "            await google.colab.kernel.invokeFunction('convertToInteractive',\n",
              "                                                     [key], {});\n",
              "          if (!dataTable) return;\n",
              "\n",
              "          const docLinkHtml = 'Like what you see? Visit the ' +\n",
              "            '<a target=\"_blank\" href=https://colab.research.google.com/notebooks/data_table.ipynb>data table notebook</a>'\n",
              "            + ' to learn more about interactive tables.';\n",
              "          element.innerHTML = '';\n",
              "          dataTable['output_type'] = 'display_data';\n",
              "          await google.colab.output.renderOutput(dataTable, element);\n",
              "          const docLink = document.createElement('div');\n",
              "          docLink.innerHTML = docLinkHtml;\n",
              "          element.appendChild(docLink);\n",
              "        }\n",
              "      </script>\n",
              "    </div>\n",
              "  </div>\n",
              "  "
            ]
          },
          "metadata": {},
          "execution_count": 65
        }
      ]
    },
    {
      "cell_type": "code",
      "source": [
        "nodoU.head()"
      ],
      "metadata": {
        "id": "aXLjk6YLqAGt",
        "colab": {
          "base_uri": "https://localhost:8080/",
          "height": 300
        },
        "outputId": "2ece38bf-2987-47f8-e6a0-6576414ed080"
      },
      "execution_count": null,
      "outputs": [
        {
          "output_type": "execute_result",
          "data": {
            "text/plain": [
              "    Int_280   Int_400   Int_600   Int_750   Int_900  Int_1300   Int_1600  \\\n",
              "0  0.054879  0.131746  0.458656  0.947344  1.613019  5.946104  13.880988   \n",
              "1  0.044622  0.131845  0.457731  0.951957  1.626362  5.792503  13.580404   \n",
              "2  0.043552  0.130826  0.458362  0.943952  1.628518  5.694576  13.900215   \n",
              "3  0.043535  0.131344  0.459118  0.943221  1.625588  5.628374  13.621265   \n",
              "4  0.043588  0.130563  0.458504  0.944328  1.633469  5.820211  13.856442   \n",
              "\n",
              "    Int_1900   Int_2300   Int_2600  ...  double_rnd_600  double_rnd_750  \\\n",
              "0  27.697990  61.481598  90.699212  ...        0.495414        1.103049   \n",
              "1  24.753761  61.634559  90.525371  ...        0.494812        1.037065   \n",
              "2  24.837398  61.302105  89.877324  ...        0.495528        1.033822   \n",
              "3  24.715370  60.936823  91.174704  ...        0.494737        1.033321   \n",
              "4  24.806104  61.318879  89.522310  ...        0.495265        1.035504   \n",
              "\n",
              "   double_rnd_900  double_rnd_1300  double_rnd_1600  double_rnd_1900  \\\n",
              "0        1.766369         6.440286        20.337324        43.053794   \n",
              "1        1.753064         6.433281        20.328208        41.794506   \n",
              "2        1.759164         6.375481        20.286136        41.671779   \n",
              "3        1.753537         6.392039        20.120594        42.647041   \n",
              "4        1.762444         6.383206        20.359603        41.684788   \n",
              "\n",
              "   double_rnd_2300  double_rnd_2600  double_rnd_2800  double_rnd_3000  \n",
              "0        80.177113       100.648341       125.771527       163.240826  \n",
              "1        79.047818       100.578349       125.877546       161.722552  \n",
              "2        79.195843       100.321697       127.337304       163.240826  \n",
              "3        78.274888       102.866835       127.377309       161.722552  \n",
              "4        77.925309       101.917443       126.472570       161.045088  \n",
              "\n",
              "[5 rows x 48 columns]"
            ],
            "text/html": [
              "\n",
              "  <div id=\"df-2092fffe-5032-4eae-90e4-c6d0e70eb198\">\n",
              "    <div class=\"colab-df-container\">\n",
              "      <div>\n",
              "<style scoped>\n",
              "    .dataframe tbody tr th:only-of-type {\n",
              "        vertical-align: middle;\n",
              "    }\n",
              "\n",
              "    .dataframe tbody tr th {\n",
              "        vertical-align: top;\n",
              "    }\n",
              "\n",
              "    .dataframe thead th {\n",
              "        text-align: right;\n",
              "    }\n",
              "</style>\n",
              "<table border=\"1\" class=\"dataframe\">\n",
              "  <thead>\n",
              "    <tr style=\"text-align: right;\">\n",
              "      <th></th>\n",
              "      <th>Int_280</th>\n",
              "      <th>Int_400</th>\n",
              "      <th>Int_600</th>\n",
              "      <th>Int_750</th>\n",
              "      <th>Int_900</th>\n",
              "      <th>Int_1300</th>\n",
              "      <th>Int_1600</th>\n",
              "      <th>Int_1900</th>\n",
              "      <th>Int_2300</th>\n",
              "      <th>Int_2600</th>\n",
              "      <th>...</th>\n",
              "      <th>double_rnd_600</th>\n",
              "      <th>double_rnd_750</th>\n",
              "      <th>double_rnd_900</th>\n",
              "      <th>double_rnd_1300</th>\n",
              "      <th>double_rnd_1600</th>\n",
              "      <th>double_rnd_1900</th>\n",
              "      <th>double_rnd_2300</th>\n",
              "      <th>double_rnd_2600</th>\n",
              "      <th>double_rnd_2800</th>\n",
              "      <th>double_rnd_3000</th>\n",
              "    </tr>\n",
              "  </thead>\n",
              "  <tbody>\n",
              "    <tr>\n",
              "      <th>0</th>\n",
              "      <td>0.054879</td>\n",
              "      <td>0.131746</td>\n",
              "      <td>0.458656</td>\n",
              "      <td>0.947344</td>\n",
              "      <td>1.613019</td>\n",
              "      <td>5.946104</td>\n",
              "      <td>13.880988</td>\n",
              "      <td>27.697990</td>\n",
              "      <td>61.481598</td>\n",
              "      <td>90.699212</td>\n",
              "      <td>...</td>\n",
              "      <td>0.495414</td>\n",
              "      <td>1.103049</td>\n",
              "      <td>1.766369</td>\n",
              "      <td>6.440286</td>\n",
              "      <td>20.337324</td>\n",
              "      <td>43.053794</td>\n",
              "      <td>80.177113</td>\n",
              "      <td>100.648341</td>\n",
              "      <td>125.771527</td>\n",
              "      <td>163.240826</td>\n",
              "    </tr>\n",
              "    <tr>\n",
              "      <th>1</th>\n",
              "      <td>0.044622</td>\n",
              "      <td>0.131845</td>\n",
              "      <td>0.457731</td>\n",
              "      <td>0.951957</td>\n",
              "      <td>1.626362</td>\n",
              "      <td>5.792503</td>\n",
              "      <td>13.580404</td>\n",
              "      <td>24.753761</td>\n",
              "      <td>61.634559</td>\n",
              "      <td>90.525371</td>\n",
              "      <td>...</td>\n",
              "      <td>0.494812</td>\n",
              "      <td>1.037065</td>\n",
              "      <td>1.753064</td>\n",
              "      <td>6.433281</td>\n",
              "      <td>20.328208</td>\n",
              "      <td>41.794506</td>\n",
              "      <td>79.047818</td>\n",
              "      <td>100.578349</td>\n",
              "      <td>125.877546</td>\n",
              "      <td>161.722552</td>\n",
              "    </tr>\n",
              "    <tr>\n",
              "      <th>2</th>\n",
              "      <td>0.043552</td>\n",
              "      <td>0.130826</td>\n",
              "      <td>0.458362</td>\n",
              "      <td>0.943952</td>\n",
              "      <td>1.628518</td>\n",
              "      <td>5.694576</td>\n",
              "      <td>13.900215</td>\n",
              "      <td>24.837398</td>\n",
              "      <td>61.302105</td>\n",
              "      <td>89.877324</td>\n",
              "      <td>...</td>\n",
              "      <td>0.495528</td>\n",
              "      <td>1.033822</td>\n",
              "      <td>1.759164</td>\n",
              "      <td>6.375481</td>\n",
              "      <td>20.286136</td>\n",
              "      <td>41.671779</td>\n",
              "      <td>79.195843</td>\n",
              "      <td>100.321697</td>\n",
              "      <td>127.337304</td>\n",
              "      <td>163.240826</td>\n",
              "    </tr>\n",
              "    <tr>\n",
              "      <th>3</th>\n",
              "      <td>0.043535</td>\n",
              "      <td>0.131344</td>\n",
              "      <td>0.459118</td>\n",
              "      <td>0.943221</td>\n",
              "      <td>1.625588</td>\n",
              "      <td>5.628374</td>\n",
              "      <td>13.621265</td>\n",
              "      <td>24.715370</td>\n",
              "      <td>60.936823</td>\n",
              "      <td>91.174704</td>\n",
              "      <td>...</td>\n",
              "      <td>0.494737</td>\n",
              "      <td>1.033321</td>\n",
              "      <td>1.753537</td>\n",
              "      <td>6.392039</td>\n",
              "      <td>20.120594</td>\n",
              "      <td>42.647041</td>\n",
              "      <td>78.274888</td>\n",
              "      <td>102.866835</td>\n",
              "      <td>127.377309</td>\n",
              "      <td>161.722552</td>\n",
              "    </tr>\n",
              "    <tr>\n",
              "      <th>4</th>\n",
              "      <td>0.043588</td>\n",
              "      <td>0.130563</td>\n",
              "      <td>0.458504</td>\n",
              "      <td>0.944328</td>\n",
              "      <td>1.633469</td>\n",
              "      <td>5.820211</td>\n",
              "      <td>13.856442</td>\n",
              "      <td>24.806104</td>\n",
              "      <td>61.318879</td>\n",
              "      <td>89.522310</td>\n",
              "      <td>...</td>\n",
              "      <td>0.495265</td>\n",
              "      <td>1.035504</td>\n",
              "      <td>1.762444</td>\n",
              "      <td>6.383206</td>\n",
              "      <td>20.359603</td>\n",
              "      <td>41.684788</td>\n",
              "      <td>77.925309</td>\n",
              "      <td>101.917443</td>\n",
              "      <td>126.472570</td>\n",
              "      <td>161.045088</td>\n",
              "    </tr>\n",
              "  </tbody>\n",
              "</table>\n",
              "<p>5 rows × 48 columns</p>\n",
              "</div>\n",
              "      <button class=\"colab-df-convert\" onclick=\"convertToInteractive('df-2092fffe-5032-4eae-90e4-c6d0e70eb198')\"\n",
              "              title=\"Convert this dataframe to an interactive table.\"\n",
              "              style=\"display:none;\">\n",
              "        \n",
              "  <svg xmlns=\"http://www.w3.org/2000/svg\" height=\"24px\"viewBox=\"0 0 24 24\"\n",
              "       width=\"24px\">\n",
              "    <path d=\"M0 0h24v24H0V0z\" fill=\"none\"/>\n",
              "    <path d=\"M18.56 5.44l.94 2.06.94-2.06 2.06-.94-2.06-.94-.94-2.06-.94 2.06-2.06.94zm-11 1L8.5 8.5l.94-2.06 2.06-.94-2.06-.94L8.5 2.5l-.94 2.06-2.06.94zm10 10l.94 2.06.94-2.06 2.06-.94-2.06-.94-.94-2.06-.94 2.06-2.06.94z\"/><path d=\"M17.41 7.96l-1.37-1.37c-.4-.4-.92-.59-1.43-.59-.52 0-1.04.2-1.43.59L10.3 9.45l-7.72 7.72c-.78.78-.78 2.05 0 2.83L4 21.41c.39.39.9.59 1.41.59.51 0 1.02-.2 1.41-.59l7.78-7.78 2.81-2.81c.8-.78.8-2.07 0-2.86zM5.41 20L4 18.59l7.72-7.72 1.47 1.35L5.41 20z\"/>\n",
              "  </svg>\n",
              "      </button>\n",
              "      \n",
              "  <style>\n",
              "    .colab-df-container {\n",
              "      display:flex;\n",
              "      flex-wrap:wrap;\n",
              "      gap: 12px;\n",
              "    }\n",
              "\n",
              "    .colab-df-convert {\n",
              "      background-color: #E8F0FE;\n",
              "      border: none;\n",
              "      border-radius: 50%;\n",
              "      cursor: pointer;\n",
              "      display: none;\n",
              "      fill: #1967D2;\n",
              "      height: 32px;\n",
              "      padding: 0 0 0 0;\n",
              "      width: 32px;\n",
              "    }\n",
              "\n",
              "    .colab-df-convert:hover {\n",
              "      background-color: #E2EBFA;\n",
              "      box-shadow: 0px 1px 2px rgba(60, 64, 67, 0.3), 0px 1px 3px 1px rgba(60, 64, 67, 0.15);\n",
              "      fill: #174EA6;\n",
              "    }\n",
              "\n",
              "    [theme=dark] .colab-df-convert {\n",
              "      background-color: #3B4455;\n",
              "      fill: #D2E3FC;\n",
              "    }\n",
              "\n",
              "    [theme=dark] .colab-df-convert:hover {\n",
              "      background-color: #434B5C;\n",
              "      box-shadow: 0px 1px 3px 1px rgba(0, 0, 0, 0.15);\n",
              "      filter: drop-shadow(0px 1px 2px rgba(0, 0, 0, 0.3));\n",
              "      fill: #FFFFFF;\n",
              "    }\n",
              "  </style>\n",
              "\n",
              "      <script>\n",
              "        const buttonEl =\n",
              "          document.querySelector('#df-2092fffe-5032-4eae-90e4-c6d0e70eb198 button.colab-df-convert');\n",
              "        buttonEl.style.display =\n",
              "          google.colab.kernel.accessAllowed ? 'block' : 'none';\n",
              "\n",
              "        async function convertToInteractive(key) {\n",
              "          const element = document.querySelector('#df-2092fffe-5032-4eae-90e4-c6d0e70eb198');\n",
              "          const dataTable =\n",
              "            await google.colab.kernel.invokeFunction('convertToInteractive',\n",
              "                                                     [key], {});\n",
              "          if (!dataTable) return;\n",
              "\n",
              "          const docLinkHtml = 'Like what you see? Visit the ' +\n",
              "            '<a target=\"_blank\" href=https://colab.research.google.com/notebooks/data_table.ipynb>data table notebook</a>'\n",
              "            + ' to learn more about interactive tables.';\n",
              "          element.innerHTML = '';\n",
              "          dataTable['output_type'] = 'display_data';\n",
              "          await google.colab.output.renderOutput(dataTable, element);\n",
              "          const docLink = document.createElement('div');\n",
              "          docLink.innerHTML = docLinkHtml;\n",
              "          element.appendChild(docLink);\n",
              "        }\n",
              "      </script>\n",
              "    </div>\n",
              "  </div>\n",
              "  "
            ]
          },
          "metadata": {},
          "execution_count": 66
        }
      ]
    },
    {
      "cell_type": "code",
      "source": [
        "nodoS.head()"
      ],
      "metadata": {
        "id": "pRlVMKUs2GdJ",
        "colab": {
          "base_uri": "https://localhost:8080/",
          "height": 300
        },
        "outputId": "4ec08af6-dbc3-47c1-9b01-529a503e5f70"
      },
      "execution_count": null,
      "outputs": [
        {
          "output_type": "execute_result",
          "data": {
            "text/plain": [
              "    Int_280   Int_400   Int_600   Int_750   Int_900   Int_1300   Int_1600  \\\n",
              "0  0.083896  0.244597  0.873723  1.776340  3.080390  10.764604  26.818440   \n",
              "1  0.083355  0.244330  0.873011  1.776724  3.077172  10.486710  26.589690   \n",
              "2  0.083407  0.243907  0.871400  1.776167  3.071608  10.628705  26.682427   \n",
              "3  0.083545  0.243536  0.874472  1.784445  3.065884  10.682150  27.075828   \n",
              "4  0.083796  0.244500  0.873205  1.775463  3.078483  10.712663  27.059719   \n",
              "\n",
              "    Int_1900    Int_2300    Int_2600  ...  double_rnd_600  double_rnd_750  \\\n",
              "0  56.676640  103.781894  134.663363  ...        0.945762        2.222907   \n",
              "1  56.334402  103.072298  134.647674  ...        0.946143        2.274291   \n",
              "2  56.488173  103.197375  134.745513  ...        0.930290        2.526334   \n",
              "3  56.604491  103.292830  134.862027  ...        0.975775        2.140871   \n",
              "4  56.803936  103.071445  134.360363  ...        0.961398        2.004370   \n",
              "\n",
              "   double_rnd_900  double_rnd_1300  double_rnd_1600  double_rnd_1900  \\\n",
              "0        3.711500        16.109850        31.168469        59.678236   \n",
              "1        3.805419        16.124348        31.200342        59.551771   \n",
              "2        3.648263        15.510126        31.115335        59.962573   \n",
              "3        3.616988        15.684750        31.198480        59.785446   \n",
              "4        3.595347        16.139580        31.189195        59.795766   \n",
              "\n",
              "   double_rnd_2300  double_rnd_2600  double_rnd_2800  double_rnd_3000  \n",
              "0       109.896219       148.134965       186.012294       237.545874  \n",
              "1       110.169815       148.392131       185.761686       234.988926  \n",
              "2       109.644369       148.026159       184.788773       236.623357  \n",
              "3       110.023936       147.750554       186.478911       233.890138  \n",
              "4       109.668018       147.744158       186.603554       233.659121  \n",
              "\n",
              "[5 rows x 48 columns]"
            ],
            "text/html": [
              "\n",
              "  <div id=\"df-957fcadc-e4b0-4566-90c8-82429043c81c\">\n",
              "    <div class=\"colab-df-container\">\n",
              "      <div>\n",
              "<style scoped>\n",
              "    .dataframe tbody tr th:only-of-type {\n",
              "        vertical-align: middle;\n",
              "    }\n",
              "\n",
              "    .dataframe tbody tr th {\n",
              "        vertical-align: top;\n",
              "    }\n",
              "\n",
              "    .dataframe thead th {\n",
              "        text-align: right;\n",
              "    }\n",
              "</style>\n",
              "<table border=\"1\" class=\"dataframe\">\n",
              "  <thead>\n",
              "    <tr style=\"text-align: right;\">\n",
              "      <th></th>\n",
              "      <th>Int_280</th>\n",
              "      <th>Int_400</th>\n",
              "      <th>Int_600</th>\n",
              "      <th>Int_750</th>\n",
              "      <th>Int_900</th>\n",
              "      <th>Int_1300</th>\n",
              "      <th>Int_1600</th>\n",
              "      <th>Int_1900</th>\n",
              "      <th>Int_2300</th>\n",
              "      <th>Int_2600</th>\n",
              "      <th>...</th>\n",
              "      <th>double_rnd_600</th>\n",
              "      <th>double_rnd_750</th>\n",
              "      <th>double_rnd_900</th>\n",
              "      <th>double_rnd_1300</th>\n",
              "      <th>double_rnd_1600</th>\n",
              "      <th>double_rnd_1900</th>\n",
              "      <th>double_rnd_2300</th>\n",
              "      <th>double_rnd_2600</th>\n",
              "      <th>double_rnd_2800</th>\n",
              "      <th>double_rnd_3000</th>\n",
              "    </tr>\n",
              "  </thead>\n",
              "  <tbody>\n",
              "    <tr>\n",
              "      <th>0</th>\n",
              "      <td>0.083896</td>\n",
              "      <td>0.244597</td>\n",
              "      <td>0.873723</td>\n",
              "      <td>1.776340</td>\n",
              "      <td>3.080390</td>\n",
              "      <td>10.764604</td>\n",
              "      <td>26.818440</td>\n",
              "      <td>56.676640</td>\n",
              "      <td>103.781894</td>\n",
              "      <td>134.663363</td>\n",
              "      <td>...</td>\n",
              "      <td>0.945762</td>\n",
              "      <td>2.222907</td>\n",
              "      <td>3.711500</td>\n",
              "      <td>16.109850</td>\n",
              "      <td>31.168469</td>\n",
              "      <td>59.678236</td>\n",
              "      <td>109.896219</td>\n",
              "      <td>148.134965</td>\n",
              "      <td>186.012294</td>\n",
              "      <td>237.545874</td>\n",
              "    </tr>\n",
              "    <tr>\n",
              "      <th>1</th>\n",
              "      <td>0.083355</td>\n",
              "      <td>0.244330</td>\n",
              "      <td>0.873011</td>\n",
              "      <td>1.776724</td>\n",
              "      <td>3.077172</td>\n",
              "      <td>10.486710</td>\n",
              "      <td>26.589690</td>\n",
              "      <td>56.334402</td>\n",
              "      <td>103.072298</td>\n",
              "      <td>134.647674</td>\n",
              "      <td>...</td>\n",
              "      <td>0.946143</td>\n",
              "      <td>2.274291</td>\n",
              "      <td>3.805419</td>\n",
              "      <td>16.124348</td>\n",
              "      <td>31.200342</td>\n",
              "      <td>59.551771</td>\n",
              "      <td>110.169815</td>\n",
              "      <td>148.392131</td>\n",
              "      <td>185.761686</td>\n",
              "      <td>234.988926</td>\n",
              "    </tr>\n",
              "    <tr>\n",
              "      <th>2</th>\n",
              "      <td>0.083407</td>\n",
              "      <td>0.243907</td>\n",
              "      <td>0.871400</td>\n",
              "      <td>1.776167</td>\n",
              "      <td>3.071608</td>\n",
              "      <td>10.628705</td>\n",
              "      <td>26.682427</td>\n",
              "      <td>56.488173</td>\n",
              "      <td>103.197375</td>\n",
              "      <td>134.745513</td>\n",
              "      <td>...</td>\n",
              "      <td>0.930290</td>\n",
              "      <td>2.526334</td>\n",
              "      <td>3.648263</td>\n",
              "      <td>15.510126</td>\n",
              "      <td>31.115335</td>\n",
              "      <td>59.962573</td>\n",
              "      <td>109.644369</td>\n",
              "      <td>148.026159</td>\n",
              "      <td>184.788773</td>\n",
              "      <td>236.623357</td>\n",
              "    </tr>\n",
              "    <tr>\n",
              "      <th>3</th>\n",
              "      <td>0.083545</td>\n",
              "      <td>0.243536</td>\n",
              "      <td>0.874472</td>\n",
              "      <td>1.784445</td>\n",
              "      <td>3.065884</td>\n",
              "      <td>10.682150</td>\n",
              "      <td>27.075828</td>\n",
              "      <td>56.604491</td>\n",
              "      <td>103.292830</td>\n",
              "      <td>134.862027</td>\n",
              "      <td>...</td>\n",
              "      <td>0.975775</td>\n",
              "      <td>2.140871</td>\n",
              "      <td>3.616988</td>\n",
              "      <td>15.684750</td>\n",
              "      <td>31.198480</td>\n",
              "      <td>59.785446</td>\n",
              "      <td>110.023936</td>\n",
              "      <td>147.750554</td>\n",
              "      <td>186.478911</td>\n",
              "      <td>233.890138</td>\n",
              "    </tr>\n",
              "    <tr>\n",
              "      <th>4</th>\n",
              "      <td>0.083796</td>\n",
              "      <td>0.244500</td>\n",
              "      <td>0.873205</td>\n",
              "      <td>1.775463</td>\n",
              "      <td>3.078483</td>\n",
              "      <td>10.712663</td>\n",
              "      <td>27.059719</td>\n",
              "      <td>56.803936</td>\n",
              "      <td>103.071445</td>\n",
              "      <td>134.360363</td>\n",
              "      <td>...</td>\n",
              "      <td>0.961398</td>\n",
              "      <td>2.004370</td>\n",
              "      <td>3.595347</td>\n",
              "      <td>16.139580</td>\n",
              "      <td>31.189195</td>\n",
              "      <td>59.795766</td>\n",
              "      <td>109.668018</td>\n",
              "      <td>147.744158</td>\n",
              "      <td>186.603554</td>\n",
              "      <td>233.659121</td>\n",
              "    </tr>\n",
              "  </tbody>\n",
              "</table>\n",
              "<p>5 rows × 48 columns</p>\n",
              "</div>\n",
              "      <button class=\"colab-df-convert\" onclick=\"convertToInteractive('df-957fcadc-e4b0-4566-90c8-82429043c81c')\"\n",
              "              title=\"Convert this dataframe to an interactive table.\"\n",
              "              style=\"display:none;\">\n",
              "        \n",
              "  <svg xmlns=\"http://www.w3.org/2000/svg\" height=\"24px\"viewBox=\"0 0 24 24\"\n",
              "       width=\"24px\">\n",
              "    <path d=\"M0 0h24v24H0V0z\" fill=\"none\"/>\n",
              "    <path d=\"M18.56 5.44l.94 2.06.94-2.06 2.06-.94-2.06-.94-.94-2.06-.94 2.06-2.06.94zm-11 1L8.5 8.5l.94-2.06 2.06-.94-2.06-.94L8.5 2.5l-.94 2.06-2.06.94zm10 10l.94 2.06.94-2.06 2.06-.94-2.06-.94-.94-2.06-.94 2.06-2.06.94z\"/><path d=\"M17.41 7.96l-1.37-1.37c-.4-.4-.92-.59-1.43-.59-.52 0-1.04.2-1.43.59L10.3 9.45l-7.72 7.72c-.78.78-.78 2.05 0 2.83L4 21.41c.39.39.9.59 1.41.59.51 0 1.02-.2 1.41-.59l7.78-7.78 2.81-2.81c.8-.78.8-2.07 0-2.86zM5.41 20L4 18.59l7.72-7.72 1.47 1.35L5.41 20z\"/>\n",
              "  </svg>\n",
              "      </button>\n",
              "      \n",
              "  <style>\n",
              "    .colab-df-container {\n",
              "      display:flex;\n",
              "      flex-wrap:wrap;\n",
              "      gap: 12px;\n",
              "    }\n",
              "\n",
              "    .colab-df-convert {\n",
              "      background-color: #E8F0FE;\n",
              "      border: none;\n",
              "      border-radius: 50%;\n",
              "      cursor: pointer;\n",
              "      display: none;\n",
              "      fill: #1967D2;\n",
              "      height: 32px;\n",
              "      padding: 0 0 0 0;\n",
              "      width: 32px;\n",
              "    }\n",
              "\n",
              "    .colab-df-convert:hover {\n",
              "      background-color: #E2EBFA;\n",
              "      box-shadow: 0px 1px 2px rgba(60, 64, 67, 0.3), 0px 1px 3px 1px rgba(60, 64, 67, 0.15);\n",
              "      fill: #174EA6;\n",
              "    }\n",
              "\n",
              "    [theme=dark] .colab-df-convert {\n",
              "      background-color: #3B4455;\n",
              "      fill: #D2E3FC;\n",
              "    }\n",
              "\n",
              "    [theme=dark] .colab-df-convert:hover {\n",
              "      background-color: #434B5C;\n",
              "      box-shadow: 0px 1px 3px 1px rgba(0, 0, 0, 0.15);\n",
              "      filter: drop-shadow(0px 1px 2px rgba(0, 0, 0, 0.3));\n",
              "      fill: #FFFFFF;\n",
              "    }\n",
              "  </style>\n",
              "\n",
              "      <script>\n",
              "        const buttonEl =\n",
              "          document.querySelector('#df-957fcadc-e4b0-4566-90c8-82429043c81c button.colab-df-convert');\n",
              "        buttonEl.style.display =\n",
              "          google.colab.kernel.accessAllowed ? 'block' : 'none';\n",
              "\n",
              "        async function convertToInteractive(key) {\n",
              "          const element = document.querySelector('#df-957fcadc-e4b0-4566-90c8-82429043c81c');\n",
              "          const dataTable =\n",
              "            await google.colab.kernel.invokeFunction('convertToInteractive',\n",
              "                                                     [key], {});\n",
              "          if (!dataTable) return;\n",
              "\n",
              "          const docLinkHtml = 'Like what you see? Visit the ' +\n",
              "            '<a target=\"_blank\" href=https://colab.research.google.com/notebooks/data_table.ipynb>data table notebook</a>'\n",
              "            + ' to learn more about interactive tables.';\n",
              "          element.innerHTML = '';\n",
              "          dataTable['output_type'] = 'display_data';\n",
              "          await google.colab.output.renderOutput(dataTable, element);\n",
              "          const docLink = document.createElement('div');\n",
              "          docLink.innerHTML = docLinkHtml;\n",
              "          element.appendChild(docLink);\n",
              "        }\n",
              "      </script>\n",
              "    </div>\n",
              "  </div>\n",
              "  "
            ]
          },
          "metadata": {},
          "execution_count": 67
        }
      ]
    },
    {
      "cell_type": "markdown",
      "source": [
        "<FONT FACE=\"times new roman\" SIZE=4> **Paso 5.** *Se halla el promedio, redondeado a 3 digitos, de cada columna (Int_280, Int_400, Int_Rand_280, Int_Rand_400,double_280, double_400, double_rand_280, double_rand_400, etc) para cada nodo.*"
      ],
      "metadata": {
        "id": "QVp9r-_OK1RT"
      }
    },
    {
      "cell_type": "code",
      "source": [
        "nodoA_Promedio = pd.DataFrame(round(nodoA.describe().loc[\"mean\"],3))\n",
        "nodoA_Promedio_ = nodoA_Promedio.copy()\n",
        "nodoA_Promedio.reset_index(inplace=True, drop=True)\n",
        "\n",
        "nodoU_Promedio = pd.DataFrame(round(nodoU.describe().loc[\"mean\"],3))\n",
        "nodoU_Promedio_ = nodoU_Promedio.copy()\n",
        "nodoU_Promedio.reset_index(inplace=True, drop=True)\n",
        "\n",
        "nodoS_Promedio = pd.DataFrame(round(nodoS.describe().loc[\"mean\"],3))\n",
        "nodoS_Promedio_ = nodoS_Promedio.copy()\n",
        "nodoS_Promedio.reset_index(inplace=True, drop=True)\n"
      ],
      "metadata": {
        "id": "BOH52LxNsuqR"
      },
      "execution_count": null,
      "outputs": []
    },
    {
      "cell_type": "markdown",
      "source": [
        "<FONT FACE=\"times new roman\" SIZE=4> **Paso 6.** *Se separan los promedios de cada nodo, en cuatro variables, según el tipo de algoritmo al que corresponden(int, int_rand, double, double_rand)*"
      ],
      "metadata": {
        "id": "cTjUShKYNBEW"
      }
    },
    {
      "cell_type": "code",
      "source": [
        "nodoA_PromedioInt = nodoA_Promedio.iloc[0:12,:]\n",
        "nodoA_PromedioIntRnd = nodoA_Promedio.iloc[12:24,:]\n",
        "nodoA_PromedioDouble = nodoA_Promedio.iloc[24:36,:]\n",
        "nodoA_PromedioDoubleRnd = nodoA_Promedio.iloc[36:48,:]"
      ],
      "metadata": {
        "id": "Qu_sl5QKxvKL"
      },
      "execution_count": null,
      "outputs": []
    },
    {
      "cell_type": "code",
      "source": [
        "nodoU_PromedioInt = nodoU_Promedio.iloc[0:12,:]\n",
        "nodoU_PromedioIntRnd = nodoU_Promedio.iloc[12:24,:]\n",
        "nodoU_PromedioDouble = nodoU_Promedio.iloc[24:36,:]\n",
        "nodoU_PromedioDoubleRnd = nodoU_Promedio.iloc[36:48,:]"
      ],
      "metadata": {
        "id": "-xa-WnjUys-e"
      },
      "execution_count": null,
      "outputs": []
    },
    {
      "cell_type": "code",
      "source": [
        "nodoS_PromedioInt = nodoS_Promedio.iloc[0:12,:]\n",
        "nodoS_PromedioIntRnd = nodoS_Promedio.iloc[12:24,:]\n",
        "nodoS_PromedioDouble = nodoS_Promedio.iloc[24:36,:]\n",
        "nodoS_PromedioDoubleRnd = nodoS_Promedio.iloc[36:48,:]"
      ],
      "metadata": {
        "id": "7F84HYiy2MgD"
      },
      "execution_count": null,
      "outputs": []
    },
    {
      "cell_type": "markdown",
      "source": [
        "<FONT FACE=\"times new roman\" SIZE=4> **Paso 7.** *Se crea una lista con las doce cargas para cada uno de los tres nodos. Esto para poder graficar posteriormente los datos.*"
      ],
      "metadata": {
        "id": "1yCb7vUNOCAs"
      }
    },
    {
      "cell_type": "code",
      "source": [
        "cargas = [280,400,600,750,900,1300,1600,1900,2300,2600,2800,3000]\n",
        "cargasTotal = list()\n",
        "for i in range(0,12):\n",
        "  for j in range(0,3):\n",
        "    cargasTotal.append(cargas[i])\n",
        "    \n",
        "nodos = [\"Nodo A\",\"Nodo U\",\"Nodo S\"]*12"
      ],
      "metadata": {
        "id": "6KoLwk-RqBmB"
      },
      "execution_count": null,
      "outputs": []
    },
    {
      "cell_type": "markdown",
      "source": [
        "<FONT FACE=\"times new roman\" SIZE=4> **Paso 8.** *Se crean listas de cada categoría (int, int_rand, double, double_rand) para unir los promedios de cada nodo.*"
      ],
      "metadata": {
        "id": "oOlcOylKwEYU"
      }
    },
    {
      "cell_type": "code",
      "source": [
        "promedioInt=list()\n",
        "for i in range(0,12):\n",
        "  promedioInt.append(nodoA_PromedioInt.loc[i,\"mean\"])\n",
        "  promedioInt.append(nodoU_PromedioInt.loc[i,\"mean\"]) \n",
        "  promedioInt.append(nodoS_PromedioInt.loc[i,\"mean\"])   \n",
        "\n",
        "promedioIntRnd=list()\n",
        "for i in range(12,24):\n",
        "  promedioIntRnd.append(nodoA_PromedioIntRnd.loc[i,\"mean\"])\n",
        "  promedioIntRnd.append(nodoU_PromedioIntRnd.loc[i,\"mean\"])  \n",
        "  promedioIntRnd.append(nodoS_PromedioIntRnd.loc[i,\"mean\"])  \n",
        "promedioDouble=list()\n",
        "for i in range(24,36):\n",
        "  promedioDouble.append(nodoA_PromedioDouble.loc[i,\"mean\"])\n",
        "  promedioDouble.append(nodoU_PromedioDouble.loc[i,\"mean\"])  \n",
        "  promedioDouble.append(nodoS_PromedioDouble.loc[i,\"mean\"]) \n",
        "\n",
        "promedioDoubleRnd=list()\n",
        "for i in range(36,48):\n",
        "  promedioDoubleRnd.append(nodoA_PromedioDoubleRnd.loc[i,\"mean\"])\n",
        "  promedioDoubleRnd.append(nodoU_PromedioDoubleRnd.loc[i,\"mean\"])\n",
        "  promedioDoubleRnd.append(nodoS_PromedioDoubleRnd.loc[i,\"mean\"])    \n"
      ],
      "metadata": {
        "id": "3_i55FxE9Udt"
      },
      "execution_count": null,
      "outputs": []
    },
    {
      "cell_type": "markdown",
      "source": [
        "<FONT FACE=\"times new roman\" SIZE=4> **Paso 9.** *Se muestran las listas generadas, que se van a usar para realizar las repectivas gráficas*"
      ],
      "metadata": {
        "id": "qGmi843HxKI7"
      }
    },
    {
      "cell_type": "code",
      "source": [
        "print(cargasTotal)\n",
        "print(promedioInt)\n",
        "print(promedioIntRnd)\n",
        "print(promedioDouble)\n",
        "print(promedioDoubleRnd)\n",
        "print(nodos)"
      ],
      "metadata": {
        "id": "sV9jyiqeEGHo",
        "colab": {
          "base_uri": "https://localhost:8080/"
        },
        "outputId": "47a22717-d681-4dbf-c6f3-3c470187cc4c"
      },
      "execution_count": null,
      "outputs": [
        {
          "output_type": "stream",
          "name": "stdout",
          "text": [
            "[280, 280, 280, 400, 400, 400, 600, 600, 600, 750, 750, 750, 900, 900, 900, 1300, 1300, 1300, 1600, 1600, 1600, 1900, 1900, 1900, 2300, 2300, 2300, 2600, 2600, 2600, 2800, 2800, 2800, 3000, 3000, 3000]\n",
            "[0.073, 0.044, 0.083, 0.216, 0.131, 0.244, 0.754, 0.46, 0.874, 1.52, 0.961, 1.782, 2.92, 1.646, 3.084, 12.739, 5.752, 10.693, 21.866, 13.988, 26.76, 50.351, 24.952, 56.689, 91.106, 61.73, 103.229, 113.324, 90.544, 134.743, 134.311, 101.773, 161.935, 180.464, 147.72, 213.111]\n",
            "[0.069, 0.044, 0.083, 0.201, 0.131, 0.245, 0.721, 0.469, 0.874, 1.533, 0.966, 1.784, 2.917, 1.664, 3.087, 12.639, 5.751, 10.589, 21.748, 14.945, 26.735, 50.411, 26.664, 56.843, 91.159, 66.644, 103.499, 113.251, 92.617, 134.966, 134.269, 105.229, 162.311, 180.577, 147.321, 212.957]\n",
            "[0.075, 0.049, 0.091, 0.223, 0.147, 0.273, 0.86, 0.496, 0.924, 2.386, 1.06, 1.934, 3.926, 1.756, 3.416, 13.74, 6.213, 15.188, 26.968, 20.205, 31.164, 52.623, 42.73, 59.61, 96.496, 78.505, 110.171, 122.697, 104.384, 146.771, 157.871, 126.308, 191.107, 196.905, 163.982, 238.195]\n",
            "[0.075, 0.049, 0.092, 0.242, 0.147, 0.279, 0.866, 0.5, 1.0, 2.458, 1.044, 2.299, 3.95, 1.763, 4.054, 13.822, 6.399, 15.969, 26.687, 20.173, 31.298, 52.709, 42.221, 59.905, 96.535, 78.923, 109.987, 123.138, 103.444, 147.334, 157.778, 126.252, 186.853, 198.035, 162.975, 235.788]\n",
            "['Nodo A', 'Nodo U', 'Nodo S', 'Nodo A', 'Nodo U', 'Nodo S', 'Nodo A', 'Nodo U', 'Nodo S', 'Nodo A', 'Nodo U', 'Nodo S', 'Nodo A', 'Nodo U', 'Nodo S', 'Nodo A', 'Nodo U', 'Nodo S', 'Nodo A', 'Nodo U', 'Nodo S', 'Nodo A', 'Nodo U', 'Nodo S', 'Nodo A', 'Nodo U', 'Nodo S', 'Nodo A', 'Nodo U', 'Nodo S', 'Nodo A', 'Nodo U', 'Nodo S', 'Nodo A', 'Nodo U', 'Nodo S']\n"
          ]
        }
      ]
    },
    {
      "cell_type": "markdown",
      "source": [
        "<FONT FACE=\"times new roman\" SIZE=4> **Paso 10.** *Se  realiza una gráfica de barras, con el tiempo promedio que se obtiene del benchmark de valores enteros. Cada barra corresponde a un nodo.*"
      ],
      "metadata": {
        "id": "1qQSj1OUxaMz"
      }
    },
    {
      "cell_type": "code",
      "source": [
        "plt.figure(figsize = (10,6))\n",
        "s = sns.barplot(x = cargasTotal, y = promedioInt,hue=nodos)\n",
        "plt.xticks(rotation=45)\n",
        "plt.xlabel(\"Cargas (Dimension N)\")\n",
        "plt.ylabel(\"Tiempo promedio int en escala logaritmica\")\n",
        "plt.title(\"Comparacion rendimiento para benchmark int por cada nodo\")\n",
        "plt.grid()\n",
        "plt.yscale(\"log\") \n",
        "plt.show()"
      ],
      "metadata": {
        "id": "mXqC8BT9qKln",
        "colab": {
          "base_uri": "https://localhost:8080/",
          "height": 419
        },
        "outputId": "54a5fd42-981d-42b6-b6aa-5c8b553c5403"
      },
      "execution_count": null,
      "outputs": [
        {
          "output_type": "display_data",
          "data": {
            "text/plain": [
              "<Figure size 720x432 with 1 Axes>"
            ],
            "image/png": "[encoded data removed]"
          },
          "metadata": {
            "needs_background": "light"
          }
        }
      ]
    },
    {
      "cell_type": "markdown",
      "source": [
        "<FONT FACE=\"times new roman\" SIZE=4> **Paso 11.** *Se  realiza una gráfica de barras, con el tiempo promedio que se obtiene del benchmark de valores enteros aleatorios. Cada barra corresponde a un nodo.*"
      ],
      "metadata": {
        "id": "69gXr_upyZon"
      }
    },
    {
      "cell_type": "code",
      "source": [
        "plt.figure(figsize = (10,6))\n",
        "s = sns.barplot(x = cargasTotal, y = promedioIntRnd,hue=nodos)\n",
        "plt.xticks(rotation=45)\n",
        "plt.xlabel(\"Cargas (Dimension N)\")\n",
        "plt.ylabel(\"Tiempo promedio int random en escala logaritmica\")\n",
        "plt.title(\"Comparacion rendimiento para benchmark int random por cada nodo\")\n",
        "plt.grid()\n",
        "plt.yscale(\"log\") \n",
        "plt.show()"
      ],
      "metadata": {
        "id": "vCBq6MDCCrNe",
        "colab": {
          "base_uri": "https://localhost:8080/",
          "height": 419
        },
        "outputId": "4d0fc600-cd6b-4ec6-bd81-b3cf94a8b360"
      },
      "execution_count": null,
      "outputs": [
        {
          "output_type": "display_data",
          "data": {
            "text/plain": [
              "<Figure size 720x432 with 1 Axes>"
            ],
            "image/png": "[encoded data removed]"
          },
          "metadata": {
            "needs_background": "light"
          }
        }
      ]
    },
    {
      "cell_type": "markdown",
      "source": [
        "<FONT FACE=\"times new roman\" SIZE=4> **Paso 12.** *Se  realiza una gráfica de barras, con el tiempo promedio que se obtiene del benchmark de valores de tipo double. Cada barra corresponde a un nodo.*"
      ],
      "metadata": {
        "id": "ZoAxo-FXydyH"
      }
    },
    {
      "cell_type": "code",
      "source": [
        "plt.figure(figsize = (10,6))\n",
        "s = sns.barplot(x = cargasTotal, y = promedioDouble,hue=nodos)\n",
        "plt.xticks(rotation=45)\n",
        "plt.xlabel(\"Cargas (Dimension N)\")\n",
        "plt.ylabel(\"Tiempo promedio double en escala logaritmica\")\n",
        "plt.title(\"Comparacion rendimiento para benchmark double por cada nodo\")\n",
        "plt.grid()\n",
        "plt.yscale(\"log\") \n",
        "plt.show()"
      ],
      "metadata": {
        "id": "1pNvEU0wCraw",
        "colab": {
          "base_uri": "https://localhost:8080/",
          "height": 419
        },
        "outputId": "67ab26a9-72b5-4c25-8e92-ae32250b7562"
      },
      "execution_count": null,
      "outputs": [
        {
          "output_type": "display_data",
          "data": {
            "text/plain": [
              "<Figure size 720x432 with 1 Axes>"
            ],
            "image/png": "[encoded data removed]"
          },
          "metadata": {
            "needs_background": "light"
          }
        }
      ]
    },
    {
      "cell_type": "markdown",
      "source": [
        "<FONT FACE=\"times new roman\" SIZE=4> **Paso 13.** *Se  realiza una gráfica de barras, con el tiempo promedio que se obtiene del benchmark de valores de tipo double, aleatorios. Cada barra corresponde a un nodo.*"
      ],
      "metadata": {
        "id": "a1VkXEwTyiBJ"
      }
    },
    {
      "cell_type": "code",
      "source": [
        "plt.figure(figsize = (10,6))\n",
        "s = sns.barplot(x = cargasTotal, y = promedioDoubleRnd,hue=nodos)\n",
        "plt.legend(fontsize = 'large')\n",
        "plt.xticks(rotation=45)\n",
        "plt.xlabel(\"Cargas (Dimension N)\")\n",
        "plt.ylabel(\"Tiempo promedio double random en escala logaritmica\")\n",
        "plt.title(\"Comparacion rendimiento para benchmark double random por cada nodo\")\n",
        "plt.grid()\n",
        "plt.yscale(\"log\") \n",
        "plt.show()"
      ],
      "metadata": {
        "id": "JPFu1DOKCrt5",
        "colab": {
          "base_uri": "https://localhost:8080/",
          "height": 419
        },
        "outputId": "a0a9d066-e61b-4e63-8de5-153348cfab4e"
      },
      "execution_count": null,
      "outputs": [
        {
          "output_type": "display_data",
          "data": {
            "text/plain": [
              "<Figure size 720x432 with 1 Axes>"
            ],
            "image/png": "[encoded data removed]"
          },
          "metadata": {
            "needs_background": "light"
          }
        }
      ]
    },
    {
      "cell_type": "markdown",
      "source": [
        "<FONT FACE=\"times new roman\" SIZE=4> **Paso 14.** *Se  realiza una gráfica del rendimiento de los diferentes nodos, al ejecutar el benchmark de números enteros para diferentes cargas*"
      ],
      "metadata": {
        "id": "LwVpQXVWywpM"
      }
    },
    {
      "cell_type": "code",
      "source": [
        "plt.figure(figsize = (10,6))\n",
        "s = plt.plot(cargas, nodoA_PromedioInt)\n",
        "s = plt.plot(cargas, nodoU_PromedioInt)\n",
        "s = plt.plot(cargas, nodoS_PromedioInt)\n",
        "plt.xticks(rotation=45)\n",
        "plt.legend(labels=[\"Nodo A\",\"Nodo U\",\"Nodo S\"],fontsize = 'large')\n",
        "plt.xlabel(\"Cargas (Dimension N)\")\n",
        "plt.ylabel(\"Tiempo promedio int (sg)\")\n",
        "plt.title(\"Rendimiento promedio para benchmark  Int\")\n",
        "plt.grid()\n",
        "plt.yticks(np.arange(0, 240, step=15))\n",
        "plt.xticks(cargas)\n",
        "plt.show()"
      ],
      "metadata": {
        "id": "kYgvXSUHKqyI",
        "colab": {
          "base_uri": "https://localhost:8080/",
          "height": 419
        },
        "outputId": "4ba96126-e26d-4249-a2be-8146511707d4"
      },
      "execution_count": null,
      "outputs": [
        {
          "output_type": "display_data",
          "data": {
            "text/plain": [
              "<Figure size 720x432 with 1 Axes>"
            ],
            "image/png": "[encoded data removed]"
          },
          "metadata": {
            "needs_background": "light"
          }
        }
      ]
    },
    {
      "cell_type": "markdown",
      "source": [
        "<FONT FACE=\"times new roman\" SIZE=4> **Paso 15.** *Se  realiza una gráfica del rendimiento de los diferentes nodos, al ejecutar el benchmark de números enteros aleatorios, para diferentes cargas*"
      ],
      "metadata": {
        "id": "LO0xDRWtzSNp"
      }
    },
    {
      "cell_type": "code",
      "source": [
        "plt.figure(figsize = (10,6))\n",
        "s = plt.plot(cargas, nodoA_PromedioIntRnd)\n",
        "s = plt.plot(cargas, nodoU_PromedioIntRnd)\n",
        "s = plt.plot(cargas, nodoS_PromedioIntRnd)\n",
        "plt.xticks(rotation=45)\n",
        "plt.legend(labels=[\"Nodo A\",\"Nodo U\",\"Nodo S\"],fontsize = 'large')\n",
        "plt.xlabel(\"Cargas (Dimension N)\")\n",
        "plt.ylabel(\"Tiempo promedio int random (sg)\")\n",
        "plt.title(\"Rendimiento promedio para benchmark Int Random\")\n",
        "plt.grid()\n",
        "plt.yticks(np.arange(0, 225, step=15))\n",
        "#plt.xticks(np.arange(200, 3501, step=500))\n",
        "plt.xticks(cargas)\n",
        "plt.show()"
      ],
      "metadata": {
        "id": "SA84s3W1SM_5",
        "colab": {
          "base_uri": "https://localhost:8080/",
          "height": 419
        },
        "outputId": "09ac4215-a292-4e98-dda4-fff731645564"
      },
      "execution_count": null,
      "outputs": [
        {
          "output_type": "display_data",
          "data": {
            "text/plain": [
              "<Figure size 720x432 with 1 Axes>"
            ],
            "image/png": "[encoded data removed]"
          },
          "metadata": {
            "needs_background": "light"
          }
        }
      ]
    },
    {
      "cell_type": "markdown",
      "source": [
        "<FONT FACE=\"times new roman\" SIZE=4> **Paso 16.** *Se  realiza una gráfica del rendimiento de los diferentes nodos, al ejecutar el benchmark de números double, para diferentes cargas*"
      ],
      "metadata": {
        "id": "C9LPjxHWzifw"
      }
    },
    {
      "cell_type": "code",
      "source": [
        "plt.figure(figsize = (10,6))\n",
        "s = plt.plot(cargas, nodoA_PromedioDouble)\n",
        "s = plt.plot(cargas, nodoU_PromedioDouble)\n",
        "s = plt.plot(cargas, nodoS_PromedioDouble)\n",
        "plt.xticks(rotation=45)\n",
        "plt.legend(labels=[\"Nodo A\",\"Nodo U\",\"Nodo S\"],fontsize = 'large')\n",
        "plt.xlabel(\"Cargas (Dimension N)\")\n",
        "plt.ylabel(\"Tiempo promedio double (sg)\")\n",
        "plt.title(\"Rendimiento promedio para benchmark Double\")\n",
        "plt.grid()\n",
        "plt.yticks(np.arange(0, 241, step=15))\n",
        "plt.xticks(cargas)\n",
        "plt.show()"
      ],
      "metadata": {
        "id": "av9t7jHwSSeK",
        "colab": {
          "base_uri": "https://localhost:8080/",
          "height": 419
        },
        "outputId": "5922c3a6-1303-4bae-9fcb-d50a0b8971d4"
      },
      "execution_count": null,
      "outputs": [
        {
          "output_type": "display_data",
          "data": {
            "text/plain": [
              "<Figure size 720x432 with 1 Axes>"
            ],
            "image/png": "[encoded data removed]"
          },
          "metadata": {
            "needs_background": "light"
          }
        }
      ]
    },
    {
      "cell_type": "markdown",
      "source": [
        "<FONT FACE=\"times new roman\" SIZE=4> **Paso 17.** *Se  realiza una gráfica del rendimiento de los diferentes nodos, al ejecutar el benchmark de números aleatorios de tipo double,  para diferentes cargas*"
      ],
      "metadata": {
        "id": "qVYmeL9lzoCq"
      }
    },
    {
      "cell_type": "code",
      "source": [
        "plt.figure(figsize = (10,6))\n",
        "s = plt.plot(cargas, nodoA_PromedioDoubleRnd)\n",
        "s = plt.plot(cargas, nodoU_PromedioDoubleRnd)\n",
        "s = plt.plot(cargas, nodoS_PromedioDoubleRnd)\n",
        "plt.xticks(rotation=45)\n",
        "plt.legend(labels=[\"Nodo A\",\"Nodo U\",\"Nodo S\"],fontsize = 'large')\n",
        "plt.xlabel(\"Cargas (Dimension N)\")\n",
        "plt.ylabel(\"Tiempo promedio double random (sg)\")\n",
        "plt.title(\"Rendimiento promedio para benchmark Double Random\")\n",
        "plt.grid()\n",
        "plt.yticks(np.arange(0, 241, step=15))\n",
        "plt.xticks(cargas)\n",
        "plt.tick_params(axis='x', colors='black')\n",
        "plt.show()\n"
      ],
      "metadata": {
        "id": "JStrNqLFSd-H",
        "colab": {
          "base_uri": "https://localhost:8080/",
          "height": 419
        },
        "outputId": "c1042eb8-14da-4534-e18a-04d43101cc07"
      },
      "execution_count": null,
      "outputs": [
        {
          "output_type": "display_data",
          "data": {
            "text/plain": [
              "<Figure size 720x432 with 1 Axes>"
            ],
            "image/png": "[encoded data removed]"
          },
          "metadata": {
            "needs_background": "light"
          }
        }
      ]
    },
    {
      "cell_type": "markdown",
      "source": [
        "<FONT FACE=\"times new roman\" SIZE=4> **Paso 18.** *Se  realiza una gráfica del rendimiento del nodo A, al ejecutar los diferentes benchmarks (int, int random, double y double random) para diferentes cargas*"
      ],
      "metadata": {
        "id": "oe08WgWoPubS"
      }
    },
    {
      "cell_type": "code",
      "source": [
        "cargas = [280,400,600,750,900,1300,1600,1900,2300,2600,2800,3000]\n",
        "#Se necesitan 4 valores de la misma carga para cada benchmark y colocar sus tiempos\n",
        "cargasTotal = list()\n",
        "for i in range(0,12):\n",
        "  for j in range(0,4):\n",
        "    cargasTotal.append(cargas[i])\n",
        "\n",
        "#En el eje y ira el tiempo promedio int, int random, double y double random del nodo A    \n",
        "tiempos = list()\n",
        "for i in range(0,12):\n",
        "  tiempos.append(nodoA_PromedioInt.loc[i,\"mean\"])\n",
        "  tiempos.append(nodoA_PromedioIntRnd.loc[12+i,\"mean\"])\n",
        "  tiempos.append(nodoA_PromedioDouble.loc[24+i,\"mean\"])\n",
        "  tiempos.append(nodoA_PromedioDoubleRnd.loc[36+i,\"mean\"])\n",
        "\n",
        "benchmarks =[\"Int\",\"Int Rnd\",\"Double\",\"Double rnd\"]*12\n",
        "plt.figure(figsize = (10,6))\n",
        "s = sns.barplot(x = cargasTotal, y = tiempos, hue=benchmarks)\n",
        "plt.xticks(rotation=45)\n",
        "plt.xlabel(\"Cargas (Dimension N)\")\n",
        "plt.ylabel(\"Tiempo promedio en escala logaritmica\")\n",
        "plt.title(\"Rendimiento del nodo A para los diferentes benchmarks\")\n",
        "plt.grid()\n",
        "plt.yscale(\"log\") \n",
        "plt.show()"
      ],
      "metadata": {
        "colab": {
          "base_uri": "https://localhost:8080/",
          "height": 419
        },
        "id": "rbWATOvVPc9u",
        "outputId": "4f5755f4-11d7-4bbb-a4ee-17dd732d0d52"
      },
      "execution_count": null,
      "outputs": [
        {
          "output_type": "display_data",
          "data": {
            "text/plain": [
              "<Figure size 720x432 with 1 Axes>"
            ],
            "image/png": "[encoded data removed]"
          },
          "metadata": {
            "needs_background": "light"
          }
        }
      ]
    },
    {
      "cell_type": "markdown",
      "source": [
        "<FONT FACE=\"times new roman\" SIZE=4> **Paso 19.** *Se presenta una muestra de los tiempos promedio para cada uno de los benchmarks del nodo A, en escala logaritmica*"
      ],
      "metadata": {
        "id": "9NBnn1_hW5z5"
      }
    },
    {
      "cell_type": "code",
      "source": [
        "nodoA_promedio_loc = pd.DataFrame(np.log10(nodoA_Promedio_.loc[:,\"mean\"]))\n",
        "nodoA_promedio_loc.sample(5)"
      ],
      "metadata": {
        "colab": {
          "base_uri": "https://localhost:8080/",
          "height": 206
        },
        "id": "ADy-GHXSWRAj",
        "outputId": "b11eda4c-b4cc-477e-fcd7-1fe7d04232dd"
      },
      "execution_count": null,
      "outputs": [
        {
          "output_type": "execute_result",
          "data": {
            "text/plain": [
              "                    mean\n",
              "double_rnd_900  0.596597\n",
              "double_2300     1.984509\n",
              "Int_1300        1.105135\n",
              "Int_rnd_2300    1.959800\n",
              "double_rnd_600 -0.062482"
            ],
            "text/html": [
              "\n",
              "  <div id=\"df-5913af9a-8822-4d2f-b532-f9fb30f1903b\">\n",
              "    <div class=\"colab-df-container\">\n",
              "      <div>\n",
              "<style scoped>\n",
              "    .dataframe tbody tr th:only-of-type {\n",
              "        vertical-align: middle;\n",
              "    }\n",
              "\n",
              "    .dataframe tbody tr th {\n",
              "        vertical-align: top;\n",
              "    }\n",
              "\n",
              "    .dataframe thead th {\n",
              "        text-align: right;\n",
              "    }\n",
              "</style>\n",
              "<table border=\"1\" class=\"dataframe\">\n",
              "  <thead>\n",
              "    <tr style=\"text-align: right;\">\n",
              "      <th></th>\n",
              "      <th>mean</th>\n",
              "    </tr>\n",
              "  </thead>\n",
              "  <tbody>\n",
              "    <tr>\n",
              "      <th>double_rnd_900</th>\n",
              "      <td>0.596597</td>\n",
              "    </tr>\n",
              "    <tr>\n",
              "      <th>double_2300</th>\n",
              "      <td>1.984509</td>\n",
              "    </tr>\n",
              "    <tr>\n",
              "      <th>Int_1300</th>\n",
              "      <td>1.105135</td>\n",
              "    </tr>\n",
              "    <tr>\n",
              "      <th>Int_rnd_2300</th>\n",
              "      <td>1.959800</td>\n",
              "    </tr>\n",
              "    <tr>\n",
              "      <th>double_rnd_600</th>\n",
              "      <td>-0.062482</td>\n",
              "    </tr>\n",
              "  </tbody>\n",
              "</table>\n",
              "</div>\n",
              "      <button class=\"colab-df-convert\" onclick=\"convertToInteractive('df-5913af9a-8822-4d2f-b532-f9fb30f1903b')\"\n",
              "              title=\"Convert this dataframe to an interactive table.\"\n",
              "              style=\"display:none;\">\n",
              "        \n",
              "  <svg xmlns=\"http://www.w3.org/2000/svg\" height=\"24px\"viewBox=\"0 0 24 24\"\n",
              "       width=\"24px\">\n",
              "    <path d=\"M0 0h24v24H0V0z\" fill=\"none\"/>\n",
              "    <path d=\"M18.56 5.44l.94 2.06.94-2.06 2.06-.94-2.06-.94-.94-2.06-.94 2.06-2.06.94zm-11 1L8.5 8.5l.94-2.06 2.06-.94-2.06-.94L8.5 2.5l-.94 2.06-2.06.94zm10 10l.94 2.06.94-2.06 2.06-.94-2.06-.94-.94-2.06-.94 2.06-2.06.94z\"/><path d=\"M17.41 7.96l-1.37-1.37c-.4-.4-.92-.59-1.43-.59-.52 0-1.04.2-1.43.59L10.3 9.45l-7.72 7.72c-.78.78-.78 2.05 0 2.83L4 21.41c.39.39.9.59 1.41.59.51 0 1.02-.2 1.41-.59l7.78-7.78 2.81-2.81c.8-.78.8-2.07 0-2.86zM5.41 20L4 18.59l7.72-7.72 1.47 1.35L5.41 20z\"/>\n",
              "  </svg>\n",
              "      </button>\n",
              "      \n",
              "  <style>\n",
              "    .colab-df-container {\n",
              "      display:flex;\n",
              "      flex-wrap:wrap;\n",
              "      gap: 12px;\n",
              "    }\n",
              "\n",
              "    .colab-df-convert {\n",
              "      background-color: #E8F0FE;\n",
              "      border: none;\n",
              "      border-radius: 50%;\n",
              "      cursor: pointer;\n",
              "      display: none;\n",
              "      fill: #1967D2;\n",
              "      height: 32px;\n",
              "      padding: 0 0 0 0;\n",
              "      width: 32px;\n",
              "    }\n",
              "\n",
              "    .colab-df-convert:hover {\n",
              "      background-color: #E2EBFA;\n",
              "      box-shadow: 0px 1px 2px rgba(60, 64, 67, 0.3), 0px 1px 3px 1px rgba(60, 64, 67, 0.15);\n",
              "      fill: #174EA6;\n",
              "    }\n",
              "\n",
              "    [theme=dark] .colab-df-convert {\n",
              "      background-color: #3B4455;\n",
              "      fill: #D2E3FC;\n",
              "    }\n",
              "\n",
              "    [theme=dark] .colab-df-convert:hover {\n",
              "      background-color: #434B5C;\n",
              "      box-shadow: 0px 1px 3px 1px rgba(0, 0, 0, 0.15);\n",
              "      filter: drop-shadow(0px 1px 2px rgba(0, 0, 0, 0.3));\n",
              "      fill: #FFFFFF;\n",
              "    }\n",
              "  </style>\n",
              "\n",
              "      <script>\n",
              "        const buttonEl =\n",
              "          document.querySelector('#df-5913af9a-8822-4d2f-b532-f9fb30f1903b button.colab-df-convert');\n",
              "        buttonEl.style.display =\n",
              "          google.colab.kernel.accessAllowed ? 'block' : 'none';\n",
              "\n",
              "        async function convertToInteractive(key) {\n",
              "          const element = document.querySelector('#df-5913af9a-8822-4d2f-b532-f9fb30f1903b');\n",
              "          const dataTable =\n",
              "            await google.colab.kernel.invokeFunction('convertToInteractive',\n",
              "                                                     [key], {});\n",
              "          if (!dataTable) return;\n",
              "\n",
              "          const docLinkHtml = 'Like what you see? Visit the ' +\n",
              "            '<a target=\"_blank\" href=https://colab.research.google.com/notebooks/data_table.ipynb>data table notebook</a>'\n",
              "            + ' to learn more about interactive tables.';\n",
              "          element.innerHTML = '';\n",
              "          dataTable['output_type'] = 'display_data';\n",
              "          await google.colab.output.renderOutput(dataTable, element);\n",
              "          const docLink = document.createElement('div');\n",
              "          docLink.innerHTML = docLinkHtml;\n",
              "          element.appendChild(docLink);\n",
              "        }\n",
              "      </script>\n",
              "    </div>\n",
              "  </div>\n",
              "  "
            ]
          },
          "metadata": {},
          "execution_count": 84
        }
      ]
    },
    {
      "cell_type": "markdown",
      "source": [
        "<FONT FACE=\"times new roman\" SIZE=4> **Paso 20.** *Se presenta una muestra de  los tiempos promedio para cada uno de los benchmarks del nodo A, en su escala original (sg)*"
      ],
      "metadata": {
        "id": "xKZj0HINXN4x"
      }
    },
    {
      "cell_type": "code",
      "source": [
        "nodoA_Promedio_.sample(5)"
      ],
      "metadata": {
        "colab": {
          "base_uri": "https://localhost:8080/",
          "height": 206
        },
        "id": "4qOcJIXUVIWS",
        "outputId": "acc951a6-c25a-4567-b908-b60a15baa3a5"
      },
      "execution_count": null,
      "outputs": [
        {
          "output_type": "execute_result",
          "data": {
            "text/plain": [
              "                    mean\n",
              "Int_rnd_2800     134.269\n",
              "Int_900            2.920\n",
              "double_rnd_2800  157.778\n",
              "double_1900       52.623\n",
              "Int_1300          12.739"
            ],
            "text/html": [
              "\n",
              "  <div id=\"df-70552c59-f260-46e8-bdd1-1cdc5e69540d\">\n",
              "    <div class=\"colab-df-container\">\n",
              "      <div>\n",
              "<style scoped>\n",
              "    .dataframe tbody tr th:only-of-type {\n",
              "        vertical-align: middle;\n",
              "    }\n",
              "\n",
              "    .dataframe tbody tr th {\n",
              "        vertical-align: top;\n",
              "    }\n",
              "\n",
              "    .dataframe thead th {\n",
              "        text-align: right;\n",
              "    }\n",
              "</style>\n",
              "<table border=\"1\" class=\"dataframe\">\n",
              "  <thead>\n",
              "    <tr style=\"text-align: right;\">\n",
              "      <th></th>\n",
              "      <th>mean</th>\n",
              "    </tr>\n",
              "  </thead>\n",
              "  <tbody>\n",
              "    <tr>\n",
              "      <th>Int_rnd_2800</th>\n",
              "      <td>134.269</td>\n",
              "    </tr>\n",
              "    <tr>\n",
              "      <th>Int_900</th>\n",
              "      <td>2.920</td>\n",
              "    </tr>\n",
              "    <tr>\n",
              "      <th>double_rnd_2800</th>\n",
              "      <td>157.778</td>\n",
              "    </tr>\n",
              "    <tr>\n",
              "      <th>double_1900</th>\n",
              "      <td>52.623</td>\n",
              "    </tr>\n",
              "    <tr>\n",
              "      <th>Int_1300</th>\n",
              "      <td>12.739</td>\n",
              "    </tr>\n",
              "  </tbody>\n",
              "</table>\n",
              "</div>\n",
              "      <button class=\"colab-df-convert\" onclick=\"convertToInteractive('df-70552c59-f260-46e8-bdd1-1cdc5e69540d')\"\n",
              "              title=\"Convert this dataframe to an interactive table.\"\n",
              "              style=\"display:none;\">\n",
              "        \n",
              "  <svg xmlns=\"http://www.w3.org/2000/svg\" height=\"24px\"viewBox=\"0 0 24 24\"\n",
              "       width=\"24px\">\n",
              "    <path d=\"M0 0h24v24H0V0z\" fill=\"none\"/>\n",
              "    <path d=\"M18.56 5.44l.94 2.06.94-2.06 2.06-.94-2.06-.94-.94-2.06-.94 2.06-2.06.94zm-11 1L8.5 8.5l.94-2.06 2.06-.94-2.06-.94L8.5 2.5l-.94 2.06-2.06.94zm10 10l.94 2.06.94-2.06 2.06-.94-2.06-.94-.94-2.06-.94 2.06-2.06.94z\"/><path d=\"M17.41 7.96l-1.37-1.37c-.4-.4-.92-.59-1.43-.59-.52 0-1.04.2-1.43.59L10.3 9.45l-7.72 7.72c-.78.78-.78 2.05 0 2.83L4 21.41c.39.39.9.59 1.41.59.51 0 1.02-.2 1.41-.59l7.78-7.78 2.81-2.81c.8-.78.8-2.07 0-2.86zM5.41 20L4 18.59l7.72-7.72 1.47 1.35L5.41 20z\"/>\n",
              "  </svg>\n",
              "      </button>\n",
              "      \n",
              "  <style>\n",
              "    .colab-df-container {\n",
              "      display:flex;\n",
              "      flex-wrap:wrap;\n",
              "      gap: 12px;\n",
              "    }\n",
              "\n",
              "    .colab-df-convert {\n",
              "      background-color: #E8F0FE;\n",
              "      border: none;\n",
              "      border-radius: 50%;\n",
              "      cursor: pointer;\n",
              "      display: none;\n",
              "      fill: #1967D2;\n",
              "      height: 32px;\n",
              "      padding: 0 0 0 0;\n",
              "      width: 32px;\n",
              "    }\n",
              "\n",
              "    .colab-df-convert:hover {\n",
              "      background-color: #E2EBFA;\n",
              "      box-shadow: 0px 1px 2px rgba(60, 64, 67, 0.3), 0px 1px 3px 1px rgba(60, 64, 67, 0.15);\n",
              "      fill: #174EA6;\n",
              "    }\n",
              "\n",
              "    [theme=dark] .colab-df-convert {\n",
              "      background-color: #3B4455;\n",
              "      fill: #D2E3FC;\n",
              "    }\n",
              "\n",
              "    [theme=dark] .colab-df-convert:hover {\n",
              "      background-color: #434B5C;\n",
              "      box-shadow: 0px 1px 3px 1px rgba(0, 0, 0, 0.15);\n",
              "      filter: drop-shadow(0px 1px 2px rgba(0, 0, 0, 0.3));\n",
              "      fill: #FFFFFF;\n",
              "    }\n",
              "  </style>\n",
              "\n",
              "      <script>\n",
              "        const buttonEl =\n",
              "          document.querySelector('#df-70552c59-f260-46e8-bdd1-1cdc5e69540d button.colab-df-convert');\n",
              "        buttonEl.style.display =\n",
              "          google.colab.kernel.accessAllowed ? 'block' : 'none';\n",
              "\n",
              "        async function convertToInteractive(key) {\n",
              "          const element = document.querySelector('#df-70552c59-f260-46e8-bdd1-1cdc5e69540d');\n",
              "          const dataTable =\n",
              "            await google.colab.kernel.invokeFunction('convertToInteractive',\n",
              "                                                     [key], {});\n",
              "          if (!dataTable) return;\n",
              "\n",
              "          const docLinkHtml = 'Like what you see? Visit the ' +\n",
              "            '<a target=\"_blank\" href=https://colab.research.google.com/notebooks/data_table.ipynb>data table notebook</a>'\n",
              "            + ' to learn more about interactive tables.';\n",
              "          element.innerHTML = '';\n",
              "          dataTable['output_type'] = 'display_data';\n",
              "          await google.colab.output.renderOutput(dataTable, element);\n",
              "          const docLink = document.createElement('div');\n",
              "          docLink.innerHTML = docLinkHtml;\n",
              "          element.appendChild(docLink);\n",
              "        }\n",
              "      </script>\n",
              "    </div>\n",
              "  </div>\n",
              "  "
            ]
          },
          "metadata": {},
          "execution_count": 85
        }
      ]
    },
    {
      "cell_type": "markdown",
      "source": [
        "<FONT FACE=\"times new roman\" SIZE=4> **Paso 21.** *Se  realiza una gráfica del rendimiento del nodo U, al ejecutar los diferentes benchmarks (int, int random, double y double random) para diferentes cargas*"
      ],
      "metadata": {
        "id": "9pnIJInwVB9u"
      }
    },
    {
      "cell_type": "code",
      "source": [
        "cargas = [280,400,600,750,900,1300,1600,1900,2300,2600,2800,3000]\n",
        "#Se necesitan 4 valores de la misma carga para cada benchmark y colocar sus tiempos\n",
        "cargasTotal = list()\n",
        "for i in range(0,12):\n",
        "  for j in range(0,4):\n",
        "    cargasTotal.append(cargas[i])\n",
        "\n",
        "#En el eje y ira el tiempo promedio int, int random, double y double random del nodo U    \n",
        "tiempos = list()\n",
        "for i in range(0,12):\n",
        "  tiempos.append(nodoU_PromedioInt.loc[i,\"mean\"])\n",
        "  tiempos.append(nodoU_PromedioIntRnd.loc[12+i,\"mean\"])\n",
        "  tiempos.append(nodoU_PromedioDouble.loc[24+i,\"mean\"])\n",
        "  tiempos.append(nodoU_PromedioDoubleRnd.loc[36+i,\"mean\"])\n",
        "\n",
        "benchmarks =[\"Int\",\"Int Rnd\",\"Double\",\"Double rnd\"]*12\n",
        "plt.figure(figsize = (10,6))\n",
        "s = sns.barplot(x = cargasTotal, y = tiempos, hue=benchmarks)\n",
        "plt.xticks(rotation=45)\n",
        "plt.xlabel(\"Cargas (Dimension N)\")\n",
        "plt.ylabel(\"Tiempo promedio en escala logaritmica\")\n",
        "plt.title(\"Rendimiento del nodo U para los diferentes benchmarks\")\n",
        "plt.grid()\n",
        "plt.yscale(\"log\") \n",
        "plt.show()"
      ],
      "metadata": {
        "colab": {
          "base_uri": "https://localhost:8080/",
          "height": 419
        },
        "id": "uQY-el9VTmn8",
        "outputId": "4e7b75f9-8080-43cb-d235-ce87afba43c1"
      },
      "execution_count": null,
      "outputs": [
        {
          "output_type": "display_data",
          "data": {
            "text/plain": [
              "<Figure size 720x432 with 1 Axes>"
            ],
            "image/png": "[encoded data removed]"
          },
          "metadata": {
            "needs_background": "light"
          }
        }
      ]
    },
    {
      "cell_type": "markdown",
      "source": [
        "<FONT FACE=\"times new roman\" SIZE=4> **Paso 22.** *Se presenta una muestra de los tiempos promedio para cada uno de los benchmarks del nodo U, en escala logaritmica*"
      ],
      "metadata": {
        "id": "RZIV8suYXcrF"
      }
    },
    {
      "cell_type": "code",
      "source": [
        "nodoU_promedio_loc = pd.DataFrame(np.log10(nodoU_Promedio_.loc[:,\"mean\"]))\n",
        "nodoU_promedio_loc.sample(5)"
      ],
      "metadata": {
        "colab": {
          "base_uri": "https://localhost:8080/",
          "height": 206
        },
        "id": "4s8CZhlAWwb_",
        "outputId": "957f723b-a5ed-4d70-e5d0-5b0512fcb708"
      },
      "execution_count": null,
      "outputs": [
        {
          "output_type": "execute_result",
          "data": {
            "text/plain": [
              "                    mean\n",
              "double_2800     2.101431\n",
              "double_rnd_280 -1.309804\n",
              "double_rnd_750  0.018700\n",
              "Int_rnd_2600    1.966691\n",
              "Int_rnd_1300    0.759743"
            ],
            "text/html": [
              "\n",
              "  <div id=\"df-3528b4ba-13da-4601-95e3-1f031261e03a\">\n",
              "    <div class=\"colab-df-container\">\n",
              "      <div>\n",
              "<style scoped>\n",
              "    .dataframe tbody tr th:only-of-type {\n",
              "        vertical-align: middle;\n",
              "    }\n",
              "\n",
              "    .dataframe tbody tr th {\n",
              "        vertical-align: top;\n",
              "    }\n",
              "\n",
              "    .dataframe thead th {\n",
              "        text-align: right;\n",
              "    }\n",
              "</style>\n",
              "<table border=\"1\" class=\"dataframe\">\n",
              "  <thead>\n",
              "    <tr style=\"text-align: right;\">\n",
              "      <th></th>\n",
              "      <th>mean</th>\n",
              "    </tr>\n",
              "  </thead>\n",
              "  <tbody>\n",
              "    <tr>\n",
              "      <th>double_2800</th>\n",
              "      <td>2.101431</td>\n",
              "    </tr>\n",
              "    <tr>\n",
              "      <th>double_rnd_280</th>\n",
              "      <td>-1.309804</td>\n",
              "    </tr>\n",
              "    <tr>\n",
              "      <th>double_rnd_750</th>\n",
              "      <td>0.018700</td>\n",
              "    </tr>\n",
              "    <tr>\n",
              "      <th>Int_rnd_2600</th>\n",
              "      <td>1.966691</td>\n",
              "    </tr>\n",
              "    <tr>\n",
              "      <th>Int_rnd_1300</th>\n",
              "      <td>0.759743</td>\n",
              "    </tr>\n",
              "  </tbody>\n",
              "</table>\n",
              "</div>\n",
              "      <button class=\"colab-df-convert\" onclick=\"convertToInteractive('df-3528b4ba-13da-4601-95e3-1f031261e03a')\"\n",
              "              title=\"Convert this dataframe to an interactive table.\"\n",
              "              style=\"display:none;\">\n",
              "        \n",
              "  <svg xmlns=\"http://www.w3.org/2000/svg\" height=\"24px\"viewBox=\"0 0 24 24\"\n",
              "       width=\"24px\">\n",
              "    <path d=\"M0 0h24v24H0V0z\" fill=\"none\"/>\n",
              "    <path d=\"M18.56 5.44l.94 2.06.94-2.06 2.06-.94-2.06-.94-.94-2.06-.94 2.06-2.06.94zm-11 1L8.5 8.5l.94-2.06 2.06-.94-2.06-.94L8.5 2.5l-.94 2.06-2.06.94zm10 10l.94 2.06.94-2.06 2.06-.94-2.06-.94-.94-2.06-.94 2.06-2.06.94z\"/><path d=\"M17.41 7.96l-1.37-1.37c-.4-.4-.92-.59-1.43-.59-.52 0-1.04.2-1.43.59L10.3 9.45l-7.72 7.72c-.78.78-.78 2.05 0 2.83L4 21.41c.39.39.9.59 1.41.59.51 0 1.02-.2 1.41-.59l7.78-7.78 2.81-2.81c.8-.78.8-2.07 0-2.86zM5.41 20L4 18.59l7.72-7.72 1.47 1.35L5.41 20z\"/>\n",
              "  </svg>\n",
              "      </button>\n",
              "      \n",
              "  <style>\n",
              "    .colab-df-container {\n",
              "      display:flex;\n",
              "      flex-wrap:wrap;\n",
              "      gap: 12px;\n",
              "    }\n",
              "\n",
              "    .colab-df-convert {\n",
              "      background-color: #E8F0FE;\n",
              "      border: none;\n",
              "      border-radius: 50%;\n",
              "      cursor: pointer;\n",
              "      display: none;\n",
              "      fill: #1967D2;\n",
              "      height: 32px;\n",
              "      padding: 0 0 0 0;\n",
              "      width: 32px;\n",
              "    }\n",
              "\n",
              "    .colab-df-convert:hover {\n",
              "      background-color: #E2EBFA;\n",
              "      box-shadow: 0px 1px 2px rgba(60, 64, 67, 0.3), 0px 1px 3px 1px rgba(60, 64, 67, 0.15);\n",
              "      fill: #174EA6;\n",
              "    }\n",
              "\n",
              "    [theme=dark] .colab-df-convert {\n",
              "      background-color: #3B4455;\n",
              "      fill: #D2E3FC;\n",
              "    }\n",
              "\n",
              "    [theme=dark] .colab-df-convert:hover {\n",
              "      background-color: #434B5C;\n",
              "      box-shadow: 0px 1px 3px 1px rgba(0, 0, 0, 0.15);\n",
              "      filter: drop-shadow(0px 1px 2px rgba(0, 0, 0, 0.3));\n",
              "      fill: #FFFFFF;\n",
              "    }\n",
              "  </style>\n",
              "\n",
              "      <script>\n",
              "        const buttonEl =\n",
              "          document.querySelector('#df-3528b4ba-13da-4601-95e3-1f031261e03a button.colab-df-convert');\n",
              "        buttonEl.style.display =\n",
              "          google.colab.kernel.accessAllowed ? 'block' : 'none';\n",
              "\n",
              "        async function convertToInteractive(key) {\n",
              "          const element = document.querySelector('#df-3528b4ba-13da-4601-95e3-1f031261e03a');\n",
              "          const dataTable =\n",
              "            await google.colab.kernel.invokeFunction('convertToInteractive',\n",
              "                                                     [key], {});\n",
              "          if (!dataTable) return;\n",
              "\n",
              "          const docLinkHtml = 'Like what you see? Visit the ' +\n",
              "            '<a target=\"_blank\" href=https://colab.research.google.com/notebooks/data_table.ipynb>data table notebook</a>'\n",
              "            + ' to learn more about interactive tables.';\n",
              "          element.innerHTML = '';\n",
              "          dataTable['output_type'] = 'display_data';\n",
              "          await google.colab.output.renderOutput(dataTable, element);\n",
              "          const docLink = document.createElement('div');\n",
              "          docLink.innerHTML = docLinkHtml;\n",
              "          element.appendChild(docLink);\n",
              "        }\n",
              "      </script>\n",
              "    </div>\n",
              "  </div>\n",
              "  "
            ]
          },
          "metadata": {},
          "execution_count": 87
        }
      ]
    },
    {
      "cell_type": "markdown",
      "source": [
        "<FONT FACE=\"times new roman\" SIZE=4> **Paso 23.** *Se presenta una muestra de  los tiempos promedio para cada uno de los benchmarks del nodo U, en su escala original (sg)*"
      ],
      "metadata": {
        "id": "Vyf3lWhZXrKc"
      }
    },
    {
      "cell_type": "code",
      "source": [
        "nodoU_Promedio_.sample(5)"
      ],
      "metadata": {
        "colab": {
          "base_uri": "https://localhost:8080/",
          "height": 206
        },
        "id": "umciSFfuWzR1",
        "outputId": "c6c4ae2e-6228-45e6-ca16-47cc796d59ea"
      },
      "execution_count": null,
      "outputs": [
        {
          "output_type": "execute_result",
          "data": {
            "text/plain": [
              "                    mean\n",
              "Int_900            1.646\n",
              "double_2600      104.384\n",
              "double_750         1.060\n",
              "Int_2300          61.730\n",
              "double_rnd_3000  162.975"
            ],
            "text/html": [
              "\n",
              "  <div id=\"df-9583baf7-7e39-4180-8065-132ab815aaca\">\n",
              "    <div class=\"colab-df-container\">\n",
              "      <div>\n",
              "<style scoped>\n",
              "    .dataframe tbody tr th:only-of-type {\n",
              "        vertical-align: middle;\n",
              "    }\n",
              "\n",
              "    .dataframe tbody tr th {\n",
              "        vertical-align: top;\n",
              "    }\n",
              "\n",
              "    .dataframe thead th {\n",
              "        text-align: right;\n",
              "    }\n",
              "</style>\n",
              "<table border=\"1\" class=\"dataframe\">\n",
              "  <thead>\n",
              "    <tr style=\"text-align: right;\">\n",
              "      <th></th>\n",
              "      <th>mean</th>\n",
              "    </tr>\n",
              "  </thead>\n",
              "  <tbody>\n",
              "    <tr>\n",
              "      <th>Int_900</th>\n",
              "      <td>1.646</td>\n",
              "    </tr>\n",
              "    <tr>\n",
              "      <th>double_2600</th>\n",
              "      <td>104.384</td>\n",
              "    </tr>\n",
              "    <tr>\n",
              "      <th>double_750</th>\n",
              "      <td>1.060</td>\n",
              "    </tr>\n",
              "    <tr>\n",
              "      <th>Int_2300</th>\n",
              "      <td>61.730</td>\n",
              "    </tr>\n",
              "    <tr>\n",
              "      <th>double_rnd_3000</th>\n",
              "      <td>162.975</td>\n",
              "    </tr>\n",
              "  </tbody>\n",
              "</table>\n",
              "</div>\n",
              "      <button class=\"colab-df-convert\" onclick=\"convertToInteractive('df-9583baf7-7e39-4180-8065-132ab815aaca')\"\n",
              "              title=\"Convert this dataframe to an interactive table.\"\n",
              "              style=\"display:none;\">\n",
              "        \n",
              "  <svg xmlns=\"http://www.w3.org/2000/svg\" height=\"24px\"viewBox=\"0 0 24 24\"\n",
              "       width=\"24px\">\n",
              "    <path d=\"M0 0h24v24H0V0z\" fill=\"none\"/>\n",
              "    <path d=\"M18.56 5.44l.94 2.06.94-2.06 2.06-.94-2.06-.94-.94-2.06-.94 2.06-2.06.94zm-11 1L8.5 8.5l.94-2.06 2.06-.94-2.06-.94L8.5 2.5l-.94 2.06-2.06.94zm10 10l.94 2.06.94-2.06 2.06-.94-2.06-.94-.94-2.06-.94 2.06-2.06.94z\"/><path d=\"M17.41 7.96l-1.37-1.37c-.4-.4-.92-.59-1.43-.59-.52 0-1.04.2-1.43.59L10.3 9.45l-7.72 7.72c-.78.78-.78 2.05 0 2.83L4 21.41c.39.39.9.59 1.41.59.51 0 1.02-.2 1.41-.59l7.78-7.78 2.81-2.81c.8-.78.8-2.07 0-2.86zM5.41 20L4 18.59l7.72-7.72 1.47 1.35L5.41 20z\"/>\n",
              "  </svg>\n",
              "      </button>\n",
              "      \n",
              "  <style>\n",
              "    .colab-df-container {\n",
              "      display:flex;\n",
              "      flex-wrap:wrap;\n",
              "      gap: 12px;\n",
              "    }\n",
              "\n",
              "    .colab-df-convert {\n",
              "      background-color: #E8F0FE;\n",
              "      border: none;\n",
              "      border-radius: 50%;\n",
              "      cursor: pointer;\n",
              "      display: none;\n",
              "      fill: #1967D2;\n",
              "      height: 32px;\n",
              "      padding: 0 0 0 0;\n",
              "      width: 32px;\n",
              "    }\n",
              "\n",
              "    .colab-df-convert:hover {\n",
              "      background-color: #E2EBFA;\n",
              "      box-shadow: 0px 1px 2px rgba(60, 64, 67, 0.3), 0px 1px 3px 1px rgba(60, 64, 67, 0.15);\n",
              "      fill: #174EA6;\n",
              "    }\n",
              "\n",
              "    [theme=dark] .colab-df-convert {\n",
              "      background-color: #3B4455;\n",
              "      fill: #D2E3FC;\n",
              "    }\n",
              "\n",
              "    [theme=dark] .colab-df-convert:hover {\n",
              "      background-color: #434B5C;\n",
              "      box-shadow: 0px 1px 3px 1px rgba(0, 0, 0, 0.15);\n",
              "      filter: drop-shadow(0px 1px 2px rgba(0, 0, 0, 0.3));\n",
              "      fill: #FFFFFF;\n",
              "    }\n",
              "  </style>\n",
              "\n",
              "      <script>\n",
              "        const buttonEl =\n",
              "          document.querySelector('#df-9583baf7-7e39-4180-8065-132ab815aaca button.colab-df-convert');\n",
              "        buttonEl.style.display =\n",
              "          google.colab.kernel.accessAllowed ? 'block' : 'none';\n",
              "\n",
              "        async function convertToInteractive(key) {\n",
              "          const element = document.querySelector('#df-9583baf7-7e39-4180-8065-132ab815aaca');\n",
              "          const dataTable =\n",
              "            await google.colab.kernel.invokeFunction('convertToInteractive',\n",
              "                                                     [key], {});\n",
              "          if (!dataTable) return;\n",
              "\n",
              "          const docLinkHtml = 'Like what you see? Visit the ' +\n",
              "            '<a target=\"_blank\" href=https://colab.research.google.com/notebooks/data_table.ipynb>data table notebook</a>'\n",
              "            + ' to learn more about interactive tables.';\n",
              "          element.innerHTML = '';\n",
              "          dataTable['output_type'] = 'display_data';\n",
              "          await google.colab.output.renderOutput(dataTable, element);\n",
              "          const docLink = document.createElement('div');\n",
              "          docLink.innerHTML = docLinkHtml;\n",
              "          element.appendChild(docLink);\n",
              "        }\n",
              "      </script>\n",
              "    </div>\n",
              "  </div>\n",
              "  "
            ]
          },
          "metadata": {},
          "execution_count": 88
        }
      ]
    },
    {
      "cell_type": "markdown",
      "source": [
        "<FONT FACE=\"times new roman\" SIZE=4> **Paso 24.** *Se  realiza una gráfica del rendimiento del nodo S, al ejecutar los diferentes benchmarks (int, int random, double y double random) para diferentes cargas*"
      ],
      "metadata": {
        "id": "g7-OnAF8VE3E"
      }
    },
    {
      "cell_type": "code",
      "source": [
        "cargas = [280,400,600,750,900,1300,1600,1900,2300,2600,2800,3000]\n",
        "#Se necesitan 4 valores de la misma carga para cada benchmark y colocar sus tiempos\n",
        "cargasTotal = list()\n",
        "for i in range(0,12):\n",
        "  for j in range(0,4):\n",
        "    cargasTotal.append(cargas[i])\n",
        "\n",
        "#En el eje y ira el tiempo promedio int, int random, double y double random del nodo S    \n",
        "tiempos = list()\n",
        "for i in range(0,12):\n",
        "  tiempos.append(nodoS_PromedioInt.loc[i,\"mean\"])\n",
        "  tiempos.append(nodoS_PromedioIntRnd.loc[12+i,\"mean\"])\n",
        "  tiempos.append(nodoS_PromedioDouble.loc[24+i,\"mean\"])\n",
        "  tiempos.append(nodoS_PromedioDoubleRnd.loc[36+i,\"mean\"])\n",
        "\n",
        "benchmarks =[\"Int\",\"Int Rnd\",\"Double\",\"Double rnd\"]*12\n",
        "plt.figure(figsize = (10,6))\n",
        "s = sns.barplot(x = cargasTotal, y = tiempos, hue=benchmarks)\n",
        "plt.xticks(rotation=45)\n",
        "plt.xlabel(\"Cargas (Dimension N)\")\n",
        "plt.ylabel(\"Tiempo promedio en escala logaritmica\")\n",
        "plt.title(\"Rendimiento del nodo S para los diferentes benchmarks\")\n",
        "plt.grid()\n",
        "plt.yscale(\"log\") \n",
        "plt.show()"
      ],
      "metadata": {
        "colab": {
          "base_uri": "https://localhost:8080/",
          "height": 419
        },
        "id": "JsKz0-b8ULxi",
        "outputId": "322dadc1-a6a8-421f-a83e-79dba8791636"
      },
      "execution_count": null,
      "outputs": [
        {
          "output_type": "display_data",
          "data": {
            "text/plain": [
              "<Figure size 720x432 with 1 Axes>"
            ],
            "image/png": "[encoded data removed]"
          },
          "metadata": {
            "needs_background": "light"
          }
        }
      ]
    },
    {
      "cell_type": "markdown",
      "source": [
        "<FONT FACE=\"times new roman\" SIZE=4> **Paso 25.** *Se presenta una muestra de  los tiempos promedio para cada uno de los benchmarks del nodo S, en escala logaritmica*"
      ],
      "metadata": {
        "id": "gt3AfAX-XlI1"
      }
    },
    {
      "cell_type": "code",
      "source": [
        "nodoS_promedio_loc = pd.DataFrame(np.log10(nodoS_Promedio_.loc[:,\"mean\"]))\n",
        "nodoS_promedio_loc.sample(5)"
      ],
      "metadata": {
        "colab": {
          "base_uri": "https://localhost:8080/",
          "height": 206
        },
        "id": "UGZWmQ_EW2Wb",
        "outputId": "56f590df-ef8c-41c6-95a2-ca38e9312ba6"
      },
      "execution_count": null,
      "outputs": [
        {
          "output_type": "execute_result",
          "data": {
            "text/plain": [
              "                     mean\n",
              "Int_1900         1.753499\n",
              "double_rnd_1600  1.495517\n",
              "Int_600         -0.058489\n",
              "Int_400         -0.612610\n",
              "Int_rnd_2600     2.130224"
            ],
            "text/html": [
              "\n",
              "  <div id=\"df-576a6c93-5548-424d-87c0-ce9c7794e449\">\n",
              "    <div class=\"colab-df-container\">\n",
              "      <div>\n",
              "<style scoped>\n",
              "    .dataframe tbody tr th:only-of-type {\n",
              "        vertical-align: middle;\n",
              "    }\n",
              "\n",
              "    .dataframe tbody tr th {\n",
              "        vertical-align: top;\n",
              "    }\n",
              "\n",
              "    .dataframe thead th {\n",
              "        text-align: right;\n",
              "    }\n",
              "</style>\n",
              "<table border=\"1\" class=\"dataframe\">\n",
              "  <thead>\n",
              "    <tr style=\"text-align: right;\">\n",
              "      <th></th>\n",
              "      <th>mean</th>\n",
              "    </tr>\n",
              "  </thead>\n",
              "  <tbody>\n",
              "    <tr>\n",
              "      <th>Int_1900</th>\n",
              "      <td>1.753499</td>\n",
              "    </tr>\n",
              "    <tr>\n",
              "      <th>double_rnd_1600</th>\n",
              "      <td>1.495517</td>\n",
              "    </tr>\n",
              "    <tr>\n",
              "      <th>Int_600</th>\n",
              "      <td>-0.058489</td>\n",
              "    </tr>\n",
              "    <tr>\n",
              "      <th>Int_400</th>\n",
              "      <td>-0.612610</td>\n",
              "    </tr>\n",
              "    <tr>\n",
              "      <th>Int_rnd_2600</th>\n",
              "      <td>2.130224</td>\n",
              "    </tr>\n",
              "  </tbody>\n",
              "</table>\n",
              "</div>\n",
              "      <button class=\"colab-df-convert\" onclick=\"convertToInteractive('df-576a6c93-5548-424d-87c0-ce9c7794e449')\"\n",
              "              title=\"Convert this dataframe to an interactive table.\"\n",
              "              style=\"display:none;\">\n",
              "        \n",
              "  <svg xmlns=\"http://www.w3.org/2000/svg\" height=\"24px\"viewBox=\"0 0 24 24\"\n",
              "       width=\"24px\">\n",
              "    <path d=\"M0 0h24v24H0V0z\" fill=\"none\"/>\n",
              "    <path d=\"M18.56 5.44l.94 2.06.94-2.06 2.06-.94-2.06-.94-.94-2.06-.94 2.06-2.06.94zm-11 1L8.5 8.5l.94-2.06 2.06-.94-2.06-.94L8.5 2.5l-.94 2.06-2.06.94zm10 10l.94 2.06.94-2.06 2.06-.94-2.06-.94-.94-2.06-.94 2.06-2.06.94z\"/><path d=\"M17.41 7.96l-1.37-1.37c-.4-.4-.92-.59-1.43-.59-.52 0-1.04.2-1.43.59L10.3 9.45l-7.72 7.72c-.78.78-.78 2.05 0 2.83L4 21.41c.39.39.9.59 1.41.59.51 0 1.02-.2 1.41-.59l7.78-7.78 2.81-2.81c.8-.78.8-2.07 0-2.86zM5.41 20L4 18.59l7.72-7.72 1.47 1.35L5.41 20z\"/>\n",
              "  </svg>\n",
              "      </button>\n",
              "      \n",
              "  <style>\n",
              "    .colab-df-container {\n",
              "      display:flex;\n",
              "      flex-wrap:wrap;\n",
              "      gap: 12px;\n",
              "    }\n",
              "\n",
              "    .colab-df-convert {\n",
              "      background-color: #E8F0FE;\n",
              "      border: none;\n",
              "      border-radius: 50%;\n",
              "      cursor: pointer;\n",
              "      display: none;\n",
              "      fill: #1967D2;\n",
              "      height: 32px;\n",
              "      padding: 0 0 0 0;\n",
              "      width: 32px;\n",
              "    }\n",
              "\n",
              "    .colab-df-convert:hover {\n",
              "      background-color: #E2EBFA;\n",
              "      box-shadow: 0px 1px 2px rgba(60, 64, 67, 0.3), 0px 1px 3px 1px rgba(60, 64, 67, 0.15);\n",
              "      fill: #174EA6;\n",
              "    }\n",
              "\n",
              "    [theme=dark] .colab-df-convert {\n",
              "      background-color: #3B4455;\n",
              "      fill: #D2E3FC;\n",
              "    }\n",
              "\n",
              "    [theme=dark] .colab-df-convert:hover {\n",
              "      background-color: #434B5C;\n",
              "      box-shadow: 0px 1px 3px 1px rgba(0, 0, 0, 0.15);\n",
              "      filter: drop-shadow(0px 1px 2px rgba(0, 0, 0, 0.3));\n",
              "      fill: #FFFFFF;\n",
              "    }\n",
              "  </style>\n",
              "\n",
              "      <script>\n",
              "        const buttonEl =\n",
              "          document.querySelector('#df-576a6c93-5548-424d-87c0-ce9c7794e449 button.colab-df-convert');\n",
              "        buttonEl.style.display =\n",
              "          google.colab.kernel.accessAllowed ? 'block' : 'none';\n",
              "\n",
              "        async function convertToInteractive(key) {\n",
              "          const element = document.querySelector('#df-576a6c93-5548-424d-87c0-ce9c7794e449');\n",
              "          const dataTable =\n",
              "            await google.colab.kernel.invokeFunction('convertToInteractive',\n",
              "                                                     [key], {});\n",
              "          if (!dataTable) return;\n",
              "\n",
              "          const docLinkHtml = 'Like what you see? Visit the ' +\n",
              "            '<a target=\"_blank\" href=https://colab.research.google.com/notebooks/data_table.ipynb>data table notebook</a>'\n",
              "            + ' to learn more about interactive tables.';\n",
              "          element.innerHTML = '';\n",
              "          dataTable['output_type'] = 'display_data';\n",
              "          await google.colab.output.renderOutput(dataTable, element);\n",
              "          const docLink = document.createElement('div');\n",
              "          docLink.innerHTML = docLinkHtml;\n",
              "          element.appendChild(docLink);\n",
              "        }\n",
              "      </script>\n",
              "    </div>\n",
              "  </div>\n",
              "  "
            ]
          },
          "metadata": {},
          "execution_count": 90
        }
      ]
    },
    {
      "cell_type": "markdown",
      "source": [
        "<FONT FACE=\"times new roman\" SIZE=4> **Paso 26.** *Se presenta una muestra de los tiempos promedio para cada uno de los benchmarks del nodo S, en su escala original (sg)*"
      ],
      "metadata": {
        "id": "RF7o3bUCXvP7"
      }
    },
    {
      "cell_type": "code",
      "source": [
        "nodoS_Promedio_.sample(5)"
      ],
      "metadata": {
        "colab": {
          "base_uri": "https://localhost:8080/",
          "height": 206
        },
        "id": "WBVdH8CpXyLW",
        "outputId": "4157a873-db1a-4d9e-9301-e553bb0815e2"
      },
      "execution_count": null,
      "outputs": [
        {
          "output_type": "execute_result",
          "data": {
            "text/plain": [
              "                    mean\n",
              "double_1600       31.164\n",
              "Int_2600         134.743\n",
              "double_rnd_1300   15.969\n",
              "Int_2800         161.935\n",
              "Int_750            1.782"
            ],
            "text/html": [
              "\n",
              "  <div id=\"df-33507a49-4819-4061-8ae8-8e7cd52778e6\">\n",
              "    <div class=\"colab-df-container\">\n",
              "      <div>\n",
              "<style scoped>\n",
              "    .dataframe tbody tr th:only-of-type {\n",
              "        vertical-align: middle;\n",
              "    }\n",
              "\n",
              "    .dataframe tbody tr th {\n",
              "        vertical-align: top;\n",
              "    }\n",
              "\n",
              "    .dataframe thead th {\n",
              "        text-align: right;\n",
              "    }\n",
              "</style>\n",
              "<table border=\"1\" class=\"dataframe\">\n",
              "  <thead>\n",
              "    <tr style=\"text-align: right;\">\n",
              "      <th></th>\n",
              "      <th>mean</th>\n",
              "    </tr>\n",
              "  </thead>\n",
              "  <tbody>\n",
              "    <tr>\n",
              "      <th>double_1600</th>\n",
              "      <td>31.164</td>\n",
              "    </tr>\n",
              "    <tr>\n",
              "      <th>Int_2600</th>\n",
              "      <td>134.743</td>\n",
              "    </tr>\n",
              "    <tr>\n",
              "      <th>double_rnd_1300</th>\n",
              "      <td>15.969</td>\n",
              "    </tr>\n",
              "    <tr>\n",
              "      <th>Int_2800</th>\n",
              "      <td>161.935</td>\n",
              "    </tr>\n",
              "    <tr>\n",
              "      <th>Int_750</th>\n",
              "      <td>1.782</td>\n",
              "    </tr>\n",
              "  </tbody>\n",
              "</table>\n",
              "</div>\n",
              "      <button class=\"colab-df-convert\" onclick=\"convertToInteractive('df-33507a49-4819-4061-8ae8-8e7cd52778e6')\"\n",
              "              title=\"Convert this dataframe to an interactive table.\"\n",
              "              style=\"display:none;\">\n",
              "        \n",
              "  <svg xmlns=\"http://www.w3.org/2000/svg\" height=\"24px\"viewBox=\"0 0 24 24\"\n",
              "       width=\"24px\">\n",
              "    <path d=\"M0 0h24v24H0V0z\" fill=\"none\"/>\n",
              "    <path d=\"M18.56 5.44l.94 2.06.94-2.06 2.06-.94-2.06-.94-.94-2.06-.94 2.06-2.06.94zm-11 1L8.5 8.5l.94-2.06 2.06-.94-2.06-.94L8.5 2.5l-.94 2.06-2.06.94zm10 10l.94 2.06.94-2.06 2.06-.94-2.06-.94-.94-2.06-.94 2.06-2.06.94z\"/><path d=\"M17.41 7.96l-1.37-1.37c-.4-.4-.92-.59-1.43-.59-.52 0-1.04.2-1.43.59L10.3 9.45l-7.72 7.72c-.78.78-.78 2.05 0 2.83L4 21.41c.39.39.9.59 1.41.59.51 0 1.02-.2 1.41-.59l7.78-7.78 2.81-2.81c.8-.78.8-2.07 0-2.86zM5.41 20L4 18.59l7.72-7.72 1.47 1.35L5.41 20z\"/>\n",
              "  </svg>\n",
              "      </button>\n",
              "      \n",
              "  <style>\n",
              "    .colab-df-container {\n",
              "      display:flex;\n",
              "      flex-wrap:wrap;\n",
              "      gap: 12px;\n",
              "    }\n",
              "\n",
              "    .colab-df-convert {\n",
              "      background-color: #E8F0FE;\n",
              "      border: none;\n",
              "      border-radius: 50%;\n",
              "      cursor: pointer;\n",
              "      display: none;\n",
              "      fill: #1967D2;\n",
              "      height: 32px;\n",
              "      padding: 0 0 0 0;\n",
              "      width: 32px;\n",
              "    }\n",
              "\n",
              "    .colab-df-convert:hover {\n",
              "      background-color: #E2EBFA;\n",
              "      box-shadow: 0px 1px 2px rgba(60, 64, 67, 0.3), 0px 1px 3px 1px rgba(60, 64, 67, 0.15);\n",
              "      fill: #174EA6;\n",
              "    }\n",
              "\n",
              "    [theme=dark] .colab-df-convert {\n",
              "      background-color: #3B4455;\n",
              "      fill: #D2E3FC;\n",
              "    }\n",
              "\n",
              "    [theme=dark] .colab-df-convert:hover {\n",
              "      background-color: #434B5C;\n",
              "      box-shadow: 0px 1px 3px 1px rgba(0, 0, 0, 0.15);\n",
              "      filter: drop-shadow(0px 1px 2px rgba(0, 0, 0, 0.3));\n",
              "      fill: #FFFFFF;\n",
              "    }\n",
              "  </style>\n",
              "\n",
              "      <script>\n",
              "        const buttonEl =\n",
              "          document.querySelector('#df-33507a49-4819-4061-8ae8-8e7cd52778e6 button.colab-df-convert');\n",
              "        buttonEl.style.display =\n",
              "          google.colab.kernel.accessAllowed ? 'block' : 'none';\n",
              "\n",
              "        async function convertToInteractive(key) {\n",
              "          const element = document.querySelector('#df-33507a49-4819-4061-8ae8-8e7cd52778e6');\n",
              "          const dataTable =\n",
              "            await google.colab.kernel.invokeFunction('convertToInteractive',\n",
              "                                                     [key], {});\n",
              "          if (!dataTable) return;\n",
              "\n",
              "          const docLinkHtml = 'Like what you see? Visit the ' +\n",
              "            '<a target=\"_blank\" href=https://colab.research.google.com/notebooks/data_table.ipynb>data table notebook</a>'\n",
              "            + ' to learn more about interactive tables.';\n",
              "          element.innerHTML = '';\n",
              "          dataTable['output_type'] = 'display_data';\n",
              "          await google.colab.output.renderOutput(dataTable, element);\n",
              "          const docLink = document.createElement('div');\n",
              "          docLink.innerHTML = docLinkHtml;\n",
              "          element.appendChild(docLink);\n",
              "        }\n",
              "      </script>\n",
              "    </div>\n",
              "  </div>\n",
              "  "
            ]
          },
          "metadata": {},
          "execution_count": 91
        }
      ]
    }
  ]
}
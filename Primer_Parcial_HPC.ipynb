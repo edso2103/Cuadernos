{
  "nbformat": 4,
  "nbformat_minor": 0,
  "metadata": {
    "colab": {
      "provenance": [],
      "collapsed_sections": [
        "hKC4vb1T_FYw",
        "ND6756ILI3oe",
        "KyZEhKpTJM8T",
        "eVsyxEugJRYH",
        "89bZWO4qJT_D",
        "aywsqM0sJWzz",
        "gma4CJwwJW7I",
        "DhGbPoM8JXDW",
        "ZqOVvgs-JXJO",
        "4WzdOhrgJXPh",
        "ElHxkC-nJXV5",
        "9ZWW_M-IJXcJ",
        "fg8XCJON7gd8",
        "AmY5lkXx8RgF",
        "vqcodFvaKdSZ",
        "IcqkHJ4sRit2",
        "5IEqLDhULBlY",
        "3GSnXYF6wK4c",
        "XBX92roO8k69"
      ],
      "include_colab_link": true
    },
    "kernelspec": {
      "name": "python3",
      "display_name": "Python 3"
    },
    "language_info": {
      "name": "python"
    }
  },
  "cells": [
    {
      "cell_type": "markdown",
      "metadata": {
        "id": "view-in-github",
        "colab_type": "text"
      },
      "source": [
        "<a href=\"https://colab.research.google.com/github/edso2103/Cuadernos/blob/main/Primer_Parcial_HPC.ipynb\" target=\"_parent\"><img src=\"https://colab.research.google.com/assets/colab-badge.svg\" alt=\"Open In Colab\"/></a>"
      ]
    },
    {
      "cell_type": "markdown",
      "source": [
        "<p align=\"center\">\n",
        "<FONT FACE=\"times new roman\" SIZE=5>\n",
        "<br>\n",
        "<img src=\"https://res-5.cloudinary.com/crunchbase-production/image/upload/c_lpad,h_256,w_256,f_auto,q_auto:eco/v1455514364/pim02bzqvgz0hibsra41.png\"\n",
        "width=\"200\" height=\"200\">\n",
        "</img>\n",
        "<br>\n",
        "<i><b>Docente:</b></i> John Corredor, PhD.\n",
        "<br>\n",
        "<i><b>Asignatura:</b></i> HPC Introducción \n",
        "<br>\n",
        "<i><b>Estudiantes:</b></i> <br>Edna Sofía Orjuela Puentes,<br>Kevin Fabian Chepe Astudillo\n",
        "<br>\n",
        "<i><b>Tema:</b></i> Primer Parcial\n",
        "<br>\n",
        "01/09/22\n",
        "<br>\n",
        "</FONT>\n",
        "</p>"
      ],
      "metadata": {
        "id": "git12-bZ-z8k"
      }
    },
    {
      "cell_type": "markdown",
      "source": [
        "#<FONT FACE=\"times new roman\" SIZE=4> **Resumen:** El siguiente cuaderno, tiene como propósito realizar un análisis exploratorio de un dataframe de ventas de 19 productos. Este dataframe se construirá a partir de 12 datasets, correspondientes a los meses, de enero a diciembre del 2019."
      ],
      "metadata": {
        "id": "hKC4vb1T_FYw"
      }
    },
    {
      "cell_type": "markdown",
      "source": [
        "<FONT FACE=\"times new roman\" SIZE=4> **Dataset:**\n",
        "- Ventas_April_2019.csv\n",
        "- Ventas_August_2019.csv\n",
        "- Ventas_December_2019.csv\n",
        "- Ventas_Febraury_2019.csv\n",
        "- Ventas_January_2019.csv\n",
        "- Ventas_July_2019.csv\n",
        "- Ventas_June_2019.csv\n",
        "- Ventas_March_2019.csv\n",
        "- Ventas_May_2019.csv\n",
        "- Ventas_November_2019.csv\n",
        "- Ventas_October_2019.csv\n",
        "- Ventas_September_2019.csv"
      ],
      "metadata": {
        "id": "5jvYVGlhIncj"
      }
    },
    {
      "cell_type": "markdown",
      "source": [
        "#<FONT FACE=\"times new roman\" SIZE=4> **1. Agrupe cada mes de ventas en un solo CSV (‘ventas2019.csv’) con índice ‘ID Orden’**"
      ],
      "metadata": {
        "id": "ND6756ILI3oe"
      }
    },
    {
      "cell_type": "markdown",
      "source": [
        "<FONT FACE=\"times new roman\" SIZE=4> **Primero:** Se importan las bibliotecas"
      ],
      "metadata": {
        "id": "tK3rkhSQH5HU"
      }
    },
    {
      "cell_type": "code",
      "source": [
        "import pandas as pd            #Crear dataframe\n",
        "import numpy as np             #Hijo de EIGEN\n",
        "import seaborn as sns          #Visualizar datos\n",
        "import matplotlib.pyplot as plt       #Graficar datos"
      ],
      "metadata": {
        "id": "eFbsdvIoMoal"
      },
      "execution_count": null,
      "outputs": []
    },
    {
      "cell_type": "markdown",
      "source": [
        "<FONT FACE=\"times new roman\" SIZE=4> **Segundo:** Se cargan los datasets"
      ],
      "metadata": {
        "id": "dXzu4YgOINWv"
      }
    },
    {
      "cell_type": "code",
      "execution_count": null,
      "metadata": {
        "id": "rrGTV_30-tQg"
      },
      "outputs": [],
      "source": [
        "df_abril=pd.read_csv('https://raw.githubusercontent.com/edso2103/Datasets/main/Ventas_April_2019.csv')\n",
        "df_agosto=pd.read_csv('https://raw.githubusercontent.com/edso2103/Datasets/main/Ventas_August_2019.csv')\n",
        "df_diciembre=pd.read_csv('https://raw.githubusercontent.com/edso2103/Datasets/main/Ventas_December_2019.csv')\n",
        "df_febrero=pd.read_csv('https://raw.githubusercontent.com/edso2103/Datasets/main/Ventas_February_2019.csv')\n",
        "df_enero=pd.read_csv('https://raw.githubusercontent.com/edso2103/Datasets/main/Ventas_January_2019.csv')\n",
        "df_julio=pd.read_csv('https://raw.githubusercontent.com/edso2103/Datasets/main/Ventas_July_2019.csv')\n",
        "df_junio=pd.read_csv('https://raw.githubusercontent.com/edso2103/Datasets/main/Ventas_June_2019.csv')\n",
        "df_marzo=pd.read_csv('https://raw.githubusercontent.com/edso2103/Datasets/main/Ventas_March_2019.csv')\n",
        "df_mayo=pd.read_csv('https://raw.githubusercontent.com/edso2103/Datasets/main/Ventas_May_2019.csv')\n",
        "df_noviembre=pd.read_csv('https://raw.githubusercontent.com/edso2103/Datasets/main/Ventas_November_2019.csv')\n",
        "df_octubre=pd.read_csv('https://raw.githubusercontent.com/edso2103/Datasets/main/Ventas_October_2019.csv')\n",
        "df_septiembre=pd.read_csv('https://raw.githubusercontent.com/edso2103/Datasets/main/Ventas_September_2019.csv')"
      ]
    },
    {
      "cell_type": "markdown",
      "source": [
        "<FONT FACE=\"times new roman\" SIZE=4> **Tercero:** Se agrupan los 12 datasets en un dataset, 'ventas2019', y se ajusta el indice con la columna, 'ID Orde'"
      ],
      "metadata": {
        "id": "VZQzz1HPIRyp"
      }
    },
    {
      "cell_type": "code",
      "source": [
        "ventas2019 = pd.concat([df_enero,df_febrero,df_marzo,df_abril,df_mayo,df_junio,df_julio,df_agosto,df_septiembre,df_octubre,df_noviembre,df_diciembre])\n",
        "ventas2019=ventas2019.set_index('ID Orden')\n",
        "ventas2019"
      ],
      "metadata": {
        "colab": {
          "base_uri": "https://localhost:8080/"
        },
        "id": "m6arpiGxQT42",
        "outputId": "3230905b-31cf-44cf-8707-926c1c8559d0"
      },
      "execution_count": null,
      "outputs": [
        {
          "output_type": "execute_result",
          "data": {
            "text/plain": [
              "                          Producto   Cantidad Ordenada Precio Unitario   \\\n",
              "ID Orden                                                                  \n",
              "141234      Audifonos Apple Airpods                  1           499900   \n",
              "141235     Parlante Google HomeMini                  1           159900   \n",
              "141236     Cable de Carga Lightning                  1            64900   \n",
              "141237     Parlante Google HomeMini                  1           159900   \n",
              "141238          Samsung Galaxy A302                  1           649900   \n",
              "...                             ...                ...              ...   \n",
              "299477    Audifonos Bose SoundSport                  1           399900   \n",
              "299478     Cable de Carga Lightning                  1            64900   \n",
              "299479     Cable de Carga USB-C P/O                  1            46900   \n",
              "299480       AAA Batteries (4-pack)                  1            12990   \n",
              "299481     Cable de Carga USB-C P/O                  1            46900   \n",
              "\n",
              "                   Fecha                     Dirección de Compra  \n",
              "ID Orden                                                          \n",
              "141234    01/25/19 13:51             177 calle Jimenez, Cali, VC  \n",
              "141235    01/12/19 23:58               732 calle 9na, Cúcuta, NS  \n",
              "141236    01/15/19 21:42         887 calle Kennedy, Medellin, AN  \n",
              "141237    01/27/19 11:39          641 calle 5ta, Bucaramanga, SA  \n",
              "141238    01/14/19 17:13             379 calle 2da, Medellin, AN  \n",
              "...                  ...                                     ...  \n",
              "299477    12/01/19 10:38  421 calle Autopista Norte, Armenia, QU  \n",
              "299478    12/27/19 05:23          679 calle 4ta, Bucaramanga, SA  \n",
              "299479    12/15/19 12:41           707 calle Norte, Medellin, AN  \n",
              "299480    12/05/19 16:21         735 calle Carrera, Medellin, AN  \n",
              "299481    12/19/19 01:09      175 calle Portal Sur, Medellin, AN  \n",
              "\n",
              "[165203 rows x 5 columns]"
            ],
            "text/html": [
              "\n",
              "  <div id=\"df-673a8342-4f6a-4785-be4e-071207af3712\">\n",
              "    <div class=\"colab-df-container\">\n",
              "      <div>\n",
              "<style scoped>\n",
              "    .dataframe tbody tr th:only-of-type {\n",
              "        vertical-align: middle;\n",
              "    }\n",
              "\n",
              "    .dataframe tbody tr th {\n",
              "        vertical-align: top;\n",
              "    }\n",
              "\n",
              "    .dataframe thead th {\n",
              "        text-align: right;\n",
              "    }\n",
              "</style>\n",
              "<table border=\"1\" class=\"dataframe\">\n",
              "  <thead>\n",
              "    <tr style=\"text-align: right;\">\n",
              "      <th></th>\n",
              "      <th>Producto</th>\n",
              "      <th>Cantidad Ordenada</th>\n",
              "      <th>Precio Unitario</th>\n",
              "      <th>Fecha</th>\n",
              "      <th>Dirección de Compra</th>\n",
              "    </tr>\n",
              "    <tr>\n",
              "      <th>ID Orden</th>\n",
              "      <th></th>\n",
              "      <th></th>\n",
              "      <th></th>\n",
              "      <th></th>\n",
              "      <th></th>\n",
              "    </tr>\n",
              "  </thead>\n",
              "  <tbody>\n",
              "    <tr>\n",
              "      <th>141234</th>\n",
              "      <td>Audifonos Apple Airpods</td>\n",
              "      <td>1</td>\n",
              "      <td>499900</td>\n",
              "      <td>01/25/19 13:51</td>\n",
              "      <td>177 calle Jimenez, Cali, VC</td>\n",
              "    </tr>\n",
              "    <tr>\n",
              "      <th>141235</th>\n",
              "      <td>Parlante Google HomeMini</td>\n",
              "      <td>1</td>\n",
              "      <td>159900</td>\n",
              "      <td>01/12/19 23:58</td>\n",
              "      <td>732 calle 9na, Cúcuta, NS</td>\n",
              "    </tr>\n",
              "    <tr>\n",
              "      <th>141236</th>\n",
              "      <td>Cable de Carga Lightning</td>\n",
              "      <td>1</td>\n",
              "      <td>64900</td>\n",
              "      <td>01/15/19 21:42</td>\n",
              "      <td>887 calle Kennedy, Medellin, AN</td>\n",
              "    </tr>\n",
              "    <tr>\n",
              "      <th>141237</th>\n",
              "      <td>Parlante Google HomeMini</td>\n",
              "      <td>1</td>\n",
              "      <td>159900</td>\n",
              "      <td>01/27/19 11:39</td>\n",
              "      <td>641 calle 5ta, Bucaramanga, SA</td>\n",
              "    </tr>\n",
              "    <tr>\n",
              "      <th>141238</th>\n",
              "      <td>Samsung Galaxy A302</td>\n",
              "      <td>1</td>\n",
              "      <td>649900</td>\n",
              "      <td>01/14/19 17:13</td>\n",
              "      <td>379 calle 2da, Medellin, AN</td>\n",
              "    </tr>\n",
              "    <tr>\n",
              "      <th>...</th>\n",
              "      <td>...</td>\n",
              "      <td>...</td>\n",
              "      <td>...</td>\n",
              "      <td>...</td>\n",
              "      <td>...</td>\n",
              "    </tr>\n",
              "    <tr>\n",
              "      <th>299477</th>\n",
              "      <td>Audifonos Bose SoundSport</td>\n",
              "      <td>1</td>\n",
              "      <td>399900</td>\n",
              "      <td>12/01/19 10:38</td>\n",
              "      <td>421 calle Autopista Norte, Armenia, QU</td>\n",
              "    </tr>\n",
              "    <tr>\n",
              "      <th>299478</th>\n",
              "      <td>Cable de Carga Lightning</td>\n",
              "      <td>1</td>\n",
              "      <td>64900</td>\n",
              "      <td>12/27/19 05:23</td>\n",
              "      <td>679 calle 4ta, Bucaramanga, SA</td>\n",
              "    </tr>\n",
              "    <tr>\n",
              "      <th>299479</th>\n",
              "      <td>Cable de Carga USB-C P/O</td>\n",
              "      <td>1</td>\n",
              "      <td>46900</td>\n",
              "      <td>12/15/19 12:41</td>\n",
              "      <td>707 calle Norte, Medellin, AN</td>\n",
              "    </tr>\n",
              "    <tr>\n",
              "      <th>299480</th>\n",
              "      <td>AAA Batteries (4-pack)</td>\n",
              "      <td>1</td>\n",
              "      <td>12990</td>\n",
              "      <td>12/05/19 16:21</td>\n",
              "      <td>735 calle Carrera, Medellin, AN</td>\n",
              "    </tr>\n",
              "    <tr>\n",
              "      <th>299481</th>\n",
              "      <td>Cable de Carga USB-C P/O</td>\n",
              "      <td>1</td>\n",
              "      <td>46900</td>\n",
              "      <td>12/19/19 01:09</td>\n",
              "      <td>175 calle Portal Sur, Medellin, AN</td>\n",
              "    </tr>\n",
              "  </tbody>\n",
              "</table>\n",
              "<p>165203 rows × 5 columns</p>\n",
              "</div>\n",
              "      <button class=\"colab-df-convert\" onclick=\"convertToInteractive('df-673a8342-4f6a-4785-be4e-071207af3712')\"\n",
              "              title=\"Convert this dataframe to an interactive table.\"\n",
              "              style=\"display:none;\">\n",
              "        \n",
              "  <svg xmlns=\"http://www.w3.org/2000/svg\" height=\"24px\"viewBox=\"0 0 24 24\"\n",
              "       width=\"24px\">\n",
              "    <path d=\"M0 0h24v24H0V0z\" fill=\"none\"/>\n",
              "    <path d=\"M18.56 5.44l.94 2.06.94-2.06 2.06-.94-2.06-.94-.94-2.06-.94 2.06-2.06.94zm-11 1L8.5 8.5l.94-2.06 2.06-.94-2.06-.94L8.5 2.5l-.94 2.06-2.06.94zm10 10l.94 2.06.94-2.06 2.06-.94-2.06-.94-.94-2.06-.94 2.06-2.06.94z\"/><path d=\"M17.41 7.96l-1.37-1.37c-.4-.4-.92-.59-1.43-.59-.52 0-1.04.2-1.43.59L10.3 9.45l-7.72 7.72c-.78.78-.78 2.05 0 2.83L4 21.41c.39.39.9.59 1.41.59.51 0 1.02-.2 1.41-.59l7.78-7.78 2.81-2.81c.8-.78.8-2.07 0-2.86zM5.41 20L4 18.59l7.72-7.72 1.47 1.35L5.41 20z\"/>\n",
              "  </svg>\n",
              "      </button>\n",
              "      \n",
              "  <style>\n",
              "    .colab-df-container {\n",
              "      display:flex;\n",
              "      flex-wrap:wrap;\n",
              "      gap: 12px;\n",
              "    }\n",
              "\n",
              "    .colab-df-convert {\n",
              "      background-color: #E8F0FE;\n",
              "      border: none;\n",
              "      border-radius: 50%;\n",
              "      cursor: pointer;\n",
              "      display: none;\n",
              "      fill: #1967D2;\n",
              "      height: 32px;\n",
              "      padding: 0 0 0 0;\n",
              "      width: 32px;\n",
              "    }\n",
              "\n",
              "    .colab-df-convert:hover {\n",
              "      background-color: #E2EBFA;\n",
              "      box-shadow: 0px 1px 2px rgba(60, 64, 67, 0.3), 0px 1px 3px 1px rgba(60, 64, 67, 0.15);\n",
              "      fill: #174EA6;\n",
              "    }\n",
              "\n",
              "    [theme=dark] .colab-df-convert {\n",
              "      background-color: #3B4455;\n",
              "      fill: #D2E3FC;\n",
              "    }\n",
              "\n",
              "    [theme=dark] .colab-df-convert:hover {\n",
              "      background-color: #434B5C;\n",
              "      box-shadow: 0px 1px 3px 1px rgba(0, 0, 0, 0.15);\n",
              "      filter: drop-shadow(0px 1px 2px rgba(0, 0, 0, 0.3));\n",
              "      fill: #FFFFFF;\n",
              "    }\n",
              "  </style>\n",
              "\n",
              "      <script>\n",
              "        const buttonEl =\n",
              "          document.querySelector('#df-673a8342-4f6a-4785-be4e-071207af3712 button.colab-df-convert');\n",
              "        buttonEl.style.display =\n",
              "          google.colab.kernel.accessAllowed ? 'block' : 'none';\n",
              "\n",
              "        async function convertToInteractive(key) {\n",
              "          const element = document.querySelector('#df-673a8342-4f6a-4785-be4e-071207af3712');\n",
              "          const dataTable =\n",
              "            await google.colab.kernel.invokeFunction('convertToInteractive',\n",
              "                                                     [key], {});\n",
              "          if (!dataTable) return;\n",
              "\n",
              "          const docLinkHtml = 'Like what you see? Visit the ' +\n",
              "            '<a target=\"_blank\" href=https://colab.research.google.com/notebooks/data_table.ipynb>data table notebook</a>'\n",
              "            + ' to learn more about interactive tables.';\n",
              "          element.innerHTML = '';\n",
              "          dataTable['output_type'] = 'display_data';\n",
              "          await google.colab.output.renderOutput(dataTable, element);\n",
              "          const docLink = document.createElement('div');\n",
              "          docLink.innerHTML = docLinkHtml;\n",
              "          element.appendChild(docLink);\n",
              "        }\n",
              "      </script>\n",
              "    </div>\n",
              "  </div>\n",
              "  "
            ]
          },
          "metadata": {},
          "execution_count": 3
        }
      ]
    },
    {
      "cell_type": "code",
      "source": [
        "# Se guarda el tamaño del dataset original en la variable size_o,\n",
        "# para usarla posteriormente\n",
        "\n",
        "size_o=ventas2019.shape\n",
        "print(size_o)"
      ],
      "metadata": {
        "colab": {
          "base_uri": "https://localhost:8080/"
        },
        "id": "vPJdXSPUsByT",
        "outputId": "4ffb32ff-ec4e-45a6-aca0-a4f956c7d4de"
      },
      "execution_count": null,
      "outputs": [
        {
          "output_type": "stream",
          "name": "stdout",
          "text": [
            "(165203, 5)\n"
          ]
        }
      ]
    },
    {
      "cell_type": "markdown",
      "source": [
        "#<FONT FACE=\"times new roman\" SIZE=4> **2.- Agregar columnas Mes, Ciudad (Departamento) y Ventas**"
      ],
      "metadata": {
        "id": "KyZEhKpTJM8T"
      }
    },
    {
      "cell_type": "markdown",
      "source": [
        "<FONT FACE=\"times new roman\" SIZE=4> **Primero:** Se identifican las columnas actuales'"
      ],
      "metadata": {
        "id": "nIWSHH7TJIqY"
      }
    },
    {
      "cell_type": "code",
      "source": [
        "ventas2019.columns"
      ],
      "metadata": {
        "colab": {
          "base_uri": "https://localhost:8080/"
        },
        "id": "u2OaLDkEipDm",
        "outputId": "77a05cf8-e1c1-4c8a-ab5e-1bc428f90688"
      },
      "execution_count": null,
      "outputs": [
        {
          "output_type": "execute_result",
          "data": {
            "text/plain": [
              "Index(['Producto ', ' Cantidad Ordenada', 'Precio Unitario ', 'Fecha',\n",
              "       'Dirección de Compra'],\n",
              "      dtype='object')"
            ]
          },
          "metadata": {},
          "execution_count": 5
        }
      ]
    },
    {
      "cell_type": "markdown",
      "source": [
        "<FONT FACE=\"times new roman\" SIZE=4> **Segundo:** Se crea la columna 'Mes' y se le agregan los meses de la columna 'Fecha'.Además, se convierte el tipo de dato a entero, para luego poder manipular esta columna."
      ],
      "metadata": {
        "id": "Zjk8kFfjJP5-"
      }
    },
    {
      "cell_type": "code",
      "source": [
        "ventas2019['Mes']=((ventas2019['Fecha'].str[:2]).apply(pd.to_numeric, errors='coerce').fillna(0)).astype(int)\n",
        "ventas2019"
      ],
      "metadata": {
        "colab": {
          "base_uri": "https://localhost:8080/"
        },
        "id": "cv7MSInZzlAd",
        "outputId": "966d0123-65d0-47cb-a5e0-9c71ac043648"
      },
      "execution_count": null,
      "outputs": [
        {
          "output_type": "execute_result",
          "data": {
            "text/plain": [
              "                          Producto   Cantidad Ordenada Precio Unitario   \\\n",
              "ID Orden                                                                  \n",
              "141234      Audifonos Apple Airpods                  1           499900   \n",
              "141235     Parlante Google HomeMini                  1           159900   \n",
              "141236     Cable de Carga Lightning                  1            64900   \n",
              "141237     Parlante Google HomeMini                  1           159900   \n",
              "141238          Samsung Galaxy A302                  1           649900   \n",
              "...                             ...                ...              ...   \n",
              "299477    Audifonos Bose SoundSport                  1           399900   \n",
              "299478     Cable de Carga Lightning                  1            64900   \n",
              "299479     Cable de Carga USB-C P/O                  1            46900   \n",
              "299480       AAA Batteries (4-pack)                  1            12990   \n",
              "299481     Cable de Carga USB-C P/O                  1            46900   \n",
              "\n",
              "                   Fecha                     Dirección de Compra  Mes  \n",
              "ID Orden                                                               \n",
              "141234    01/25/19 13:51             177 calle Jimenez, Cali, VC    1  \n",
              "141235    01/12/19 23:58               732 calle 9na, Cúcuta, NS    1  \n",
              "141236    01/15/19 21:42         887 calle Kennedy, Medellin, AN    1  \n",
              "141237    01/27/19 11:39          641 calle 5ta, Bucaramanga, SA    1  \n",
              "141238    01/14/19 17:13             379 calle 2da, Medellin, AN    1  \n",
              "...                  ...                                     ...  ...  \n",
              "299477    12/01/19 10:38  421 calle Autopista Norte, Armenia, QU   12  \n",
              "299478    12/27/19 05:23          679 calle 4ta, Bucaramanga, SA   12  \n",
              "299479    12/15/19 12:41           707 calle Norte, Medellin, AN   12  \n",
              "299480    12/05/19 16:21         735 calle Carrera, Medellin, AN   12  \n",
              "299481    12/19/19 01:09      175 calle Portal Sur, Medellin, AN   12  \n",
              "\n",
              "[165203 rows x 6 columns]"
            ],
            "text/html": [
              "\n",
              "  <div id=\"df-e2948b8a-662b-4790-8967-a1ad6513a475\">\n",
              "    <div class=\"colab-df-container\">\n",
              "      <div>\n",
              "<style scoped>\n",
              "    .dataframe tbody tr th:only-of-type {\n",
              "        vertical-align: middle;\n",
              "    }\n",
              "\n",
              "    .dataframe tbody tr th {\n",
              "        vertical-align: top;\n",
              "    }\n",
              "\n",
              "    .dataframe thead th {\n",
              "        text-align: right;\n",
              "    }\n",
              "</style>\n",
              "<table border=\"1\" class=\"dataframe\">\n",
              "  <thead>\n",
              "    <tr style=\"text-align: right;\">\n",
              "      <th></th>\n",
              "      <th>Producto</th>\n",
              "      <th>Cantidad Ordenada</th>\n",
              "      <th>Precio Unitario</th>\n",
              "      <th>Fecha</th>\n",
              "      <th>Dirección de Compra</th>\n",
              "      <th>Mes</th>\n",
              "    </tr>\n",
              "    <tr>\n",
              "      <th>ID Orden</th>\n",
              "      <th></th>\n",
              "      <th></th>\n",
              "      <th></th>\n",
              "      <th></th>\n",
              "      <th></th>\n",
              "      <th></th>\n",
              "    </tr>\n",
              "  </thead>\n",
              "  <tbody>\n",
              "    <tr>\n",
              "      <th>141234</th>\n",
              "      <td>Audifonos Apple Airpods</td>\n",
              "      <td>1</td>\n",
              "      <td>499900</td>\n",
              "      <td>01/25/19 13:51</td>\n",
              "      <td>177 calle Jimenez, Cali, VC</td>\n",
              "      <td>1</td>\n",
              "    </tr>\n",
              "    <tr>\n",
              "      <th>141235</th>\n",
              "      <td>Parlante Google HomeMini</td>\n",
              "      <td>1</td>\n",
              "      <td>159900</td>\n",
              "      <td>01/12/19 23:58</td>\n",
              "      <td>732 calle 9na, Cúcuta, NS</td>\n",
              "      <td>1</td>\n",
              "    </tr>\n",
              "    <tr>\n",
              "      <th>141236</th>\n",
              "      <td>Cable de Carga Lightning</td>\n",
              "      <td>1</td>\n",
              "      <td>64900</td>\n",
              "      <td>01/15/19 21:42</td>\n",
              "      <td>887 calle Kennedy, Medellin, AN</td>\n",
              "      <td>1</td>\n",
              "    </tr>\n",
              "    <tr>\n",
              "      <th>141237</th>\n",
              "      <td>Parlante Google HomeMini</td>\n",
              "      <td>1</td>\n",
              "      <td>159900</td>\n",
              "      <td>01/27/19 11:39</td>\n",
              "      <td>641 calle 5ta, Bucaramanga, SA</td>\n",
              "      <td>1</td>\n",
              "    </tr>\n",
              "    <tr>\n",
              "      <th>141238</th>\n",
              "      <td>Samsung Galaxy A302</td>\n",
              "      <td>1</td>\n",
              "      <td>649900</td>\n",
              "      <td>01/14/19 17:13</td>\n",
              "      <td>379 calle 2da, Medellin, AN</td>\n",
              "      <td>1</td>\n",
              "    </tr>\n",
              "    <tr>\n",
              "      <th>...</th>\n",
              "      <td>...</td>\n",
              "      <td>...</td>\n",
              "      <td>...</td>\n",
              "      <td>...</td>\n",
              "      <td>...</td>\n",
              "      <td>...</td>\n",
              "    </tr>\n",
              "    <tr>\n",
              "      <th>299477</th>\n",
              "      <td>Audifonos Bose SoundSport</td>\n",
              "      <td>1</td>\n",
              "      <td>399900</td>\n",
              "      <td>12/01/19 10:38</td>\n",
              "      <td>421 calle Autopista Norte, Armenia, QU</td>\n",
              "      <td>12</td>\n",
              "    </tr>\n",
              "    <tr>\n",
              "      <th>299478</th>\n",
              "      <td>Cable de Carga Lightning</td>\n",
              "      <td>1</td>\n",
              "      <td>64900</td>\n",
              "      <td>12/27/19 05:23</td>\n",
              "      <td>679 calle 4ta, Bucaramanga, SA</td>\n",
              "      <td>12</td>\n",
              "    </tr>\n",
              "    <tr>\n",
              "      <th>299479</th>\n",
              "      <td>Cable de Carga USB-C P/O</td>\n",
              "      <td>1</td>\n",
              "      <td>46900</td>\n",
              "      <td>12/15/19 12:41</td>\n",
              "      <td>707 calle Norte, Medellin, AN</td>\n",
              "      <td>12</td>\n",
              "    </tr>\n",
              "    <tr>\n",
              "      <th>299480</th>\n",
              "      <td>AAA Batteries (4-pack)</td>\n",
              "      <td>1</td>\n",
              "      <td>12990</td>\n",
              "      <td>12/05/19 16:21</td>\n",
              "      <td>735 calle Carrera, Medellin, AN</td>\n",
              "      <td>12</td>\n",
              "    </tr>\n",
              "    <tr>\n",
              "      <th>299481</th>\n",
              "      <td>Cable de Carga USB-C P/O</td>\n",
              "      <td>1</td>\n",
              "      <td>46900</td>\n",
              "      <td>12/19/19 01:09</td>\n",
              "      <td>175 calle Portal Sur, Medellin, AN</td>\n",
              "      <td>12</td>\n",
              "    </tr>\n",
              "  </tbody>\n",
              "</table>\n",
              "<p>165203 rows × 6 columns</p>\n",
              "</div>\n",
              "      <button class=\"colab-df-convert\" onclick=\"convertToInteractive('df-e2948b8a-662b-4790-8967-a1ad6513a475')\"\n",
              "              title=\"Convert this dataframe to an interactive table.\"\n",
              "              style=\"display:none;\">\n",
              "        \n",
              "  <svg xmlns=\"http://www.w3.org/2000/svg\" height=\"24px\"viewBox=\"0 0 24 24\"\n",
              "       width=\"24px\">\n",
              "    <path d=\"M0 0h24v24H0V0z\" fill=\"none\"/>\n",
              "    <path d=\"M18.56 5.44l.94 2.06.94-2.06 2.06-.94-2.06-.94-.94-2.06-.94 2.06-2.06.94zm-11 1L8.5 8.5l.94-2.06 2.06-.94-2.06-.94L8.5 2.5l-.94 2.06-2.06.94zm10 10l.94 2.06.94-2.06 2.06-.94-2.06-.94-.94-2.06-.94 2.06-2.06.94z\"/><path d=\"M17.41 7.96l-1.37-1.37c-.4-.4-.92-.59-1.43-.59-.52 0-1.04.2-1.43.59L10.3 9.45l-7.72 7.72c-.78.78-.78 2.05 0 2.83L4 21.41c.39.39.9.59 1.41.59.51 0 1.02-.2 1.41-.59l7.78-7.78 2.81-2.81c.8-.78.8-2.07 0-2.86zM5.41 20L4 18.59l7.72-7.72 1.47 1.35L5.41 20z\"/>\n",
              "  </svg>\n",
              "      </button>\n",
              "      \n",
              "  <style>\n",
              "    .colab-df-container {\n",
              "      display:flex;\n",
              "      flex-wrap:wrap;\n",
              "      gap: 12px;\n",
              "    }\n",
              "\n",
              "    .colab-df-convert {\n",
              "      background-color: #E8F0FE;\n",
              "      border: none;\n",
              "      border-radius: 50%;\n",
              "      cursor: pointer;\n",
              "      display: none;\n",
              "      fill: #1967D2;\n",
              "      height: 32px;\n",
              "      padding: 0 0 0 0;\n",
              "      width: 32px;\n",
              "    }\n",
              "\n",
              "    .colab-df-convert:hover {\n",
              "      background-color: #E2EBFA;\n",
              "      box-shadow: 0px 1px 2px rgba(60, 64, 67, 0.3), 0px 1px 3px 1px rgba(60, 64, 67, 0.15);\n",
              "      fill: #174EA6;\n",
              "    }\n",
              "\n",
              "    [theme=dark] .colab-df-convert {\n",
              "      background-color: #3B4455;\n",
              "      fill: #D2E3FC;\n",
              "    }\n",
              "\n",
              "    [theme=dark] .colab-df-convert:hover {\n",
              "      background-color: #434B5C;\n",
              "      box-shadow: 0px 1px 3px 1px rgba(0, 0, 0, 0.15);\n",
              "      filter: drop-shadow(0px 1px 2px rgba(0, 0, 0, 0.3));\n",
              "      fill: #FFFFFF;\n",
              "    }\n",
              "  </style>\n",
              "\n",
              "      <script>\n",
              "        const buttonEl =\n",
              "          document.querySelector('#df-e2948b8a-662b-4790-8967-a1ad6513a475 button.colab-df-convert');\n",
              "        buttonEl.style.display =\n",
              "          google.colab.kernel.accessAllowed ? 'block' : 'none';\n",
              "\n",
              "        async function convertToInteractive(key) {\n",
              "          const element = document.querySelector('#df-e2948b8a-662b-4790-8967-a1ad6513a475');\n",
              "          const dataTable =\n",
              "            await google.colab.kernel.invokeFunction('convertToInteractive',\n",
              "                                                     [key], {});\n",
              "          if (!dataTable) return;\n",
              "\n",
              "          const docLinkHtml = 'Like what you see? Visit the ' +\n",
              "            '<a target=\"_blank\" href=https://colab.research.google.com/notebooks/data_table.ipynb>data table notebook</a>'\n",
              "            + ' to learn more about interactive tables.';\n",
              "          element.innerHTML = '';\n",
              "          dataTable['output_type'] = 'display_data';\n",
              "          await google.colab.output.renderOutput(dataTable, element);\n",
              "          const docLink = document.createElement('div');\n",
              "          docLink.innerHTML = docLinkHtml;\n",
              "          element.appendChild(docLink);\n",
              "        }\n",
              "      </script>\n",
              "    </div>\n",
              "  </div>\n",
              "  "
            ]
          },
          "metadata": {},
          "execution_count": 6
        }
      ]
    },
    {
      "cell_type": "markdown",
      "source": [
        "<FONT FACE=\"times new roman\" SIZE=4> **Tercero:** Se realiza una función Ciudad, para que fila por fila de la columna 'Dirección de Compra, se dividan las cadenas por el separador ',' para luego obtener la segunda y tercera cadena, que corresponden a la Ciudad(Departamento). El resultado se agrega a una nueva columna, 'Ciudad'."
      ],
      "metadata": {
        "id": "V4qJWDH7JuW8"
      }
    },
    {
      "cell_type": "code",
      "source": [
        "def Ciudad(fila):\n",
        "  try:\n",
        "    return fila.split(',')[1].lstrip()+\" \"+fila.split(',')[2]\n",
        "  except: \n",
        "    pass\n",
        "ventas2019['Ciudad']=ventas2019['Dirección de Compra'].apply(Ciudad)\n",
        "ventas2019"
      ],
      "metadata": {
        "colab": {
          "base_uri": "https://localhost:8080/"
        },
        "id": "Ap8y2Yv6r1je",
        "outputId": "603a3e8a-d1c3-4240-e414-5fd0708ddca8"
      },
      "execution_count": null,
      "outputs": [
        {
          "output_type": "execute_result",
          "data": {
            "text/plain": [
              "                          Producto   Cantidad Ordenada Precio Unitario   \\\n",
              "ID Orden                                                                  \n",
              "141234      Audifonos Apple Airpods                  1           499900   \n",
              "141235     Parlante Google HomeMini                  1           159900   \n",
              "141236     Cable de Carga Lightning                  1            64900   \n",
              "141237     Parlante Google HomeMini                  1           159900   \n",
              "141238          Samsung Galaxy A302                  1           649900   \n",
              "...                             ...                ...              ...   \n",
              "299477    Audifonos Bose SoundSport                  1           399900   \n",
              "299478     Cable de Carga Lightning                  1            64900   \n",
              "299479     Cable de Carga USB-C P/O                  1            46900   \n",
              "299480       AAA Batteries (4-pack)                  1            12990   \n",
              "299481     Cable de Carga USB-C P/O                  1            46900   \n",
              "\n",
              "                   Fecha                     Dirección de Compra  Mes  \\\n",
              "ID Orden                                                                \n",
              "141234    01/25/19 13:51             177 calle Jimenez, Cali, VC    1   \n",
              "141235    01/12/19 23:58               732 calle 9na, Cúcuta, NS    1   \n",
              "141236    01/15/19 21:42         887 calle Kennedy, Medellin, AN    1   \n",
              "141237    01/27/19 11:39          641 calle 5ta, Bucaramanga, SA    1   \n",
              "141238    01/14/19 17:13             379 calle 2da, Medellin, AN    1   \n",
              "...                  ...                                     ...  ...   \n",
              "299477    12/01/19 10:38  421 calle Autopista Norte, Armenia, QU   12   \n",
              "299478    12/27/19 05:23          679 calle 4ta, Bucaramanga, SA   12   \n",
              "299479    12/15/19 12:41           707 calle Norte, Medellin, AN   12   \n",
              "299480    12/05/19 16:21         735 calle Carrera, Medellin, AN   12   \n",
              "299481    12/19/19 01:09      175 calle Portal Sur, Medellin, AN   12   \n",
              "\n",
              "                   Ciudad  \n",
              "ID Orden                   \n",
              "141234           Cali  VC  \n",
              "141235         Cúcuta  NS  \n",
              "141236       Medellin  AN  \n",
              "141237    Bucaramanga  SA  \n",
              "141238       Medellin  AN  \n",
              "...                   ...  \n",
              "299477        Armenia  QU  \n",
              "299478    Bucaramanga  SA  \n",
              "299479       Medellin  AN  \n",
              "299480       Medellin  AN  \n",
              "299481       Medellin  AN  \n",
              "\n",
              "[165203 rows x 7 columns]"
            ],
            "text/html": [
              "\n",
              "  <div id=\"df-49617635-b5f3-4fb1-8ab9-2faebce09ab9\">\n",
              "    <div class=\"colab-df-container\">\n",
              "      <div>\n",
              "<style scoped>\n",
              "    .dataframe tbody tr th:only-of-type {\n",
              "        vertical-align: middle;\n",
              "    }\n",
              "\n",
              "    .dataframe tbody tr th {\n",
              "        vertical-align: top;\n",
              "    }\n",
              "\n",
              "    .dataframe thead th {\n",
              "        text-align: right;\n",
              "    }\n",
              "</style>\n",
              "<table border=\"1\" class=\"dataframe\">\n",
              "  <thead>\n",
              "    <tr style=\"text-align: right;\">\n",
              "      <th></th>\n",
              "      <th>Producto</th>\n",
              "      <th>Cantidad Ordenada</th>\n",
              "      <th>Precio Unitario</th>\n",
              "      <th>Fecha</th>\n",
              "      <th>Dirección de Compra</th>\n",
              "      <th>Mes</th>\n",
              "      <th>Ciudad</th>\n",
              "    </tr>\n",
              "    <tr>\n",
              "      <th>ID Orden</th>\n",
              "      <th></th>\n",
              "      <th></th>\n",
              "      <th></th>\n",
              "      <th></th>\n",
              "      <th></th>\n",
              "      <th></th>\n",
              "      <th></th>\n",
              "    </tr>\n",
              "  </thead>\n",
              "  <tbody>\n",
              "    <tr>\n",
              "      <th>141234</th>\n",
              "      <td>Audifonos Apple Airpods</td>\n",
              "      <td>1</td>\n",
              "      <td>499900</td>\n",
              "      <td>01/25/19 13:51</td>\n",
              "      <td>177 calle Jimenez, Cali, VC</td>\n",
              "      <td>1</td>\n",
              "      <td>Cali  VC</td>\n",
              "    </tr>\n",
              "    <tr>\n",
              "      <th>141235</th>\n",
              "      <td>Parlante Google HomeMini</td>\n",
              "      <td>1</td>\n",
              "      <td>159900</td>\n",
              "      <td>01/12/19 23:58</td>\n",
              "      <td>732 calle 9na, Cúcuta, NS</td>\n",
              "      <td>1</td>\n",
              "      <td>Cúcuta  NS</td>\n",
              "    </tr>\n",
              "    <tr>\n",
              "      <th>141236</th>\n",
              "      <td>Cable de Carga Lightning</td>\n",
              "      <td>1</td>\n",
              "      <td>64900</td>\n",
              "      <td>01/15/19 21:42</td>\n",
              "      <td>887 calle Kennedy, Medellin, AN</td>\n",
              "      <td>1</td>\n",
              "      <td>Medellin  AN</td>\n",
              "    </tr>\n",
              "    <tr>\n",
              "      <th>141237</th>\n",
              "      <td>Parlante Google HomeMini</td>\n",
              "      <td>1</td>\n",
              "      <td>159900</td>\n",
              "      <td>01/27/19 11:39</td>\n",
              "      <td>641 calle 5ta, Bucaramanga, SA</td>\n",
              "      <td>1</td>\n",
              "      <td>Bucaramanga  SA</td>\n",
              "    </tr>\n",
              "    <tr>\n",
              "      <th>141238</th>\n",
              "      <td>Samsung Galaxy A302</td>\n",
              "      <td>1</td>\n",
              "      <td>649900</td>\n",
              "      <td>01/14/19 17:13</td>\n",
              "      <td>379 calle 2da, Medellin, AN</td>\n",
              "      <td>1</td>\n",
              "      <td>Medellin  AN</td>\n",
              "    </tr>\n",
              "    <tr>\n",
              "      <th>...</th>\n",
              "      <td>...</td>\n",
              "      <td>...</td>\n",
              "      <td>...</td>\n",
              "      <td>...</td>\n",
              "      <td>...</td>\n",
              "      <td>...</td>\n",
              "      <td>...</td>\n",
              "    </tr>\n",
              "    <tr>\n",
              "      <th>299477</th>\n",
              "      <td>Audifonos Bose SoundSport</td>\n",
              "      <td>1</td>\n",
              "      <td>399900</td>\n",
              "      <td>12/01/19 10:38</td>\n",
              "      <td>421 calle Autopista Norte, Armenia, QU</td>\n",
              "      <td>12</td>\n",
              "      <td>Armenia  QU</td>\n",
              "    </tr>\n",
              "    <tr>\n",
              "      <th>299478</th>\n",
              "      <td>Cable de Carga Lightning</td>\n",
              "      <td>1</td>\n",
              "      <td>64900</td>\n",
              "      <td>12/27/19 05:23</td>\n",
              "      <td>679 calle 4ta, Bucaramanga, SA</td>\n",
              "      <td>12</td>\n",
              "      <td>Bucaramanga  SA</td>\n",
              "    </tr>\n",
              "    <tr>\n",
              "      <th>299479</th>\n",
              "      <td>Cable de Carga USB-C P/O</td>\n",
              "      <td>1</td>\n",
              "      <td>46900</td>\n",
              "      <td>12/15/19 12:41</td>\n",
              "      <td>707 calle Norte, Medellin, AN</td>\n",
              "      <td>12</td>\n",
              "      <td>Medellin  AN</td>\n",
              "    </tr>\n",
              "    <tr>\n",
              "      <th>299480</th>\n",
              "      <td>AAA Batteries (4-pack)</td>\n",
              "      <td>1</td>\n",
              "      <td>12990</td>\n",
              "      <td>12/05/19 16:21</td>\n",
              "      <td>735 calle Carrera, Medellin, AN</td>\n",
              "      <td>12</td>\n",
              "      <td>Medellin  AN</td>\n",
              "    </tr>\n",
              "    <tr>\n",
              "      <th>299481</th>\n",
              "      <td>Cable de Carga USB-C P/O</td>\n",
              "      <td>1</td>\n",
              "      <td>46900</td>\n",
              "      <td>12/19/19 01:09</td>\n",
              "      <td>175 calle Portal Sur, Medellin, AN</td>\n",
              "      <td>12</td>\n",
              "      <td>Medellin  AN</td>\n",
              "    </tr>\n",
              "  </tbody>\n",
              "</table>\n",
              "<p>165203 rows × 7 columns</p>\n",
              "</div>\n",
              "      <button class=\"colab-df-convert\" onclick=\"convertToInteractive('df-49617635-b5f3-4fb1-8ab9-2faebce09ab9')\"\n",
              "              title=\"Convert this dataframe to an interactive table.\"\n",
              "              style=\"display:none;\">\n",
              "        \n",
              "  <svg xmlns=\"http://www.w3.org/2000/svg\" height=\"24px\"viewBox=\"0 0 24 24\"\n",
              "       width=\"24px\">\n",
              "    <path d=\"M0 0h24v24H0V0z\" fill=\"none\"/>\n",
              "    <path d=\"M18.56 5.44l.94 2.06.94-2.06 2.06-.94-2.06-.94-.94-2.06-.94 2.06-2.06.94zm-11 1L8.5 8.5l.94-2.06 2.06-.94-2.06-.94L8.5 2.5l-.94 2.06-2.06.94zm10 10l.94 2.06.94-2.06 2.06-.94-2.06-.94-.94-2.06-.94 2.06-2.06.94z\"/><path d=\"M17.41 7.96l-1.37-1.37c-.4-.4-.92-.59-1.43-.59-.52 0-1.04.2-1.43.59L10.3 9.45l-7.72 7.72c-.78.78-.78 2.05 0 2.83L4 21.41c.39.39.9.59 1.41.59.51 0 1.02-.2 1.41-.59l7.78-7.78 2.81-2.81c.8-.78.8-2.07 0-2.86zM5.41 20L4 18.59l7.72-7.72 1.47 1.35L5.41 20z\"/>\n",
              "  </svg>\n",
              "      </button>\n",
              "      \n",
              "  <style>\n",
              "    .colab-df-container {\n",
              "      display:flex;\n",
              "      flex-wrap:wrap;\n",
              "      gap: 12px;\n",
              "    }\n",
              "\n",
              "    .colab-df-convert {\n",
              "      background-color: #E8F0FE;\n",
              "      border: none;\n",
              "      border-radius: 50%;\n",
              "      cursor: pointer;\n",
              "      display: none;\n",
              "      fill: #1967D2;\n",
              "      height: 32px;\n",
              "      padding: 0 0 0 0;\n",
              "      width: 32px;\n",
              "    }\n",
              "\n",
              "    .colab-df-convert:hover {\n",
              "      background-color: #E2EBFA;\n",
              "      box-shadow: 0px 1px 2px rgba(60, 64, 67, 0.3), 0px 1px 3px 1px rgba(60, 64, 67, 0.15);\n",
              "      fill: #174EA6;\n",
              "    }\n",
              "\n",
              "    [theme=dark] .colab-df-convert {\n",
              "      background-color: #3B4455;\n",
              "      fill: #D2E3FC;\n",
              "    }\n",
              "\n",
              "    [theme=dark] .colab-df-convert:hover {\n",
              "      background-color: #434B5C;\n",
              "      box-shadow: 0px 1px 3px 1px rgba(0, 0, 0, 0.15);\n",
              "      filter: drop-shadow(0px 1px 2px rgba(0, 0, 0, 0.3));\n",
              "      fill: #FFFFFF;\n",
              "    }\n",
              "  </style>\n",
              "\n",
              "      <script>\n",
              "        const buttonEl =\n",
              "          document.querySelector('#df-49617635-b5f3-4fb1-8ab9-2faebce09ab9 button.colab-df-convert');\n",
              "        buttonEl.style.display =\n",
              "          google.colab.kernel.accessAllowed ? 'block' : 'none';\n",
              "\n",
              "        async function convertToInteractive(key) {\n",
              "          const element = document.querySelector('#df-49617635-b5f3-4fb1-8ab9-2faebce09ab9');\n",
              "          const dataTable =\n",
              "            await google.colab.kernel.invokeFunction('convertToInteractive',\n",
              "                                                     [key], {});\n",
              "          if (!dataTable) return;\n",
              "\n",
              "          const docLinkHtml = 'Like what you see? Visit the ' +\n",
              "            '<a target=\"_blank\" href=https://colab.research.google.com/notebooks/data_table.ipynb>data table notebook</a>'\n",
              "            + ' to learn more about interactive tables.';\n",
              "          element.innerHTML = '';\n",
              "          dataTable['output_type'] = 'display_data';\n",
              "          await google.colab.output.renderOutput(dataTable, element);\n",
              "          const docLink = document.createElement('div');\n",
              "          docLink.innerHTML = docLinkHtml;\n",
              "          element.appendChild(docLink);\n",
              "        }\n",
              "      </script>\n",
              "    </div>\n",
              "  </div>\n",
              "  "
            ]
          },
          "metadata": {},
          "execution_count": 7
        }
      ]
    },
    {
      "cell_type": "markdown",
      "source": [
        "<FONT FACE=\"times new roman\" SIZE=4> **Cuarto:** Se convierten las columnas de Object a Int, con el objetivo de poder operarlas, específicamente, multiplicarlas para crear la columna, 'Ventas'."
      ],
      "metadata": {
        "id": "_15epFLPKif8"
      }
    },
    {
      "cell_type": "code",
      "source": [
        "ventas2019['Precio Unitario ']=(ventas2019['Precio Unitario '].apply(pd.to_numeric, errors='coerce').fillna(0)).astype(int)\n",
        "ventas2019[' Cantidad Ordenada']=(ventas2019[' Cantidad Ordenada'].apply(pd.to_numeric, errors='coerce').fillna(0)).astype(int)\n",
        "ventas2019['Ventas']=ventas2019['Precio Unitario ']*ventas2019[' Cantidad Ordenada']\n",
        "ventas2019"
      ],
      "metadata": {
        "colab": {
          "base_uri": "https://localhost:8080/"
        },
        "id": "3fAsER5tbxWH",
        "outputId": "2feb6763-576c-4ab6-ec43-f00bad832f1b"
      },
      "execution_count": null,
      "outputs": [
        {
          "output_type": "execute_result",
          "data": {
            "text/plain": [
              "                          Producto    Cantidad Ordenada  Precio Unitario   \\\n",
              "ID Orden                                                                    \n",
              "141234      Audifonos Apple Airpods                   1            499900   \n",
              "141235     Parlante Google HomeMini                   1            159900   \n",
              "141236     Cable de Carga Lightning                   1             64900   \n",
              "141237     Parlante Google HomeMini                   1            159900   \n",
              "141238          Samsung Galaxy A302                   1            649900   \n",
              "...                             ...                 ...               ...   \n",
              "299477    Audifonos Bose SoundSport                   1            399900   \n",
              "299478     Cable de Carga Lightning                   1             64900   \n",
              "299479     Cable de Carga USB-C P/O                   1             46900   \n",
              "299480       AAA Batteries (4-pack)                   1             12990   \n",
              "299481     Cable de Carga USB-C P/O                   1             46900   \n",
              "\n",
              "                   Fecha                     Dirección de Compra  Mes  \\\n",
              "ID Orden                                                                \n",
              "141234    01/25/19 13:51             177 calle Jimenez, Cali, VC    1   \n",
              "141235    01/12/19 23:58               732 calle 9na, Cúcuta, NS    1   \n",
              "141236    01/15/19 21:42         887 calle Kennedy, Medellin, AN    1   \n",
              "141237    01/27/19 11:39          641 calle 5ta, Bucaramanga, SA    1   \n",
              "141238    01/14/19 17:13             379 calle 2da, Medellin, AN    1   \n",
              "...                  ...                                     ...  ...   \n",
              "299477    12/01/19 10:38  421 calle Autopista Norte, Armenia, QU   12   \n",
              "299478    12/27/19 05:23          679 calle 4ta, Bucaramanga, SA   12   \n",
              "299479    12/15/19 12:41           707 calle Norte, Medellin, AN   12   \n",
              "299480    12/05/19 16:21         735 calle Carrera, Medellin, AN   12   \n",
              "299481    12/19/19 01:09      175 calle Portal Sur, Medellin, AN   12   \n",
              "\n",
              "                   Ciudad  Ventas  \n",
              "ID Orden                           \n",
              "141234           Cali  VC  499900  \n",
              "141235         Cúcuta  NS  159900  \n",
              "141236       Medellin  AN   64900  \n",
              "141237    Bucaramanga  SA  159900  \n",
              "141238       Medellin  AN  649900  \n",
              "...                   ...     ...  \n",
              "299477        Armenia  QU  399900  \n",
              "299478    Bucaramanga  SA   64900  \n",
              "299479       Medellin  AN   46900  \n",
              "299480       Medellin  AN   12990  \n",
              "299481       Medellin  AN   46900  \n",
              "\n",
              "[165203 rows x 8 columns]"
            ],
            "text/html": [
              "\n",
              "  <div id=\"df-a80b9916-218f-4731-9d46-7fefe8633aee\">\n",
              "    <div class=\"colab-df-container\">\n",
              "      <div>\n",
              "<style scoped>\n",
              "    .dataframe tbody tr th:only-of-type {\n",
              "        vertical-align: middle;\n",
              "    }\n",
              "\n",
              "    .dataframe tbody tr th {\n",
              "        vertical-align: top;\n",
              "    }\n",
              "\n",
              "    .dataframe thead th {\n",
              "        text-align: right;\n",
              "    }\n",
              "</style>\n",
              "<table border=\"1\" class=\"dataframe\">\n",
              "  <thead>\n",
              "    <tr style=\"text-align: right;\">\n",
              "      <th></th>\n",
              "      <th>Producto</th>\n",
              "      <th>Cantidad Ordenada</th>\n",
              "      <th>Precio Unitario</th>\n",
              "      <th>Fecha</th>\n",
              "      <th>Dirección de Compra</th>\n",
              "      <th>Mes</th>\n",
              "      <th>Ciudad</th>\n",
              "      <th>Ventas</th>\n",
              "    </tr>\n",
              "    <tr>\n",
              "      <th>ID Orden</th>\n",
              "      <th></th>\n",
              "      <th></th>\n",
              "      <th></th>\n",
              "      <th></th>\n",
              "      <th></th>\n",
              "      <th></th>\n",
              "      <th></th>\n",
              "      <th></th>\n",
              "    </tr>\n",
              "  </thead>\n",
              "  <tbody>\n",
              "    <tr>\n",
              "      <th>141234</th>\n",
              "      <td>Audifonos Apple Airpods</td>\n",
              "      <td>1</td>\n",
              "      <td>499900</td>\n",
              "      <td>01/25/19 13:51</td>\n",
              "      <td>177 calle Jimenez, Cali, VC</td>\n",
              "      <td>1</td>\n",
              "      <td>Cali  VC</td>\n",
              "      <td>499900</td>\n",
              "    </tr>\n",
              "    <tr>\n",
              "      <th>141235</th>\n",
              "      <td>Parlante Google HomeMini</td>\n",
              "      <td>1</td>\n",
              "      <td>159900</td>\n",
              "      <td>01/12/19 23:58</td>\n",
              "      <td>732 calle 9na, Cúcuta, NS</td>\n",
              "      <td>1</td>\n",
              "      <td>Cúcuta  NS</td>\n",
              "      <td>159900</td>\n",
              "    </tr>\n",
              "    <tr>\n",
              "      <th>141236</th>\n",
              "      <td>Cable de Carga Lightning</td>\n",
              "      <td>1</td>\n",
              "      <td>64900</td>\n",
              "      <td>01/15/19 21:42</td>\n",
              "      <td>887 calle Kennedy, Medellin, AN</td>\n",
              "      <td>1</td>\n",
              "      <td>Medellin  AN</td>\n",
              "      <td>64900</td>\n",
              "    </tr>\n",
              "    <tr>\n",
              "      <th>141237</th>\n",
              "      <td>Parlante Google HomeMini</td>\n",
              "      <td>1</td>\n",
              "      <td>159900</td>\n",
              "      <td>01/27/19 11:39</td>\n",
              "      <td>641 calle 5ta, Bucaramanga, SA</td>\n",
              "      <td>1</td>\n",
              "      <td>Bucaramanga  SA</td>\n",
              "      <td>159900</td>\n",
              "    </tr>\n",
              "    <tr>\n",
              "      <th>141238</th>\n",
              "      <td>Samsung Galaxy A302</td>\n",
              "      <td>1</td>\n",
              "      <td>649900</td>\n",
              "      <td>01/14/19 17:13</td>\n",
              "      <td>379 calle 2da, Medellin, AN</td>\n",
              "      <td>1</td>\n",
              "      <td>Medellin  AN</td>\n",
              "      <td>649900</td>\n",
              "    </tr>\n",
              "    <tr>\n",
              "      <th>...</th>\n",
              "      <td>...</td>\n",
              "      <td>...</td>\n",
              "      <td>...</td>\n",
              "      <td>...</td>\n",
              "      <td>...</td>\n",
              "      <td>...</td>\n",
              "      <td>...</td>\n",
              "      <td>...</td>\n",
              "    </tr>\n",
              "    <tr>\n",
              "      <th>299477</th>\n",
              "      <td>Audifonos Bose SoundSport</td>\n",
              "      <td>1</td>\n",
              "      <td>399900</td>\n",
              "      <td>12/01/19 10:38</td>\n",
              "      <td>421 calle Autopista Norte, Armenia, QU</td>\n",
              "      <td>12</td>\n",
              "      <td>Armenia  QU</td>\n",
              "      <td>399900</td>\n",
              "    </tr>\n",
              "    <tr>\n",
              "      <th>299478</th>\n",
              "      <td>Cable de Carga Lightning</td>\n",
              "      <td>1</td>\n",
              "      <td>64900</td>\n",
              "      <td>12/27/19 05:23</td>\n",
              "      <td>679 calle 4ta, Bucaramanga, SA</td>\n",
              "      <td>12</td>\n",
              "      <td>Bucaramanga  SA</td>\n",
              "      <td>64900</td>\n",
              "    </tr>\n",
              "    <tr>\n",
              "      <th>299479</th>\n",
              "      <td>Cable de Carga USB-C P/O</td>\n",
              "      <td>1</td>\n",
              "      <td>46900</td>\n",
              "      <td>12/15/19 12:41</td>\n",
              "      <td>707 calle Norte, Medellin, AN</td>\n",
              "      <td>12</td>\n",
              "      <td>Medellin  AN</td>\n",
              "      <td>46900</td>\n",
              "    </tr>\n",
              "    <tr>\n",
              "      <th>299480</th>\n",
              "      <td>AAA Batteries (4-pack)</td>\n",
              "      <td>1</td>\n",
              "      <td>12990</td>\n",
              "      <td>12/05/19 16:21</td>\n",
              "      <td>735 calle Carrera, Medellin, AN</td>\n",
              "      <td>12</td>\n",
              "      <td>Medellin  AN</td>\n",
              "      <td>12990</td>\n",
              "    </tr>\n",
              "    <tr>\n",
              "      <th>299481</th>\n",
              "      <td>Cable de Carga USB-C P/O</td>\n",
              "      <td>1</td>\n",
              "      <td>46900</td>\n",
              "      <td>12/19/19 01:09</td>\n",
              "      <td>175 calle Portal Sur, Medellin, AN</td>\n",
              "      <td>12</td>\n",
              "      <td>Medellin  AN</td>\n",
              "      <td>46900</td>\n",
              "    </tr>\n",
              "  </tbody>\n",
              "</table>\n",
              "<p>165203 rows × 8 columns</p>\n",
              "</div>\n",
              "      <button class=\"colab-df-convert\" onclick=\"convertToInteractive('df-a80b9916-218f-4731-9d46-7fefe8633aee')\"\n",
              "              title=\"Convert this dataframe to an interactive table.\"\n",
              "              style=\"display:none;\">\n",
              "        \n",
              "  <svg xmlns=\"http://www.w3.org/2000/svg\" height=\"24px\"viewBox=\"0 0 24 24\"\n",
              "       width=\"24px\">\n",
              "    <path d=\"M0 0h24v24H0V0z\" fill=\"none\"/>\n",
              "    <path d=\"M18.56 5.44l.94 2.06.94-2.06 2.06-.94-2.06-.94-.94-2.06-.94 2.06-2.06.94zm-11 1L8.5 8.5l.94-2.06 2.06-.94-2.06-.94L8.5 2.5l-.94 2.06-2.06.94zm10 10l.94 2.06.94-2.06 2.06-.94-2.06-.94-.94-2.06-.94 2.06-2.06.94z\"/><path d=\"M17.41 7.96l-1.37-1.37c-.4-.4-.92-.59-1.43-.59-.52 0-1.04.2-1.43.59L10.3 9.45l-7.72 7.72c-.78.78-.78 2.05 0 2.83L4 21.41c.39.39.9.59 1.41.59.51 0 1.02-.2 1.41-.59l7.78-7.78 2.81-2.81c.8-.78.8-2.07 0-2.86zM5.41 20L4 18.59l7.72-7.72 1.47 1.35L5.41 20z\"/>\n",
              "  </svg>\n",
              "      </button>\n",
              "      \n",
              "  <style>\n",
              "    .colab-df-container {\n",
              "      display:flex;\n",
              "      flex-wrap:wrap;\n",
              "      gap: 12px;\n",
              "    }\n",
              "\n",
              "    .colab-df-convert {\n",
              "      background-color: #E8F0FE;\n",
              "      border: none;\n",
              "      border-radius: 50%;\n",
              "      cursor: pointer;\n",
              "      display: none;\n",
              "      fill: #1967D2;\n",
              "      height: 32px;\n",
              "      padding: 0 0 0 0;\n",
              "      width: 32px;\n",
              "    }\n",
              "\n",
              "    .colab-df-convert:hover {\n",
              "      background-color: #E2EBFA;\n",
              "      box-shadow: 0px 1px 2px rgba(60, 64, 67, 0.3), 0px 1px 3px 1px rgba(60, 64, 67, 0.15);\n",
              "      fill: #174EA6;\n",
              "    }\n",
              "\n",
              "    [theme=dark] .colab-df-convert {\n",
              "      background-color: #3B4455;\n",
              "      fill: #D2E3FC;\n",
              "    }\n",
              "\n",
              "    [theme=dark] .colab-df-convert:hover {\n",
              "      background-color: #434B5C;\n",
              "      box-shadow: 0px 1px 3px 1px rgba(0, 0, 0, 0.15);\n",
              "      filter: drop-shadow(0px 1px 2px rgba(0, 0, 0, 0.3));\n",
              "      fill: #FFFFFF;\n",
              "    }\n",
              "  </style>\n",
              "\n",
              "      <script>\n",
              "        const buttonEl =\n",
              "          document.querySelector('#df-a80b9916-218f-4731-9d46-7fefe8633aee button.colab-df-convert');\n",
              "        buttonEl.style.display =\n",
              "          google.colab.kernel.accessAllowed ? 'block' : 'none';\n",
              "\n",
              "        async function convertToInteractive(key) {\n",
              "          const element = document.querySelector('#df-a80b9916-218f-4731-9d46-7fefe8633aee');\n",
              "          const dataTable =\n",
              "            await google.colab.kernel.invokeFunction('convertToInteractive',\n",
              "                                                     [key], {});\n",
              "          if (!dataTable) return;\n",
              "\n",
              "          const docLinkHtml = 'Like what you see? Visit the ' +\n",
              "            '<a target=\"_blank\" href=https://colab.research.google.com/notebooks/data_table.ipynb>data table notebook</a>'\n",
              "            + ' to learn more about interactive tables.';\n",
              "          element.innerHTML = '';\n",
              "          dataTable['output_type'] = 'display_data';\n",
              "          await google.colab.output.renderOutput(dataTable, element);\n",
              "          const docLink = document.createElement('div');\n",
              "          docLink.innerHTML = docLinkHtml;\n",
              "          element.appendChild(docLink);\n",
              "        }\n",
              "      </script>\n",
              "    </div>\n",
              "  </div>\n",
              "  "
            ]
          },
          "metadata": {},
          "execution_count": 8
        }
      ]
    },
    {
      "cell_type": "markdown",
      "source": [
        "#<FONT FACE=\"times new roman\" SIZE=4> **3.- Limpieza de valores NaN**"
      ],
      "metadata": {
        "id": "eVsyxEugJRYH"
      }
    },
    {
      "cell_type": "markdown",
      "source": [
        "<FONT FACE=\"times new roman\" SIZE=4> **Primero:** Listar la cantidad de valores NaN por columna"
      ],
      "metadata": {
        "id": "GLllWyifJeI0"
      }
    },
    {
      "cell_type": "code",
      "source": [
        "ventas2019.info()"
      ],
      "metadata": {
        "colab": {
          "base_uri": "https://localhost:8080/"
        },
        "id": "4PyyITZQlVkF",
        "outputId": "8c95a36b-6437-4561-9dd4-0c99f7df5236"
      },
      "execution_count": null,
      "outputs": [
        {
          "output_type": "stream",
          "name": "stdout",
          "text": [
            "<class 'pandas.core.frame.DataFrame'>\n",
            "Index: 165203 entries, 141234 to 299481\n",
            "Data columns (total 8 columns):\n",
            " #   Column               Non-Null Count   Dtype \n",
            "---  ------               --------------   ----- \n",
            " 0   Producto             164707 non-null  object\n",
            " 1    Cantidad Ordenada   165203 non-null  int64 \n",
            " 2   Precio Unitario      165203 non-null  int64 \n",
            " 3   Fecha                164707 non-null  object\n",
            " 4   Dirección de Compra  164707 non-null  object\n",
            " 5   Mes                  165203 non-null  int64 \n",
            " 6   Ciudad               164404 non-null  object\n",
            " 7   Ventas               165203 non-null  int64 \n",
            "dtypes: int64(4), object(4)\n",
            "memory usage: 11.3+ MB\n"
          ]
        }
      ]
    },
    {
      "cell_type": "markdown",
      "source": [
        "<FONT FACE=\"times new roman\" SIZE=4> **Segundo:** Eliminar los valores NaN y duplicados del dataset"
      ],
      "metadata": {
        "id": "bo4ThnGaJmPO"
      }
    },
    {
      "cell_type": "code",
      "source": [
        "ventas2019=ventas2019.dropna() #valores nulos"
      ],
      "metadata": {
        "id": "yl2z5x-hR3mz"
      },
      "execution_count": null,
      "outputs": []
    },
    {
      "cell_type": "code",
      "source": [
        "ventas2019=ventas2019.drop_duplicates()#valores duplicados"
      ],
      "metadata": {
        "id": "uLa12Ma0Tsan"
      },
      "execution_count": null,
      "outputs": []
    },
    {
      "cell_type": "markdown",
      "source": [
        "<FONT FACE=\"times new roman\" SIZE=4> **Tercero:** ¿Cuántas filas con datos incompletos y duplicados se han eliminado?"
      ],
      "metadata": {
        "id": "S1_MhHtSJpIU"
      }
    },
    {
      "cell_type": "code",
      "source": [
        "ventas2019.info() #Se comprueba"
      ],
      "metadata": {
        "colab": {
          "base_uri": "https://localhost:8080/"
        },
        "id": "O_pEI7fExLNK",
        "outputId": "14f7f2e5-ef9e-4adc-fd92-2a87fa7156f1"
      },
      "execution_count": null,
      "outputs": [
        {
          "output_type": "stream",
          "name": "stdout",
          "text": [
            "<class 'pandas.core.frame.DataFrame'>\n",
            "Index: 164193 entries, 141234 to 299481\n",
            "Data columns (total 8 columns):\n",
            " #   Column               Non-Null Count   Dtype \n",
            "---  ------               --------------   ----- \n",
            " 0   Producto             164193 non-null  object\n",
            " 1    Cantidad Ordenada   164193 non-null  int64 \n",
            " 2   Precio Unitario      164193 non-null  int64 \n",
            " 3   Fecha                164193 non-null  object\n",
            " 4   Dirección de Compra  164193 non-null  object\n",
            " 5   Mes                  164193 non-null  int64 \n",
            " 6   Ciudad               164193 non-null  object\n",
            " 7   Ventas               164193 non-null  int64 \n",
            "dtypes: int64(4), object(4)\n",
            "memory usage: 11.3+ MB\n"
          ]
        }
      ]
    },
    {
      "cell_type": "code",
      "source": [
        "valores_eliminados= size_o[0]-(ventas2019.shape[0])\n",
        "print(\"Se han eliminado\",valores_eliminados,\"datos duplicados e incompletos\")"
      ],
      "metadata": {
        "colab": {
          "base_uri": "https://localhost:8080/"
        },
        "id": "O-QYDSA3UaVn",
        "outputId": "d2e78b26-14f5-4b24-adbc-a329fc0f645c"
      },
      "execution_count": null,
      "outputs": [
        {
          "output_type": "stream",
          "name": "stdout",
          "text": [
            "Se han eliminado 1010 datos duplicados e incompletos\n"
          ]
        }
      ]
    },
    {
      "cell_type": "code",
      "source": [
        "#Se borra la columna Producto, se considera irrelevante, además no cuenta con valores\n",
        "ventas2019.drop(ventas2019[ventas2019['Producto ']=='Producto '].index,inplace=True)"
      ],
      "metadata": {
        "id": "8bm3o3GquMwt"
      },
      "execution_count": null,
      "outputs": []
    },
    {
      "cell_type": "code",
      "source": [
        "ventas2019['Producto '].unique()"
      ],
      "metadata": {
        "colab": {
          "base_uri": "https://localhost:8080/"
        },
        "id": "b9pbfhi4u5-t",
        "outputId": "9d901370-19f9-4edd-e37e-961589793b61"
      },
      "execution_count": null,
      "outputs": [
        {
          "output_type": "execute_result",
          "data": {
            "text/plain": [
              "array(['Audifonos Apple Airpods', 'Parlante Google HomeMini',\n",
              "       'Cable de Carga Lightning', 'Samsung Galaxy A302',\n",
              "       'AAA Batteries (4-pack)', 'Multiolla Oster 0150 Negra PE',\n",
              "       'Cable de Carga USB-C P/O', 'AA Batteries (4-pack)',\n",
              "       'Horno Microondas 0.8P Samsung AGE',\n",
              "       'Freidora Saludable B&D 3.5 Litros', 'Xiaomi REDMI Note 8',\n",
              "       'Motorola G8 Plus Red', 'Audifonos Bose SoundSport',\n",
              "       'Freidora Air Fryer Kalley K-MAF25',\n",
              "       'Asus VivoBook X420FA-BV Laptop',\n",
              "       'Macbook Air MQD32E/A 128GB 13.3\"', 'LG Lavadora 19Kg Inv WT19',\n",
              "       'LG Secadora Carga Frontal', 'Samsung Galaxy A20S'], dtype=object)"
            ]
          },
          "metadata": {},
          "execution_count": 15
        }
      ]
    },
    {
      "cell_type": "markdown",
      "source": [
        "#<FONT FACE=\"times new roman\" SIZE=4> **4.- Elaborar una gráfica de “Ventas por Mes (año 2019)”**"
      ],
      "metadata": {
        "id": "89bZWO4qJT_D"
      }
    },
    {
      "cell_type": "code",
      "source": [
        "fig=plt.figure(figsize=(10,5))\n",
        "#Se agrupan las ventas por mes\n",
        "dfg=ventas2019.groupby('Mes')['Ventas'].sum()\n",
        "plt.title(\"Ventas por Mes (año 2019)\")\n",
        "dfg.plot(kind='bar',xlabel='Mes',ylabel='Ventas',color='purple')\n",
        "plt.show()"
      ],
      "metadata": {
        "colab": {
          "base_uri": "https://localhost:8080/"
        },
        "id": "eZeXKaLOlF_t",
        "outputId": "9c031796-052e-44a9-c391-b9a00b2b47fb"
      },
      "execution_count": null,
      "outputs": [
        {
          "output_type": "display_data",
          "data": {
            "text/plain": [
              "<Figure size 720x360 with 1 Axes>"
            ],
            "image/png": "[encoded data removed]"
          },
          "metadata": {
            "needs_background": "light"
          }
        }
      ]
    },
    {
      "cell_type": "markdown",
      "source": [
        "#<FONT FACE=\"times new roman\" SIZE=4> **5.- ¿Cuál fue el mejor mes en ventas del año 2019? Explique**\n"
      ],
      "metadata": {
        "id": "aywsqM0sJWzz"
      }
    },
    {
      "cell_type": "code",
      "source": [
        "ventas2019[(ventas2019.Mes==12)]['Ventas'].sum()"
      ],
      "metadata": {
        "colab": {
          "base_uri": "https://localhost:8080/"
        },
        "id": "QK1m-ECZiUCF",
        "outputId": "fa5573a5-4fb6-498f-fefb-631d0ec66db7"
      },
      "execution_count": null,
      "outputs": [
        {
          "output_type": "execute_result",
          "data": {
            "text/plain": [
              "8113461773"
            ]
          },
          "metadata": {},
          "execution_count": 17
        }
      ]
    },
    {
      "cell_type": "markdown",
      "source": [
        "<FONT FACE=\"times new roman\" SIZE=4> Según la gráfica anterior, el mes con mayor ventas corresponde al 12, es decir Diciembre, con un total de 8.113.461.773 ventas. El mes de diciembre fue en el que más se vendió, porque es el mes feriado donde se hacen más regalos por motivo de navidades."
      ],
      "metadata": {
        "id": "Czpb2uAy8ILa"
      }
    },
    {
      "cell_type": "markdown",
      "source": [
        "#<FONT FACE=\"times new roman\" SIZE=4> **6.- ¿Cuál fue el peor mes en ventas del año 2019? Explique**\n"
      ],
      "metadata": {
        "id": "gma4CJwwJW7I"
      }
    },
    {
      "cell_type": "code",
      "source": [
        "ventas2019[(ventas2019.Mes==9)]['Ventas'].sum()"
      ],
      "metadata": {
        "colab": {
          "base_uri": "https://localhost:8080/"
        },
        "id": "sxLJWrMkvSRI",
        "outputId": "861f4716-dbd6-4e52-c27a-1c6bec4e336c"
      },
      "execution_count": null,
      "outputs": [
        {
          "output_type": "execute_result",
          "data": {
            "text/plain": [
              "1286982234"
            ]
          },
          "metadata": {},
          "execution_count": 18
        }
      ]
    },
    {
      "cell_type": "markdown",
      "source": [
        "<FONT FACE=\"times new roman\" SIZE=4> Según la gráfica anterior, el mes con menor ventas corresponde al 9, es decir Septiembre, con un total de 1.286.982.234 ventas. El mes de septiembre es el mes con menos ventas porque los productos que se comercializan son mayormente de tecnología y septiembre es donde se suele comprar mayormente ropa y textiles antes de dicimebre, ya que los precios son un poco más bajos. "
      ],
      "metadata": {
        "id": "zj25yC2gPEv-"
      }
    },
    {
      "cell_type": "markdown",
      "source": [
        "#<FONT FACE=\"times new roman\" SIZE=4> **7.- Elabore una gráfica de \"Ventas por Ciudad (año 2019)\"**"
      ],
      "metadata": {
        "id": "DhGbPoM8JXDW"
      }
    },
    {
      "cell_type": "code",
      "source": [
        "fig=plt.figure(figsize=(10,5))\n",
        "plt.title(\"Ventas por Ciudad (año 2019)\")\n",
        "dfg=ventas2019.groupby('Ciudad')['Ventas'].sum()\n",
        "dfg.plot(kind='bar',xlabel='Ciudad',ylabel='Ventas',color='purple')\n",
        "plt.show()"
      ],
      "metadata": {
        "id": "Him3Rq7kfFZR",
        "colab": {
          "base_uri": "https://localhost:8080/"
        },
        "outputId": "73231cca-b1d6-4640-90c9-30999e7ad111"
      },
      "execution_count": null,
      "outputs": [
        {
          "output_type": "display_data",
          "data": {
            "text/plain": [
              "<Figure size 720x360 with 1 Axes>"
            ],
            "image/png": "[encoded data removed]"
          },
          "metadata": {
            "needs_background": "light"
          }
        }
      ]
    },
    {
      "cell_type": "markdown",
      "source": [
        "#<FONT FACE=\"times new roman\" SIZE=4> **8.- ¿Cuál fue la ciudad que más productos vendió? Explique**"
      ],
      "metadata": {
        "id": "ZqOVvgs-JXJO"
      }
    },
    {
      "cell_type": "code",
      "source": [
        "ventas2019[(ventas2019.Ciudad=='Medellin  AN')]['Ventas'].sum()"
      ],
      "metadata": {
        "colab": {
          "base_uri": "https://localhost:8080/"
        },
        "id": "tDoUuvdAnOxP",
        "outputId": "28b1fc38-1a15-4a21-dadd-8ae9ae8701aa"
      },
      "execution_count": null,
      "outputs": [
        {
          "output_type": "execute_result",
          "data": {
            "text/plain": [
              "13378861427"
            ]
          },
          "metadata": {},
          "execution_count": 20
        }
      ]
    },
    {
      "cell_type": "markdown",
      "source": [
        "<FONT FACE=\"times new roman\" SIZE=4> Según la gráfica anterior, la ciudad con mayor número de ventas corresponde a Medellin, con un total de 13.378.861.427 ventas. La ciudad de medellín es unos de los centros de ventas más grandes del pais, gracias a sus finanzas consistentes y buena administración."
      ],
      "metadata": {
        "id": "O5uggxZvEku4"
      }
    },
    {
      "cell_type": "markdown",
      "source": [
        "#<FONT FACE=\"times new roman\" SIZE=4> **9.- Elabore una gráfica de “Cantidad de Productos Vendidos (año 2019)”**"
      ],
      "metadata": {
        "id": "4WzdOhrgJXPh"
      }
    },
    {
      "cell_type": "code",
      "source": [
        "fig=plt.figure(figsize=(10,5))\n",
        "plt.title(\"Cantidad de Productos Vendidos (año 2019)\")\n",
        "dfg=ventas2019.groupby('Producto ')[' Cantidad Ordenada'].sum()\n",
        "dfg.plot(kind='bar',xlabel='Producto ',ylabel=' Cantidad Ordenada',color='purple')\n",
        "plt.xticks(rotation=90)\n",
        "plt.show()"
      ],
      "metadata": {
        "id": "DbgKyhsngGJz",
        "colab": {
          "base_uri": "https://localhost:8080/"
        },
        "outputId": "ad4950f6-93be-46a8-9a47-a5cef50533d8"
      },
      "execution_count": null,
      "outputs": [
        {
          "output_type": "display_data",
          "data": {
            "text/plain": [
              "<Figure size 720x360 with 1 Axes>"
            ],
            "image/png": "[encoded data removed]"
          },
          "metadata": {
            "needs_background": "light"
          }
        }
      ]
    },
    {
      "cell_type": "markdown",
      "source": [
        "#<FONT FACE=\"times new roman\" SIZE=4> **10.- ¿Cuál es el producto más vendido?**\n"
      ],
      "metadata": {
        "id": "ElHxkC-nJXV5"
      }
    },
    {
      "cell_type": "code",
      "source": [
        "ventas2019[(ventas2019['Producto ']=='AAA Batteries (4-pack)')][' Cantidad Ordenada'].sum()"
      ],
      "metadata": {
        "colab": {
          "base_uri": "https://localhost:8080/"
        },
        "id": "aufPKIVho8s7",
        "outputId": "ad9f1148-c930-4357-822d-d6ae6488b73f"
      },
      "execution_count": null,
      "outputs": [
        {
          "output_type": "execute_result",
          "data": {
            "text/plain": [
              "24954"
            ]
          },
          "metadata": {},
          "execution_count": 22
        }
      ]
    },
    {
      "cell_type": "markdown",
      "source": [
        "<FONT FACE=\"times new roman\" SIZE=4>En la gráfica anterior se observa que el producto más pedido fue 'AAA Batteries (4-pack)', con una cantidad ordenada de 24954\n"
      ],
      "metadata": {
        "id": "k3diduvRLfQu"
      }
    },
    {
      "cell_type": "markdown",
      "source": [
        "#<FONT FACE=\"times new roman\" SIZE=4> **11.- ¿Por qué piensa que es el más vendido?**"
      ],
      "metadata": {
        "id": "9ZWW_M-IJXcJ"
      }
    },
    {
      "cell_type": "markdown",
      "source": [
        "##<FONT FACE=\"times new roman\" SIZE=4> Las pilas son el producto que la mayoría de aparatos electrónicos utilizan, y que no requieren alto consumo, además son de bajo costo, por ende es lo más comprado."
      ],
      "metadata": {
        "id": "fg8XCJON7gd8"
      }
    },
    {
      "cell_type": "markdown",
      "source": [
        "#<FONT FACE=\"times new roman\" SIZE=4> **12.- Dada las ventas por productos, elabore una gráfica sobre el punto anterior el precio promedio de los productos según el ejemplo**"
      ],
      "metadata": {
        "id": "AmY5lkXx8RgF"
      }
    },
    {
      "cell_type": "markdown",
      "source": [
        "![image.png](data:image/png;base64,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)"
      ],
      "metadata": {
        "id": "hvH6fxD-N62P"
      }
    },
    {
      "cell_type": "code",
      "source": [
        "dfg2=ventas2019.groupby('Producto ')['Precio Unitario '].mean()\n",
        "fig,ax=plt.subplots(figsize=(10,5))\n",
        "ax2 = ax.twinx()\n",
        "ax.bar(dfg.index,dfg.values,color='purple')\n",
        "ax.set_xlabel('Producto')\n",
        "ax.set_ylabel('Cantidad Ordenada')\n",
        "ax2.plot(dfg.index,dfg2.values,color='coral')\n",
        "ax2.set_ylabel('Precio Promedio')\n",
        "plt.title(\"Cantidad de Productos Vendidos (año 2019)\")\n",
        "fig.autofmt_xdate(rotation=90)"
      ],
      "metadata": {
        "colab": {
          "base_uri": "https://localhost:8080/"
        },
        "id": "VgFLNeTpnmZe",
        "outputId": "65b8d2a7-cff8-4351-a20b-1e0e7ca3ff11"
      },
      "execution_count": null,
      "outputs": [
        {
          "output_type": "display_data",
          "data": {
            "text/plain": [
              "<Figure size 720x360 with 2 Axes>"
            ],
            "image/png": "[encoded data removed]"
          },
          "metadata": {
            "needs_background": "light"
          }
        }
      ]
    },
    {
      "cell_type": "markdown",
      "source": [
        "#<FONT FACE=\"times new roman\" SIZE=4> **13.- Describa al menos 5 conclusiones sobre la gráfica del punto 12.**"
      ],
      "metadata": {
        "id": "vqcodFvaKdSZ"
      }
    },
    {
      "cell_type": "markdown",
      "source": [
        "##<FONT FACE=\"times new roman\" SIZE=4> \n",
        "*   El precio de las pilas no varía ya que son rentables y sus ventas son activas.\n",
        "* Los portátiles de la marca ASUS tiene un precio elevado y se vende poco y los MacBook Air tienen un precio aún más exorbitante.\n",
        "*   Los cables de carga se venden mucho debido a su bajo costo.\n",
        "*   Las lavadoras y secadoras no se venden mucho, pero su precio es tan elevado como el del MacBook Air.\n",
        "*   Los celulares casi no se venden, pero se valorizan dependiendo la marca.\n"
      ],
      "metadata": {
        "id": "IcqkHJ4sRit2"
      }
    },
    {
      "cell_type": "markdown",
      "source": [
        "#<FONT FACE=\"times new roman\" SIZE=4> **14.- ¿Cuál es el promedio, desviación, el valor máximo y mínimo de las Ventas en el dataset?**"
      ],
      "metadata": {
        "id": "5IEqLDhULBlY"
      }
    },
    {
      "cell_type": "code",
      "source": [
        "ventas2019.agg(['mean','std','min','max'])['Ventas']"
      ],
      "metadata": {
        "id": "-wYH0IQPiBsn",
        "colab": {
          "base_uri": "https://localhost:8080/"
        },
        "outputId": "d28c711c-23c1-4d4d-fa0c-116db86c65f6"
      },
      "execution_count": null,
      "outputs": [
        {
          "output_type": "execute_result",
          "data": {
            "text/plain": [
              "mean    3.375278e+05\n",
              "std     5.360208e+05\n",
              "min     1.299000e+04\n",
              "max     5.598000e+06\n",
              "Name: Ventas, dtype: float64"
            ]
          },
          "metadata": {},
          "execution_count": 24
        }
      ]
    },
    {
      "cell_type": "markdown",
      "source": [
        "<FONT FACE=\"times new roman\" SIZE=4> \n",
        "* La mayor venta fue de 5.598000e+06\n",
        "* La menor venta fue de 1.299000e+04\n",
        "* La media fue de 3.375278e+05\n",
        "* La desviación estandar fue de 5.360208e+05"
      ],
      "metadata": {
        "id": "3GSnXYF6wK4c"
      }
    },
    {
      "cell_type": "markdown",
      "source": [
        "#<FONT FACE=\"times new roman\" SIZE=4> **15.- ¿Cuál es la proporción de ventas de la ciudad de Cúcuta en el año 2019?**"
      ],
      "metadata": {
        "id": "XBX92roO8k69"
      }
    },
    {
      "cell_type": "markdown",
      "source": [
        "<FONT FACE=\"times new roman\" SIZE=4> En cuanto a la proporción de ventas de Cúcuta, se puede observar que es alta, puesto que corresponde a la tercera ciudad con más ventas (7.409.419.532)"
      ],
      "metadata": {
        "id": "rkWOMkjNNXCa"
      }
    },
    {
      "cell_type": "code",
      "source": [
        "ventas2019[(ventas2019.Ciudad=='Cúcuta  NS')]['Ventas'].sum()"
      ],
      "metadata": {
        "colab": {
          "base_uri": "https://localhost:8080/"
        },
        "id": "Q9Q-VEmCw6QQ",
        "outputId": "6927fb38-dffe-4cf3-dd25-3261d352eac7"
      },
      "execution_count": null,
      "outputs": [
        {
          "output_type": "execute_result",
          "data": {
            "text/plain": [
              "7409419532"
            ]
          },
          "metadata": {},
          "execution_count": 25
        }
      ]
    },
    {
      "cell_type": "markdown",
      "source": [
        "#<FONT FACE=\"times new roman\" SIZE=4> **16.- Calcule el promedio y la desviación estándar de las Ventas, en:**\n",
        "![image.png](data:image/png;base64,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)"
      ],
      "metadata": {
        "id": "Hel9mkAeLP6Q"
      }
    },
    {
      "cell_type": "code",
      "source": [
        "primero=ventas2019.groupby(['Ciudad','Mes']).agg(['mean','std'])['Ventas'].loc['Armenia  QU'].iloc[2:3]\n",
        "primero['Ciudad']='Armenia'\n",
        "primero.insert(0,'Mes','Abril')\n",
        "segundo=ventas2019.groupby(['Ciudad','Mes']).agg(['mean','std'])['Ventas'].loc['Medellin  AN'].iloc[10:12]\n",
        "segundo['Ciudad']='Medellin'\n",
        "segundo['Mes']='Noviembre','Diciembre'\n",
        "tercero=ventas2019.groupby(['Ciudad','Mes']).agg(['mean','std'])['Ventas'].loc['Bogotá  CU'].iloc[4:5]\n",
        "tercero['Ciudad']='Bogotá'\n",
        "tercero['Mes']='Mayo'\n",
        "primero=primero.set_index('Ciudad')\n",
        "segundo=segundo.set_index('Ciudad')\n",
        "tercero=tercero.set_index('Ciudad')\n",
        "otras_ventas=pd.concat([primero,segundo,tercero])\n",
        "otras_ventas"
      ],
      "metadata": {
        "colab": {
          "base_uri": "https://localhost:8080/",
          "height": 206
        },
        "id": "l99avJPXTURt",
        "outputId": "be891630-9945-457c-f30b-ec49b882ab0d"
      },
      "execution_count": null,
      "outputs": [
        {
          "output_type": "execute_result",
          "data": {
            "text/plain": [
              "                Mes           mean            std\n",
              "Ciudad                                           \n",
              "Armenia       Abril  313845.331852  483535.056069\n",
              "Medellin  Noviembre  338353.405083  520971.359900\n",
              "Medellin  Diciembre  337543.964589  542846.295151\n",
              "Bogotá         Mayo  317831.171510  506966.803439"
            ],
            "text/html": [
              "\n",
              "  <div id=\"df-a4edf903-625f-482b-808c-9f6e8cb99a59\">\n",
              "    <div class=\"colab-df-container\">\n",
              "      <div>\n",
              "<style scoped>\n",
              "    .dataframe tbody tr th:only-of-type {\n",
              "        vertical-align: middle;\n",
              "    }\n",
              "\n",
              "    .dataframe tbody tr th {\n",
              "        vertical-align: top;\n",
              "    }\n",
              "\n",
              "    .dataframe thead th {\n",
              "        text-align: right;\n",
              "    }\n",
              "</style>\n",
              "<table border=\"1\" class=\"dataframe\">\n",
              "  <thead>\n",
              "    <tr style=\"text-align: right;\">\n",
              "      <th></th>\n",
              "      <th>Mes</th>\n",
              "      <th>mean</th>\n",
              "      <th>std</th>\n",
              "    </tr>\n",
              "    <tr>\n",
              "      <th>Ciudad</th>\n",
              "      <th></th>\n",
              "      <th></th>\n",
              "      <th></th>\n",
              "    </tr>\n",
              "  </thead>\n",
              "  <tbody>\n",
              "    <tr>\n",
              "      <th>Armenia</th>\n",
              "      <td>Abril</td>\n",
              "      <td>313845.331852</td>\n",
              "      <td>483535.056069</td>\n",
              "    </tr>\n",
              "    <tr>\n",
              "      <th>Medellin</th>\n",
              "      <td>Noviembre</td>\n",
              "      <td>338353.405083</td>\n",
              "      <td>520971.359900</td>\n",
              "    </tr>\n",
              "    <tr>\n",
              "      <th>Medellin</th>\n",
              "      <td>Diciembre</td>\n",
              "      <td>337543.964589</td>\n",
              "      <td>542846.295151</td>\n",
              "    </tr>\n",
              "    <tr>\n",
              "      <th>Bogotá</th>\n",
              "      <td>Mayo</td>\n",
              "      <td>317831.171510</td>\n",
              "      <td>506966.803439</td>\n",
              "    </tr>\n",
              "  </tbody>\n",
              "</table>\n",
              "</div>\n",
              "      <button class=\"colab-df-convert\" onclick=\"convertToInteractive('df-a4edf903-625f-482b-808c-9f6e8cb99a59')\"\n",
              "              title=\"Convert this dataframe to an interactive table.\"\n",
              "              style=\"display:none;\">\n",
              "        \n",
              "  <svg xmlns=\"http://www.w3.org/2000/svg\" height=\"24px\"viewBox=\"0 0 24 24\"\n",
              "       width=\"24px\">\n",
              "    <path d=\"M0 0h24v24H0V0z\" fill=\"none\"/>\n",
              "    <path d=\"M18.56 5.44l.94 2.06.94-2.06 2.06-.94-2.06-.94-.94-2.06-.94 2.06-2.06.94zm-11 1L8.5 8.5l.94-2.06 2.06-.94-2.06-.94L8.5 2.5l-.94 2.06-2.06.94zm10 10l.94 2.06.94-2.06 2.06-.94-2.06-.94-.94-2.06-.94 2.06-2.06.94z\"/><path d=\"M17.41 7.96l-1.37-1.37c-.4-.4-.92-.59-1.43-.59-.52 0-1.04.2-1.43.59L10.3 9.45l-7.72 7.72c-.78.78-.78 2.05 0 2.83L4 21.41c.39.39.9.59 1.41.59.51 0 1.02-.2 1.41-.59l7.78-7.78 2.81-2.81c.8-.78.8-2.07 0-2.86zM5.41 20L4 18.59l7.72-7.72 1.47 1.35L5.41 20z\"/>\n",
              "  </svg>\n",
              "      </button>\n",
              "      \n",
              "  <style>\n",
              "    .colab-df-container {\n",
              "      display:flex;\n",
              "      flex-wrap:wrap;\n",
              "      gap: 12px;\n",
              "    }\n",
              "\n",
              "    .colab-df-convert {\n",
              "      background-color: #E8F0FE;\n",
              "      border: none;\n",
              "      border-radius: 50%;\n",
              "      cursor: pointer;\n",
              "      display: none;\n",
              "      fill: #1967D2;\n",
              "      height: 32px;\n",
              "      padding: 0 0 0 0;\n",
              "      width: 32px;\n",
              "    }\n",
              "\n",
              "    .colab-df-convert:hover {\n",
              "      background-color: #E2EBFA;\n",
              "      box-shadow: 0px 1px 2px rgba(60, 64, 67, 0.3), 0px 1px 3px 1px rgba(60, 64, 67, 0.15);\n",
              "      fill: #174EA6;\n",
              "    }\n",
              "\n",
              "    [theme=dark] .colab-df-convert {\n",
              "      background-color: #3B4455;\n",
              "      fill: #D2E3FC;\n",
              "    }\n",
              "\n",
              "    [theme=dark] .colab-df-convert:hover {\n",
              "      background-color: #434B5C;\n",
              "      box-shadow: 0px 1px 3px 1px rgba(0, 0, 0, 0.15);\n",
              "      filter: drop-shadow(0px 1px 2px rgba(0, 0, 0, 0.3));\n",
              "      fill: #FFFFFF;\n",
              "    }\n",
              "  </style>\n",
              "\n",
              "      <script>\n",
              "        const buttonEl =\n",
              "          document.querySelector('#df-a4edf903-625f-482b-808c-9f6e8cb99a59 button.colab-df-convert');\n",
              "        buttonEl.style.display =\n",
              "          google.colab.kernel.accessAllowed ? 'block' : 'none';\n",
              "\n",
              "        async function convertToInteractive(key) {\n",
              "          const element = document.querySelector('#df-a4edf903-625f-482b-808c-9f6e8cb99a59');\n",
              "          const dataTable =\n",
              "            await google.colab.kernel.invokeFunction('convertToInteractive',\n",
              "                                                     [key], {});\n",
              "          if (!dataTable) return;\n",
              "\n",
              "          const docLinkHtml = 'Like what you see? Visit the ' +\n",
              "            '<a target=\"_blank\" href=https://colab.research.google.com/notebooks/data_table.ipynb>data table notebook</a>'\n",
              "            + ' to learn more about interactive tables.';\n",
              "          element.innerHTML = '';\n",
              "          dataTable['output_type'] = 'display_data';\n",
              "          await google.colab.output.renderOutput(dataTable, element);\n",
              "          const docLink = document.createElement('div');\n",
              "          docLink.innerHTML = docLinkHtml;\n",
              "          element.appendChild(docLink);\n",
              "        }\n",
              "      </script>\n",
              "    </div>\n",
              "  </div>\n",
              "  "
            ]
          },
          "metadata": {},
          "execution_count": 26
        }
      ]
    },
    {
      "cell_type": "markdown",
      "source": [
        "<FONT FACE=\"times new roman\" SIZE=4> \n",
        "* De la anterior tabla se puede observar que el promedio de ventas fue mayor para Medellín en el mes de Noviembre, mientras que el menor promedio de ventas fue en Armenia.\n",
        "* Según la tabla, la desviación estándar fue mayor para Armenia en el mes de abril, razón por la que si se visualizan los datos de ese mes, se obtendrá que se encuentran más dispersos o alejados de la media, con respecto a las demás ciudades contenidas en esta tabla."
      ],
      "metadata": {
        "id": "VpipkBIeY9O_"
      }
    },
    {
      "cell_type": "markdown",
      "source": [
        "#<FONT FACE=\"times new roman\" SIZE=4> **Conclusiones**\n",
        "* Es importante realizar el análisis de los datos, dado a que pueden contener valores nulos o duplicados, que interfieran con la posterior manipulación de los datos.<br>  \n",
        "\n",
        "* En cuanto al dataset, se observó que en el año 2019:\n",
        "  * se realizaron mayores ventas en Medellín\n",
        "  * en Neiva casi no se realizaron ventas\n",
        "  * se realizaron mayores ventas en el mes de Diciembre\n",
        "  * el mes con menores ventas fue Septiembre\n",
        "  * el producto más pedido fueron las baterías triple A\n",
        "  * el productor menos pedido fueron las lavadoras y las secadoras por su precio"
      ],
      "metadata": {
        "id": "IBcIEg2vazN_"
      }
    },
    {
      "cell_type": "markdown",
      "source": [
        "#<FONT FACE=\"times new roman\" SIZE=4> **Referencias**\n",
        "\n",
        "*   https://scikit-learn.org/stable/supervised_learning.html#supervised-learning\n",
        "*   https://pandas.pydata.org/docs/user_guide/merging.html\n",
        "*   https://seaborn.pydata.org/tutorial/categorical.html\n",
        "\n",
        "\n",
        "\n"
      ],
      "metadata": {
        "id": "qwFtSzbJO74c"
      }
    }
  ]
}
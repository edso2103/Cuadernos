{
  "nbformat": 4,
  "nbformat_minor": 0,
  "metadata": {
    "colab": {
      "provenance": [],
      "collapsed_sections": [],
      "include_colab_link": true
    },
    "kernelspec": {
      "name": "python3",
      "display_name": "Python 3"
    },
    "language_info": {
      "name": "python"
    }
  },
  "cells": [
    {
      "cell_type": "markdown",
      "metadata": {
        "id": "view-in-github",
        "colab_type": "text"
      },
      "source": [
        "<a href=\"https://colab.research.google.com/github/edso2103/Cuadernos/blob/main/Parcial_vecinos.ipynb\" target=\"_parent\"><img src=\"https://colab.research.google.com/assets/colab-badge.svg\" alt=\"Open In Colab\"/></a>"
      ]
    },
    {
      "cell_type": "markdown",
      "metadata": {
        "id": "TH981O89TdLb"
      },
      "source": [
        "<div> \n",
        "<img src=\"https://res-5.cloudinary.com/crunchbase-production/image/upload/c_lpad,h_256,w_256,f_auto,q_auto:eco/v1455514364/pim02bzqvgz0hibsra41.png\" align=\"right\"><br><br><FONT FACE=\"times new roman\" SIZE=5>\n",
        "<b></b>\n",
        "<br>\n",
        "<i><b>Docente:</b></i> John Corredor, PhD.\n",
        "<br>\n",
        "<i><b>Asignatura:</b></i> Machine Learning en Computación Avanzada\n",
        "<br>\n",
        "<i><b>Estudiante:</b></i> Alejandro Sánchez, Gabriela Galindo, Sofía Orjuela\n",
        "<br>\n",
        "<i><b>Tema: </b></i>Parcial- K-nearest neighbors\n",
        "<br>\n",
        "<br>\n",
        "26/04/21\n",
        "<br>\n",
        "</FONT>\n",
        "</div>"
      ]
    },
    {
      "cell_type": "markdown",
      "metadata": {
        "id": "iIikVR7tb05A"
      },
      "source": [
        "<FONT FACE=\"times new roman\" SIZE=4>**1. Análisis del dataset *wine*:**\n",
        " \n",
        "\n"
      ]
    },
    {
      "cell_type": "markdown",
      "metadata": {
        "id": "TZH-AQ4iF-Fe"
      },
      "source": [
        "<FONT FACE=\"times new roman\" SIZE=4> En esta sección, por medio de diferentes consultas se desea obtener información acerca del dataset.\n",
        "En este caso, aplicando los temas vistos en clase se implementó un dataset de juguete del módulo de scikit learn que consiste en datos para el reconocimiento de vinos, el cual cuenta con 3 clases, 178 instancias y 13 atributos"
      ]
    },
    {
      "cell_type": "markdown",
      "metadata": {
        "id": "98nAO7pl9n0n"
      },
      "source": [
        "<FONT FACE=\"times new roman\" SIZE=4>**1.1** Se importan las correspondientes bibliotecas"
      ]
    },
    {
      "cell_type": "code",
      "metadata": {
        "id": "APv3sCxaTRqT"
      },
      "source": [
        "import matplotlib.pyplot as plt\n",
        "import numpy as np  \n",
        "from collections import Counter\n",
        "import math \n",
        "import pandas as pd"
      ],
      "execution_count": null,
      "outputs": []
    },
    {
      "cell_type": "markdown",
      "metadata": {
        "id": "jEV2B2rr90Zs"
      },
      "source": [
        "<FONT FACE=\"times new roman\" SIZE=4>**1.2** Se usa un dataset de juguete sobre los vinos y se muestran las keys del dataset"
      ]
    },
    {
      "cell_type": "code",
      "metadata": {
        "id": "e3Cv7uPmk8Yc",
        "colab": {
          "base_uri": "https://localhost:8080/"
        },
        "outputId": "dbcaffae-449e-479d-b82e-27f99e093d82"
      },
      "source": [
        "from sklearn.datasets import load_wine\n",
        "wine=load_wine() \n",
        "print(wine.keys())"
      ],
      "execution_count": null,
      "outputs": [
        {
          "output_type": "stream",
          "text": [
            "dict_keys(['data', 'target', 'target_names', 'DESCR', 'feature_names'])\n"
          ],
          "name": "stdout"
        }
      ]
    },
    {
      "cell_type": "markdown",
      "metadata": {
        "id": "vzJuWR40_DeK"
      },
      "source": [
        "<FONT FACE=\"times new roman\" SIZE=4>**1.3** Se presenta la descripción del dataset"
      ]
    },
    {
      "cell_type": "code",
      "metadata": {
        "id": "TxOTkq0HbdGQ",
        "colab": {
          "base_uri": "https://localhost:8080/"
        },
        "outputId": "21dd218e-604a-4dad-cafb-52e46b001316"
      },
      "source": [
        "print(wine['DESCR'])"
      ],
      "execution_count": null,
      "outputs": [
        {
          "output_type": "stream",
          "text": [
            ".. _wine_dataset:\n",
            "\n",
            "Wine recognition dataset\n",
            "------------------------\n",
            "\n",
            "**Data Set Characteristics:**\n",
            "\n",
            "    :Number of Instances: 178 (50 in each of three classes)\n",
            "    :Number of Attributes: 13 numeric, predictive attributes and the class\n",
            "    :Attribute Information:\n",
            " \t\t- Alcohol\n",
            " \t\t- Malic acid\n",
            " \t\t- Ash\n",
            "\t\t- Alcalinity of ash  \n",
            " \t\t- Magnesium\n",
            "\t\t- Total phenols\n",
            " \t\t- Flavanoids\n",
            " \t\t- Nonflavanoid phenols\n",
            " \t\t- Proanthocyanins\n",
            "\t\t- Color intensity\n",
            " \t\t- Hue\n",
            " \t\t- OD280/OD315 of diluted wines\n",
            " \t\t- Proline\n",
            "\n",
            "    - class:\n",
            "            - class_0\n",
            "            - class_1\n",
            "            - class_2\n",
            "\t\t\n",
            "    :Summary Statistics:\n",
            "    \n",
            "    ============================= ==== ===== ======= =====\n",
            "                                   Min   Max   Mean     SD\n",
            "    ============================= ==== ===== ======= =====\n",
            "    Alcohol:                      11.0  14.8    13.0   0.8\n",
            "    Malic Acid:                   0.74  5.80    2.34  1.12\n",
            "    Ash:                          1.36  3.23    2.36  0.27\n",
            "    Alcalinity of Ash:            10.6  30.0    19.5   3.3\n",
            "    Magnesium:                    70.0 162.0    99.7  14.3\n",
            "    Total Phenols:                0.98  3.88    2.29  0.63\n",
            "    Flavanoids:                   0.34  5.08    2.03  1.00\n",
            "    Nonflavanoid Phenols:         0.13  0.66    0.36  0.12\n",
            "    Proanthocyanins:              0.41  3.58    1.59  0.57\n",
            "    Colour Intensity:              1.3  13.0     5.1   2.3\n",
            "    Hue:                          0.48  1.71    0.96  0.23\n",
            "    OD280/OD315 of diluted wines: 1.27  4.00    2.61  0.71\n",
            "    Proline:                       278  1680     746   315\n",
            "    ============================= ==== ===== ======= =====\n",
            "\n",
            "    :Missing Attribute Values: None\n",
            "    :Class Distribution: class_0 (59), class_1 (71), class_2 (48)\n",
            "    :Creator: R.A. Fisher\n",
            "    :Donor: Michael Marshall (MARSHALL%PLU@io.arc.nasa.gov)\n",
            "    :Date: July, 1988\n",
            "\n",
            "This is a copy of UCI ML Wine recognition datasets.\n",
            "https://archive.ics.uci.edu/ml/machine-learning-databases/wine/wine.data\n",
            "\n",
            "The data is the results of a chemical analysis of wines grown in the same\n",
            "region in Italy by three different cultivators. There are thirteen different\n",
            "measurements taken for different constituents found in the three types of\n",
            "wine.\n",
            "\n",
            "Original Owners: \n",
            "\n",
            "Forina, M. et al, PARVUS - \n",
            "An Extendible Package for Data Exploration, Classification and Correlation. \n",
            "Institute of Pharmaceutical and Food Analysis and Technologies,\n",
            "Via Brigata Salerno, 16147 Genoa, Italy.\n",
            "\n",
            "Citation:\n",
            "\n",
            "Lichman, M. (2013). UCI Machine Learning Repository\n",
            "[https://archive.ics.uci.edu/ml]. Irvine, CA: University of California,\n",
            "School of Information and Computer Science. \n",
            "\n",
            ".. topic:: References\n",
            "\n",
            "  (1) S. Aeberhard, D. Coomans and O. de Vel, \n",
            "  Comparison of Classifiers in High Dimensional Settings, \n",
            "  Tech. Rep. no. 92-02, (1992), Dept. of Computer Science and Dept. of  \n",
            "  Mathematics and Statistics, James Cook University of North Queensland. \n",
            "  (Also submitted to Technometrics). \n",
            "\n",
            "  The data was used with many others for comparing various \n",
            "  classifiers. The classes are separable, though only RDA \n",
            "  has achieved 100% correct classification. \n",
            "  (RDA : 100%, QDA 99.4%, LDA 98.9%, 1NN 96.1% (z-transformed data)) \n",
            "  (All results using the leave-one-out technique) \n",
            "\n",
            "  (2) S. Aeberhard, D. Coomans and O. de Vel, \n",
            "  \"THE CLASSIFICATION PERFORMANCE OF RDA\" \n",
            "  Tech. Rep. no. 92-01, (1992), Dept. of Computer Science and Dept. of \n",
            "  Mathematics and Statistics, James Cook University of North Queensland. \n",
            "  (Also submitted to Journal of Chemometrics).\n",
            "\n"
          ],
          "name": "stdout"
        }
      ]
    },
    {
      "cell_type": "markdown",
      "metadata": {
        "id": "yWeofb0V_ZKS"
      },
      "source": [
        "<FONT FACE=\"times new roman\" SIZE=4>**1.4** Por medio  del módulo de pandas se crea el dataframe y se muestran las cinco primeras filas"
      ]
    },
    {
      "cell_type": "code",
      "metadata": {
        "id": "B_AiR8DfluHp",
        "colab": {
          "base_uri": "https://localhost:8080/",
          "height": 204
        },
        "outputId": "79515f7e-1265-4b63-d3e8-b93e95c15846"
      },
      "source": [
        "wineDataframe=pd.DataFrame(wine.data,columns=wine.feature_names)\n",
        "wineDataframe.head()"
      ],
      "execution_count": null,
      "outputs": [
        {
          "output_type": "execute_result",
          "data": {
            "text/html": [
              "<div>\n",
              "<style scoped>\n",
              "    .dataframe tbody tr th:only-of-type {\n",
              "        vertical-align: middle;\n",
              "    }\n",
              "\n",
              "    .dataframe tbody tr th {\n",
              "        vertical-align: top;\n",
              "    }\n",
              "\n",
              "    .dataframe thead th {\n",
              "        text-align: right;\n",
              "    }\n",
              "</style>\n",
              "<table border=\"1\" class=\"dataframe\">\n",
              "  <thead>\n",
              "    <tr style=\"text-align: right;\">\n",
              "      <th></th>\n",
              "      <th>alcohol</th>\n",
              "      <th>malic_acid</th>\n",
              "      <th>ash</th>\n",
              "      <th>alcalinity_of_ash</th>\n",
              "      <th>magnesium</th>\n",
              "      <th>total_phenols</th>\n",
              "      <th>flavanoids</th>\n",
              "      <th>nonflavanoid_phenols</th>\n",
              "      <th>proanthocyanins</th>\n",
              "      <th>color_intensity</th>\n",
              "      <th>hue</th>\n",
              "      <th>od280/od315_of_diluted_wines</th>\n",
              "      <th>proline</th>\n",
              "    </tr>\n",
              "  </thead>\n",
              "  <tbody>\n",
              "    <tr>\n",
              "      <th>0</th>\n",
              "      <td>14.23</td>\n",
              "      <td>1.71</td>\n",
              "      <td>2.43</td>\n",
              "      <td>15.6</td>\n",
              "      <td>127.0</td>\n",
              "      <td>2.80</td>\n",
              "      <td>3.06</td>\n",
              "      <td>0.28</td>\n",
              "      <td>2.29</td>\n",
              "      <td>5.64</td>\n",
              "      <td>1.04</td>\n",
              "      <td>3.92</td>\n",
              "      <td>1065.0</td>\n",
              "    </tr>\n",
              "    <tr>\n",
              "      <th>1</th>\n",
              "      <td>13.20</td>\n",
              "      <td>1.78</td>\n",
              "      <td>2.14</td>\n",
              "      <td>11.2</td>\n",
              "      <td>100.0</td>\n",
              "      <td>2.65</td>\n",
              "      <td>2.76</td>\n",
              "      <td>0.26</td>\n",
              "      <td>1.28</td>\n",
              "      <td>4.38</td>\n",
              "      <td>1.05</td>\n",
              "      <td>3.40</td>\n",
              "      <td>1050.0</td>\n",
              "    </tr>\n",
              "    <tr>\n",
              "      <th>2</th>\n",
              "      <td>13.16</td>\n",
              "      <td>2.36</td>\n",
              "      <td>2.67</td>\n",
              "      <td>18.6</td>\n",
              "      <td>101.0</td>\n",
              "      <td>2.80</td>\n",
              "      <td>3.24</td>\n",
              "      <td>0.30</td>\n",
              "      <td>2.81</td>\n",
              "      <td>5.68</td>\n",
              "      <td>1.03</td>\n",
              "      <td>3.17</td>\n",
              "      <td>1185.0</td>\n",
              "    </tr>\n",
              "    <tr>\n",
              "      <th>3</th>\n",
              "      <td>14.37</td>\n",
              "      <td>1.95</td>\n",
              "      <td>2.50</td>\n",
              "      <td>16.8</td>\n",
              "      <td>113.0</td>\n",
              "      <td>3.85</td>\n",
              "      <td>3.49</td>\n",
              "      <td>0.24</td>\n",
              "      <td>2.18</td>\n",
              "      <td>7.80</td>\n",
              "      <td>0.86</td>\n",
              "      <td>3.45</td>\n",
              "      <td>1480.0</td>\n",
              "    </tr>\n",
              "    <tr>\n",
              "      <th>4</th>\n",
              "      <td>13.24</td>\n",
              "      <td>2.59</td>\n",
              "      <td>2.87</td>\n",
              "      <td>21.0</td>\n",
              "      <td>118.0</td>\n",
              "      <td>2.80</td>\n",
              "      <td>2.69</td>\n",
              "      <td>0.39</td>\n",
              "      <td>1.82</td>\n",
              "      <td>4.32</td>\n",
              "      <td>1.04</td>\n",
              "      <td>2.93</td>\n",
              "      <td>735.0</td>\n",
              "    </tr>\n",
              "  </tbody>\n",
              "</table>\n",
              "</div>"
            ],
            "text/plain": [
              "   alcohol  malic_acid   ash  ...   hue  od280/od315_of_diluted_wines  proline\n",
              "0    14.23        1.71  2.43  ...  1.04                          3.92   1065.0\n",
              "1    13.20        1.78  2.14  ...  1.05                          3.40   1050.0\n",
              "2    13.16        2.36  2.67  ...  1.03                          3.17   1185.0\n",
              "3    14.37        1.95  2.50  ...  0.86                          3.45   1480.0\n",
              "4    13.24        2.59  2.87  ...  1.04                          2.93    735.0\n",
              "\n",
              "[5 rows x 13 columns]"
            ]
          },
          "metadata": {
            "tags": []
          },
          "execution_count": 4
        }
      ]
    },
    {
      "cell_type": "markdown",
      "metadata": {
        "id": "3H6rDzRi_kBA"
      },
      "source": [
        "<FONT FACE=\"times new roman\" SIZE=4>**1.5** Se presentan las 13 características del dataset"
      ]
    },
    {
      "cell_type": "code",
      "metadata": {
        "id": "x1AInerLbjbk",
        "colab": {
          "base_uri": "https://localhost:8080/"
        },
        "outputId": "7350eece-fd79-4a3e-bab2-72dee86c75d1"
      },
      "source": [
        "print(wine.feature_names) "
      ],
      "execution_count": null,
      "outputs": [
        {
          "output_type": "stream",
          "text": [
            "['alcohol', 'malic_acid', 'ash', 'alcalinity_of_ash', 'magnesium', 'total_phenols', 'flavanoids', 'nonflavanoid_phenols', 'proanthocyanins', 'color_intensity', 'hue', 'od280/od315_of_diluted_wines', 'proline']\n"
          ],
          "name": "stdout"
        }
      ]
    },
    {
      "cell_type": "markdown",
      "metadata": {
        "id": "AkWR_GEJ_2jj"
      },
      "source": [
        "<FONT FACE=\"times new roman\" SIZE=4>**1.6** Se presentan las 3 clases de vinos $target-names$"
      ]
    },
    {
      "cell_type": "code",
      "metadata": {
        "id": "M_bPnfWnbobx",
        "colab": {
          "base_uri": "https://localhost:8080/"
        },
        "outputId": "8ea66a90-c51d-46f3-9e12-6621cb6fa578"
      },
      "source": [
        "print(wine.target_names)"
      ],
      "execution_count": null,
      "outputs": [
        {
          "output_type": "stream",
          "text": [
            "['class_0' 'class_1' 'class_2']\n"
          ],
          "name": "stdout"
        }
      ]
    },
    {
      "cell_type": "markdown",
      "metadata": {
        "id": "297maONZAHxh"
      },
      "source": [
        "<FONT FACE=\"times new roman\" SIZE=4>**1.7** Se presentan la dimensión del dataset (178 filas y 13 columnas)"
      ]
    },
    {
      "cell_type": "code",
      "metadata": {
        "id": "0FssfTBKbxU5",
        "colab": {
          "base_uri": "https://localhost:8080/"
        },
        "outputId": "f69d01de-79cf-45a2-d881-f4588d6458fc"
      },
      "source": [
        "wine.data.shape"
      ],
      "execution_count": null,
      "outputs": [
        {
          "output_type": "execute_result",
          "data": {
            "text/plain": [
              "(178, 13)"
            ]
          },
          "metadata": {
            "tags": []
          },
          "execution_count": 7
        }
      ]
    },
    {
      "cell_type": "markdown",
      "metadata": {
        "id": "1HTEwe5TAUjo"
      },
      "source": [
        "<FONT FACE=\"times new roman\" SIZE=4>**1.8** Se presenta el número de datos de cada clase *(class_0, class_1 y class_2)*"
      ]
    },
    {
      "cell_type": "code",
      "metadata": {
        "id": "V5A6aai6b2YL",
        "colab": {
          "base_uri": "https://localhost:8080/"
        },
        "outputId": "bc81c697-a5cc-4ffa-b786-c356327f1713"
      },
      "source": [
        "print({n: i for n,i in zip(wine.target_names,np.bincount(wine.target))})"
      ],
      "execution_count": null,
      "outputs": [
        {
          "output_type": "stream",
          "text": [
            "{'class_0': 59, 'class_1': 71, 'class_2': 48}\n"
          ],
          "name": "stdout"
        }
      ]
    },
    {
      "cell_type": "markdown",
      "metadata": {
        "id": "inEt-gXgAsy3"
      },
      "source": [
        "<FONT FACE=\"times new roman\" SIZE=4>**1.9** Se presenta el contenido del arreglo de clases *(target)*"
      ]
    },
    {
      "cell_type": "code",
      "metadata": {
        "id": "dYKVZujvcL0z",
        "colab": {
          "base_uri": "https://localhost:8080/"
        },
        "outputId": "fb57a7ad-e765-4c96-9a24-9845ea14ad45"
      },
      "source": [
        "print(\"Contenido del array <target>: \\n\\n\\n{}\".format(wine['target']))"
      ],
      "execution_count": null,
      "outputs": [
        {
          "output_type": "stream",
          "text": [
            "Contenido del array <target>: \n",
            "\n",
            "\n",
            "[0 0 0 0 0 0 0 0 0 0 0 0 0 0 0 0 0 0 0 0 0 0 0 0 0 0 0 0 0 0 0 0 0 0 0 0 0\n",
            " 0 0 0 0 0 0 0 0 0 0 0 0 0 0 0 0 0 0 0 0 0 0 1 1 1 1 1 1 1 1 1 1 1 1 1 1 1\n",
            " 1 1 1 1 1 1 1 1 1 1 1 1 1 1 1 1 1 1 1 1 1 1 1 1 1 1 1 1 1 1 1 1 1 1 1 1 1\n",
            " 1 1 1 1 1 1 1 1 1 1 1 1 1 1 1 1 1 1 1 2 2 2 2 2 2 2 2 2 2 2 2 2 2 2 2 2 2\n",
            " 2 2 2 2 2 2 2 2 2 2 2 2 2 2 2 2 2 2 2 2 2 2 2 2 2 2 2 2 2 2]\n"
          ],
          "name": "stdout"
        }
      ]
    },
    {
      "cell_type": "markdown",
      "metadata": {
        "id": "933o4L-_cPNt"
      },
      "source": [
        "<FONT FACE=\"times new roman\" SIZE=4>**2. Implementación del clasificador de Scikit-learn neighbors KNeighborsClassifier  :**\n",
        " \n"
      ]
    },
    {
      "cell_type": "markdown",
      "metadata": {
        "id": "EboTGQ_0ICZi"
      },
      "source": [
        "<FONT FACE=\"times new roman\" SIZE=4> En esta sección se busca implementar el clasificador de Scikit-learn para la posterior comparación con el modelo implementado desde cero."
      ]
    },
    {
      "cell_type": "markdown",
      "metadata": {
        "id": "T8LGW7M6A92Y"
      },
      "source": [
        "<FONT FACE=\"times new roman\" SIZE=4>**2.1** Se dividen los datos en entrenamiento y de prueba *(train(80), test(20))* por medio del módulo de sklearn, *train_test_split*"
      ]
    },
    {
      "cell_type": "code",
      "metadata": {
        "id": "PptlhAbRc2hk"
      },
      "source": [
        "#set_size=0.2 para modificar el porcentaje para entrenar \n",
        "\n",
        "from sklearn.model_selection import train_test_split\n",
        "X_train,X_test,y_train,y_test=train_test_split(wine['data'],\n",
        "                                               wine['target'],\n",
        "                                               test_size=0.2,\n",
        "                                               random_state=0)"
      ],
      "execution_count": null,
      "outputs": []
    },
    {
      "cell_type": "markdown",
      "metadata": {
        "id": "tvhYUwp8Bi8F"
      },
      "source": [
        "<FONT FACE=\"times new roman\" SIZE=4>**2.2** Se presentan las dimensiones del train y del test (x,y)"
      ]
    },
    {
      "cell_type": "code",
      "metadata": {
        "id": "zQVqEvlK1lRN",
        "colab": {
          "base_uri": "https://localhost:8080/"
        },
        "outputId": "754769f6-fb54-4c79-c5ba-76220804883b"
      },
      "source": [
        "print(X_train.shape)\n",
        "print(y_train.shape)\n",
        "print(X_test.shape)\n",
        "print(y_test.shape)"
      ],
      "execution_count": null,
      "outputs": [
        {
          "output_type": "stream",
          "text": [
            "(142, 13)\n",
            "(142,)\n",
            "(36, 13)\n",
            "(36,)\n"
          ],
          "name": "stdout"
        }
      ]
    },
    {
      "cell_type": "markdown",
      "metadata": {
        "id": "CBigYBfxBxP2"
      },
      "source": [
        "<FONT FACE=\"times new roman\" SIZE=4>**2.3** Se importa el módulo clasificador de vecinos más cercanos *(1 vecino)* y se ajusta el modelo *(fit)*"
      ]
    },
    {
      "cell_type": "code",
      "metadata": {
        "id": "J0jXsoG0deR2",
        "colab": {
          "base_uri": "https://localhost:8080/"
        },
        "outputId": "57d31f65-d4a0-4041-c950-bbe794f0a578"
      },
      "source": [
        "from sklearn.neighbors import KNeighborsClassifier\n",
        "modeloKNN=KNeighborsClassifier(n_neighbors=1)\n",
        "modeloKNN.fit(X_train,y_train)#ajustar el modelo"
      ],
      "execution_count": null,
      "outputs": [
        {
          "output_type": "execute_result",
          "data": {
            "text/plain": [
              "KNeighborsClassifier(algorithm='auto', leaf_size=30, metric='minkowski',\n",
              "                     metric_params=None, n_jobs=None, n_neighbors=1, p=2,\n",
              "                     weights='uniform')"
            ]
          },
          "metadata": {
            "tags": []
          },
          "execution_count": 12
        }
      ]
    },
    {
      "cell_type": "markdown",
      "metadata": {
        "id": "wMUXe5P2CFCr"
      },
      "source": [
        "<FONT FACE=\"times new roman\" SIZE=4>**2.4** Se muestran las predicciones sobre el conjunto de prueba\n"
      ]
    },
    {
      "cell_type": "code",
      "metadata": {
        "id": "cSQp7fI1dfMr",
        "colab": {
          "base_uri": "https://localhost:8080/"
        },
        "outputId": "bba5839d-dea9-4fcf-ac86-f3bb2cd5b3c8"
      },
      "source": [
        "print(\"Predicciones sobre el conjunto de entrenamiento\")\n",
        "print(modeloKNN.predict(X_test))"
      ],
      "execution_count": null,
      "outputs": [
        {
          "output_type": "stream",
          "text": [
            "Predicciones sobre el conjunto de entrenamiento\n",
            "[0 1 1 0 1 1 0 2 1 1 0 1 0 2 2 1 0 0 1 0 1 0 1 1 0 1 1 1 2 2 0 0 2 0 0 0]\n"
          ],
          "name": "stdout"
        }
      ]
    },
    {
      "cell_type": "code",
      "metadata": {
        "id": "nPjAW9rDESa4"
      },
      "source": [],
      "execution_count": null,
      "outputs": []
    },
    {
      "cell_type": "markdown",
      "metadata": {
        "id": "8xyTpbUlCMWY"
      },
      "source": [
        "<FONT FACE=\"times new roman\" SIZE=4>**2.5** Se muestran los valores reales de las etiquetas"
      ]
    },
    {
      "cell_type": "code",
      "metadata": {
        "id": "yUNy7LmjeSRt",
        "colab": {
          "base_uri": "https://localhost:8080/"
        },
        "outputId": "cc910eaf-3cf8-448d-d6bd-1e57a9db4022"
      },
      "source": [
        "print(\"Valores reales\",y_test)"
      ],
      "execution_count": null,
      "outputs": [
        {
          "output_type": "stream",
          "text": [
            "Valores reales [0 2 1 0 1 1 0 2 1 1 2 2 0 1 2 1 0 0 1 0 1 0 0 1 1 1 1 1 1 2 0 0 1 0 0 0]\n"
          ],
          "name": "stdout"
        }
      ]
    },
    {
      "cell_type": "markdown",
      "metadata": {
        "id": "tI6OzpS7CUJZ"
      },
      "source": [
        "<FONT FACE=\"times new roman\" SIZE=4>**2.6** Se halla la precisión del modelo "
      ]
    },
    {
      "cell_type": "code",
      "metadata": {
        "id": "kP1W3OQQdpMZ",
        "colab": {
          "base_uri": "https://localhost:8080/"
        },
        "outputId": "66f1d645-2937-41db-a708-ead235271cfa"
      },
      "source": [
        "score=modeloKNN.score(X_test,y_test)\n",
        "round(score,3)\n",
        "#Se presenta una precisión moderada"
      ],
      "execution_count": null,
      "outputs": [
        {
          "output_type": "execute_result",
          "data": {
            "text/plain": [
              "0.778"
            ]
          },
          "metadata": {
            "tags": []
          },
          "execution_count": 15
        }
      ]
    },
    {
      "cell_type": "markdown",
      "metadata": {
        "id": "Mx_T00MGcgrs"
      },
      "source": [
        "<FONT FACE=\"times new roman\" SIZE=4>**3. Implementación del clasificador  KNN desde 0 :**"
      ]
    },
    {
      "cell_type": "markdown",
      "metadata": {
        "id": "A3rqMiKDJkV0"
      },
      "source": [
        "<FONT FACE=\"times new roman\" SIZE=4> A continuación se desarrollará el clasificador de KNN desde cero, para lo cual se tendrá en cuenta la fórmula de la distancia Euclidiana"
      ]
    },
    {
      "cell_type": "markdown",
      "metadata": {
        "id": "kqPB6DxQCuZ3"
      },
      "source": [
        "<FONT FACE=\"times new roman\" SIZE=4>**3.1** Se crean las variable $X, y$ y se le asignan los valores correspondientes del dataset"
      ]
    },
    {
      "cell_type": "code",
      "metadata": {
        "id": "FoT_Q2dWl5U1"
      },
      "source": [
        "X= wine.data.astype(int)\n",
        "y= wine.target.astype(int)"
      ],
      "execution_count": null,
      "outputs": []
    },
    {
      "cell_type": "markdown",
      "metadata": {
        "id": "CFZ8GCX0C7_W"
      },
      "source": [
        "<FONT FACE=\"times new roman\" SIZE=4>**3.2** Se divide el conjunto de datos de entrenamiento (80%) y de prueba (20%)\n"
      ]
    },
    {
      "cell_type": "code",
      "metadata": {
        "id": "-nW6n_KlcfrE"
      },
      "source": [
        "np.random.seed(1)\n",
        "msk = np.random.rand(len(wine.data)) < 0.8\n",
        "train_x = X[msk]\n",
        "test_x = X[~msk]\n",
        "train_y = y[msk]\n",
        "test_y = y[~msk]"
      ],
      "execution_count": null,
      "outputs": []
    },
    {
      "cell_type": "markdown",
      "metadata": {
        "id": "d7VmEOShDIef"
      },
      "source": [
        "<FONT FACE=\"times new roman\" SIZE=4>**3.3** Se presentan las dimensiones del train y test *(x,y)*"
      ]
    },
    {
      "cell_type": "code",
      "metadata": {
        "id": "mpYD9aX_t3Yl",
        "colab": {
          "base_uri": "https://localhost:8080/"
        },
        "outputId": "f7351a16-6190-4334-bc42-d715cb0615ea"
      },
      "source": [
        "print(\"X train dimensión:{}\".format(train_x.shape))\n",
        "print(\"X test dimensión:{}\".format(test_x.shape))\n",
        "print(\"y train dimensión:{}\".format(train_y.shape))\n",
        "print(\"y test dimensión:{}\".format(test_y.shape))\n"
      ],
      "execution_count": null,
      "outputs": [
        {
          "output_type": "stream",
          "text": [
            "X train dimensión:(142, 13)\n",
            "X test dimensión:(36, 13)\n",
            "y train dimensión:(142,)\n",
            "y test dimensión:(36,)\n"
          ],
          "name": "stdout"
        }
      ]
    },
    {
      "cell_type": "markdown",
      "metadata": {
        "id": "h6Q4G3z5DRcg"
      },
      "source": [
        "<FONT FACE=\"times new roman\" SIZE=4>**3.4** Se elabora la clase $vecinos$ (1 vecino) con métodos de $aprendizaje$ y $clasificar$ para el desarrollo del método de vecinos más cercanos"
      ]
    },
    {
      "cell_type": "code",
      "metadata": {
        "id": "16inwgDZuvCL",
        "colab": {
          "base_uri": "https://localhost:8080/"
        },
        "outputId": "3266206f-1009-4467-ae6c-035a908cff3f"
      },
      "source": [
        "#Se realiza la clase vecinos\n",
        "class vecinos():\n",
        "  def __init__(self,k=3):\n",
        "    self.k=k #constante global\n",
        "  #Almacena los puntos y los relaciona con la clasificación de vinos \n",
        "  def aprendizaje (self,X_tr,y_tr): \n",
        "    self.X=X_tr\n",
        "    self.y=y_tr\n",
        "    self.n_puntos=X_tr.shape[0]\n",
        "  \n",
        "  #Se clasifican los datos de prueba (Aquellos que aún no conocen el modelo)\n",
        "  def clasificar(self,X_ts):\n",
        "    #Para almacenar las clases\n",
        "    clasificacion=[] \n",
        "    for i in range (X_ts.shape[0]):\n",
        "      distancia=np.empty(self.n_puntos)\n",
        "      \n",
        "      #Para cada punto se calcula su distancia Euclidiana\n",
        "      for n in range (self.n_puntos): \n",
        "        distancia[n]=dEuclidiana(self.X[n],X_ts[i])\n",
        "      \n",
        "      #Distancias (vecinos) más cercanas, el metodo argsort ordena los elementos de un arreglo\n",
        "      k_distancia=np.argsort(distancia)\n",
        "\n",
        "      #Clasificación de los vinos\n",
        "      k_etiqueta=self.y[k_distancia[:self.k]]\n",
        "\n",
        "      #Etiqueta o clase más común, la que domina en la clasificación\n",
        "      c=Counter(k_etiqueta).most_common(1)\n",
        "\n",
        "      #Se agrega al vector de clasificación\n",
        "      clasificacion.append(c[0][0])\n",
        "    return clasificacion\n",
        "\n",
        "#Aplicando la fórmula de la distancia Euclidiana:\n",
        "def dEuclidiana(x,y):\n",
        "  return np.sqrt(np.sum((x-y)**2))\n",
        "\n",
        "#Aplicando los métodos\n",
        "clasificador=vecinos(1)\n",
        "clasificador.aprendizaje(train_x,train_y)\n",
        "resulKNN=clasificador.clasificar(test_x)\n",
        "\n",
        "#Comparación entre los modelos\n",
        "print(\"Ejercicio con modelo desde cero    \",resulKNN)\n",
        "print(\"Ejercicio con modelo de scikitlearn\",modeloKNN.predict(test_x))\n",
        "\n",
        "\n"
      ],
      "execution_count": null,
      "outputs": [
        {
          "output_type": "stream",
          "text": [
            "Ejercicio con modelo desde cero     [0, 0, 2, 2, 2, 0, 0, 0, 2, 0, 2, 0, 0, 1, 1, 1, 1, 1, 2, 1, 1, 1, 1, 2, 1, 1, 1, 2, 2, 2, 1, 1, 2, 2, 2, 1]\n",
            "Ejercicio con modelo de scikitlearn [0 0 0 0 0 0 0 0 0 0 1 1 1 1 1 1 1 1 1 1 1 1 1 2 1 1 1 2 2 2 2 1 2 2 2 2]\n"
          ],
          "name": "stdout"
        }
      ]
    },
    {
      "cell_type": "markdown",
      "metadata": {
        "id": "Y7x3oPXYD2iu"
      },
      "source": [
        "<FONT FACE=\"times new roman\" SIZE=4>**3.5** Se realiza la respectiva gráfica"
      ]
    },
    {
      "cell_type": "code",
      "metadata": {
        "colab": {
          "base_uri": "https://localhost:8080/",
          "height": 621
        },
        "id": "auZfDhRgD1jz",
        "outputId": "93eb28ca-d3a5-4b0f-ba55-ee848fd2ed5e"
      },
      "source": [
        "labels = []\n",
        "fig= plt.subplots(1,figsize=(15,10))\n",
        "for i in range (train_x.shape[0]):\n",
        "    if train_y[i]==0:\n",
        "      marcar='^'\n",
        "      color='red'\n",
        "      label = 'Class 0'\n",
        "    elif train_y[i]==1:\n",
        "      marcar='o'\n",
        "      color='blue'\n",
        "      label = 'Class 1'\n",
        "    else:\n",
        "      marcar='*'\n",
        "      color='black'\n",
        "      label = 'Class 2'\n",
        "    if labels.count(label) == 0:\n",
        "       plt.scatter(x=train_x[i,4],y=train_x[i,0],c=color,s=100, marker=marcar, alpha = 0.7, label = label)\n",
        "       labels.append(label)\n",
        "    else:\n",
        "       plt.scatter(x=train_x[i,4],y=train_x[i,0],c=color,s=100, marker=marcar, alpha = 0.7)\n",
        "\n",
        "for i in range (test_x.shape[0]):\n",
        "    label = 'dato de prueba'\n",
        "    if labels.count(label) == 0:\n",
        "      plt.scatter(x=test_x[i, 4],y=test_x[i,0],c='green',s=100, marker='o', alpha = 0.5, label = label)\n",
        "      labels.append(label)\n",
        "    else:\n",
        "      plt.scatter(x=test_x[i, 4],y=test_x[i,0],c='green',s=100, marker='o', alpha = 0.5)\n",
        "\n",
        "plt.xlabel(\"X1\")\n",
        "plt.ylabel(\"X2\")\n",
        "plt.xlim(70,170)\n",
        "plt.legend()\n",
        "plt.title(\"K vecinos más cercanos\")\n",
        "plt.show()"
      ],
      "execution_count": null,
      "outputs": [
        {
          "output_type": "display_data",
          "data": {
            "image/png": "[encoded data removed]",
            "text/plain": [
              "<Figure size 1080x720 with 1 Axes>"
            ]
          },
          "metadata": {
            "tags": [],
            "needs_background": "light"
          }
        }
      ]
    },
    {
      "cell_type": "markdown",
      "metadata": {
        "id": "XiV19VowDwtp"
      },
      "source": [
        "<FONT FACE=\"times new roman\" SIZE=4>**3.6** Se comparan los resultados obtenidos para conocer su precisión"
      ]
    },
    {
      "cell_type": "code",
      "metadata": {
        "id": "cMwib4_aaz8P",
        "colab": {
          "base_uri": "https://localhost:8080/"
        },
        "outputId": "a2f01274-9384-4456-8d18-816b094e7fc2"
      },
      "source": [
        "print(\"La puntuación (score) del conjunto de pruebas de la predicción: {:.2f}\".format(np.mean(resulKNN == test_y)))\n",
        "#Se obtiene una precisión ligeramente buena"
      ],
      "execution_count": null,
      "outputs": [
        {
          "output_type": "stream",
          "text": [
            "La puntuación (score) del conjunto de pruebas de la predicción: 0.67\n"
          ],
          "name": "stdout"
        }
      ]
    },
    {
      "cell_type": "markdown",
      "metadata": {
        "id": "bneH8KLVZZO2"
      },
      "source": [
        "<FONT FACE=\"times new roman\" SIZE=4>**3.7** Por último se desea realizar comparaciones con modelo implementado desde cero y con KNeighborsClassifier, cambiando el número de vecinos "
      ]
    },
    {
      "cell_type": "code",
      "metadata": {
        "colab": {
          "base_uri": "https://localhost:8080/"
        },
        "id": "F0THBVDLfpSz",
        "outputId": "104edf04-e954-4a05-924c-efb145a0a3aa"
      },
      "source": [
        "#Modelo con la biblioteca de sklearn\n",
        "from sklearn.neighbors import KNeighborsClassifier\n",
        "for k in range (1,6):\n",
        "  modeloKNN=KNeighborsClassifier(n_neighbors=k)\n",
        "  modeloKNN.fit(X_train,y_train)#ajustar el modelo\n",
        "  score=modeloKNN.score(X_test,y_test)\n",
        "  print(\"La puntuación con\",k,\"vecino(s) es de\", round(score,3))\n",
        "\n",
        "#La precisión aumenta con el número de vecinos"
      ],
      "execution_count": null,
      "outputs": [
        {
          "output_type": "stream",
          "text": [
            "La puntuación con 1 vecino(s) es de 0.778\n",
            "La puntuación con 2 vecino(s) es de 0.75\n",
            "La puntuación con 3 vecino(s) es de 0.778\n",
            "La puntuación con 4 vecino(s) es de 0.75\n",
            "La puntuación con 5 vecino(s) es de 0.806\n"
          ],
          "name": "stdout"
        }
      ]
    },
    {
      "cell_type": "code",
      "metadata": {
        "colab": {
          "base_uri": "https://localhost:8080/"
        },
        "id": "AKXz5ilxgpCf",
        "outputId": "c47087a2-ad49-4952-8d66-9160d8893e8d"
      },
      "source": [
        "#Modelo desde 0\n",
        "for k in range (1,6):\n",
        "  clasificador=vecinos(k)\n",
        "  clasificador.aprendizaje(train_x,train_y)\n",
        "  resulKNN=clasificador.clasificar(test_x)\n",
        "  print(\"La puntuación con\",k,\"vecino(s) del conjunto de pruebas de la predicción: {:.2f}\".format(np.mean(resulKNN == test_y)))\n",
        "\n",
        "#La precisión es mejor con menos vecinos\n",
        "\n",
        "#El algoritmo de K vecinos más cercanos es sencillo de implementar, pero es poco eficiente debido a que usa todos los datos para medir la \n",
        "#cercanía entre los puntos (distancia Euclidiana), razón por la que su precisión no es la mejor al tratarse de muchas características\n"
      ],
      "execution_count": null,
      "outputs": [
        {
          "output_type": "stream",
          "text": [
            "La puntuación con 1 vecino(s) del conjunto de pruebas de la predicción: 0.67\n",
            "La puntuación con 2 vecino(s) del conjunto de pruebas de la predicción: 0.67\n",
            "La puntuación con 3 vecino(s) del conjunto de pruebas de la predicción: 0.64\n",
            "La puntuación con 4 vecino(s) del conjunto de pruebas de la predicción: 0.61\n",
            "La puntuación con 5 vecino(s) del conjunto de pruebas de la predicción: 0.58\n"
          ],
          "name": "stdout"
        }
      ]
    },
    {
      "cell_type": "markdown",
      "metadata": {
        "id": "FaA_qfO4f9RF"
      },
      "source": [
        "<FONT FACE=\"times new roman\" SIZE=4>**3.8** Se realizó un entrenamiento de los datos disminuyendo el número de características (de 13 a 5) "
      ]
    },
    {
      "cell_type": "code",
      "metadata": {
        "colab": {
          "base_uri": "https://localhost:8080/"
        },
        "id": "fY0E7G0Hf95H",
        "outputId": "f1e4b1de-8a31-429d-f7df-724338a6c3ae"
      },
      "source": [
        "prob2 = np.array(wineDataframe[['alcohol', 'total_phenols', 'flavanoids', 'color_intensity','proline']])\n",
        "np.random.seed(1)\n",
        "msk = np.random.rand(len(wine.data)) < 0.8\n",
        "train_x = prob2[msk]\n",
        "test_x = prob2[~msk]\n",
        "print(\"X train dimensión:{}\".format(train_x.shape))\n",
        "print(\"X test dimensión:{}\".format(test_x.shape))"
      ],
      "execution_count": null,
      "outputs": [
        {
          "output_type": "stream",
          "text": [
            "X train dimensión:(142, 5)\n",
            "X test dimensión:(36, 5)\n"
          ],
          "name": "stdout"
        }
      ]
    },
    {
      "cell_type": "code",
      "metadata": {
        "colab": {
          "base_uri": "https://localhost:8080/"
        },
        "id": "TA-GGgklmXdG",
        "outputId": "60821815-0b14-46a6-bd5e-7b37cb296750"
      },
      "source": [
        "#Con k = 2\n",
        "clasificador=vecinos(2)\n",
        "clasificador.aprendizaje(train_x,train_y)\n",
        "resultado=np.array(clasificador.clasificar(test_x))\n",
        "print(\"Resultado con 2 vecinos usando la segunda configuracion de modelo k vecinos: \\n\",resultado)\n",
        "print(\"Valores reales: \\n\",np.array(test_y))\n",
        "print(\"Precision del modelo: \\n\",str(round(np.mean(resultado == test_y),3)))"
      ],
      "execution_count": null,
      "outputs": [
        {
          "output_type": "stream",
          "text": [
            "Resultado con 2 vecinos usando la segunda configuracion de modelo k vecinos: \n",
            " [0 2 0 0 2 0 0 0 2 0 1 0 0 1 1 1 1 1 1 1 1 1 1 2 1 1 1 2 2 1 1 2 2 2 1 1]\n",
            "Valores reales: \n",
            " [0 0 0 0 0 0 0 0 0 0 1 1 1 1 1 1 1 1 1 1 1 1 1 1 1 1 1 2 2 2 2 2 2 2 2 2]\n",
            "Precision del modelo: \n",
            " 0.722\n"
          ],
          "name": "stdout"
        }
      ]
    },
    {
      "cell_type": "code",
      "metadata": {
        "colab": {
          "base_uri": "https://localhost:8080/"
        },
        "id": "q_wN8Aewmft_",
        "outputId": "15973d80-3b28-4c5f-ce44-a26400844e40"
      },
      "source": [
        "#Probando diferentes valores de k\n",
        "precision = []\n",
        "for k in range (1,10):\n",
        "  clasificador=vecinos(k)\n",
        "  clasificador.aprendizaje(train_x,train_y)\n",
        "  resulKNN=np.array(clasificador.clasificar(test_x))\n",
        "  precision.append(round(np.mean(resulKNN == test_y),3))\n",
        "\n",
        "print(precision)"
      ],
      "execution_count": null,
      "outputs": [
        {
          "output_type": "stream",
          "text": [
            "[0.722, 0.722, 0.694, 0.611, 0.611, 0.611, 0.583, 0.583, 0.556]\n"
          ],
          "name": "stdout"
        }
      ]
    },
    {
      "cell_type": "code",
      "metadata": {
        "colab": {
          "base_uri": "https://localhost:8080/",
          "height": 297
        },
        "id": "2GNclY9YmkYK",
        "outputId": "5922bb36-b9e9-47be-fc50-059365acb0f3"
      },
      "source": [
        "#Mirando cual es el k mas preciso\n",
        "plt.plot(range(1,10),precision,'g')\n",
        "plt.title(\"Precisión del modelo de acuerdo al número de k\")\n",
        "plt.legend(('Certeza ', '+/- 3xstd'))\n",
        "plt.ylabel('Certeza ')\n",
        "plt.xlabel('Número de Vecinos (K)')\n",
        "#tight_layout ajusta los parametros del grafico relacionados con la distribucion correcta de los ejes titulos\n",
        "plt.tight_layout()\n",
        "plt.show()"
      ],
      "execution_count": null,
      "outputs": [
        {
          "output_type": "display_data",
          "data": {
            "image/png": "[encoded data removed]",
            "text/plain": [
              "<Figure size 432x288 with 1 Axes>"
            ]
          },
          "metadata": {
            "tags": [],
            "needs_background": "light"
          }
        }
      ]
    },
    {
      "cell_type": "code",
      "metadata": {
        "colab": {
          "base_uri": "https://localhost:8080/"
        },
        "id": "tMOhY2XNmnjZ",
        "outputId": "dcd0b35a-6197-4a51-a420-22d35b7362ee"
      },
      "source": [
        "precision = np.array(precision)\n",
        "print( \"La mejor aproximación de certeza fue con \", precision.max(), \"con k=\", precision.argmax()+1)"
      ],
      "execution_count": null,
      "outputs": [
        {
          "output_type": "stream",
          "text": [
            "La mejor aproximación de certeza fue con  0.722 con k= 1\n"
          ],
          "name": "stdout"
        }
      ]
    },
    {
      "cell_type": "code",
      "metadata": {
        "colab": {
          "base_uri": "https://localhost:8080/"
        },
        "id": "1TAukfi5ngbw",
        "outputId": "e996b1f7-0afd-4a1a-9b7f-49a606f7a30f"
      },
      "source": [
        "#Concatenar los valores de y de entrenamiento con los resultados obtenidos mediante prediccion para graficar\n",
        "resul = np.concatenate((train_y, resultado))\n",
        "print(resul.shape)"
      ],
      "execution_count": null,
      "outputs": [
        {
          "output_type": "stream",
          "text": [
            "(178,)\n"
          ],
          "name": "stdout"
        }
      ]
    },
    {
      "cell_type": "code",
      "metadata": {
        "colab": {
          "base_uri": "https://localhost:8080/",
          "height": 621
        },
        "id": "RdNGAEibt8ea",
        "outputId": "16bc703c-d87d-4fe8-c260-6cba154d2354"
      },
      "source": [
        "labels = []\n",
        "fig= plt.subplots(1,figsize=(15,10))\n",
        "for i in range (train_x.shape[0]):\n",
        "    if train_y[i]==0:\n",
        "      marcar='^'\n",
        "      color='red'\n",
        "      label = 'Class 0'\n",
        "    elif train_y[i]==1:\n",
        "      marcar='o'\n",
        "      color='blue'\n",
        "      label = 'Class 1'\n",
        "    else:\n",
        "      marcar='*'\n",
        "      color='black'\n",
        "      label = 'Class 2'\n",
        "    if labels.count(label) == 0:\n",
        "       plt.scatter(x=train_x[i,2],y=train_x[i,0],c=color,s=100, marker=marcar, alpha = 0.7, label = label)\n",
        "       labels.append(label)\n",
        "    else:\n",
        "       plt.scatter(x=train_x[i,2],y=train_x[i,0],c=color,s=100, marker=marcar, alpha = 0.7)\n",
        "\n",
        "for i in range (test_x.shape[0]):\n",
        "    label = 'Dato de prueba'\n",
        "    if labels.count(label) == 0:\n",
        "      plt.scatter(x=test_x[i, 2],y=test_x[i,0],c='green',s=100, marker='+', label = label)\n",
        "      labels.append(label)\n",
        "    else:\n",
        "      plt.scatter(x=test_x[i, 2],y=test_x[i,0],c='green',s=100, marker='+')\n",
        "\n",
        "plt.xlabel(\"X1\")\n",
        "plt.ylabel(\"X2\")\n",
        "plt.legend()\n",
        "plt.title(\"Datos a clasificar\")\n",
        "plt.show()"
      ],
      "execution_count": null,
      "outputs": [
        {
          "output_type": "display_data",
          "data": {
            "image/png": "[encoded data removed]",
            "text/plain": [
              "<Figure size 1080x720 with 1 Axes>"
            ]
          },
          "metadata": {
            "tags": [],
            "needs_background": "light"
          }
        }
      ]
    },
    {
      "cell_type": "code",
      "metadata": {
        "colab": {
          "base_uri": "https://localhost:8080/",
          "height": 621
        },
        "id": "Q01q-Supt-wi",
        "outputId": "b1b43ce6-5a07-4bb1-e41e-b407174bdd24"
      },
      "source": [
        "labels = []\n",
        "fig= plt.subplots(1,figsize=(15,10))\n",
        "for i in range (prob2.shape[0]):\n",
        "    if resul[i]==0:\n",
        "      marcar='^'\n",
        "      color='red'\n",
        "      label = 'Class 0'\n",
        "    elif  resul[i]==1:\n",
        "      marcar='o'\n",
        "      color='blue'\n",
        "      label = 'Class 1'\n",
        "    else:\n",
        "      marcar='*'\n",
        "      color='black'\n",
        "      label = 'Class 2'\n",
        "    if labels.count(label) == 0:\n",
        "       plt.scatter(x=prob2[i,2],y=prob2[i,0],c=color,s=100, marker=marcar, alpha = 0.7, label = label)\n",
        "       labels.append(label)\n",
        "    else:\n",
        "       plt.scatter(x=prob2[i,2],y=prob2[i,0],c=color,s=100, marker=marcar, alpha = 0.7)\n",
        "\n",
        "plt.xlabel(\"X1\")\n",
        "plt.ylabel(\"X2\")\n",
        "plt.legend()\n",
        "plt.title(\"Clasificacion con k= 2\")\n",
        "plt.show()\n",
        "#En definitiva vemos como al disminuir el numero de caracteristicas para entrenar el modelo, este da un resultado más efectivo "
      ],
      "execution_count": null,
      "outputs": [
        {
          "output_type": "display_data",
          "data": {
            "image/png": "[encoded data removed]",
            "text/plain": [
              "<Figure size 1080x720 with 1 Axes>"
            ]
          },
          "metadata": {
            "tags": [],
            "needs_background": "light"
          }
        }
      ]
    }
  ]
}